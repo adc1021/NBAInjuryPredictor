{
 "cells": [
  {
   "cell_type": "markdown",
   "id": "a86ae720",
   "metadata": {},
   "source": [
    "![](injury.jpeg)\n"
   ]
  },
  {
   "cell_type": "markdown",
   "id": "d1bc3925",
   "metadata": {},
   "source": [
    "Contents\n",
    "\n",
    "1. [Introduction](#1-introduction)  \n",
    "1.1 [Background](#11-background)  \n",
    "1.2 [Objectives](#12-objectives)\n",
    "2. [Data Preparation](#2-data-preparation)  \n",
    "2.1 [Imports](#21-imports)  \n",
    "2.2 [Google Cloud Storage](#22-GCS)  \n",
    "2.3 [Dataframe Construction & Data Cleaning](#23-dfc&dc)  \n",
    "2.4 [Feature Correlations](#24-ft_corr)\n",
    "3. [Model Development](#3-MD).  \n",
    "3.1[Training the Model](#31-TM)  \n",
    "3.2[Plotting the Model](#32-PM)  \n",
    "4. [Model Testing](#4-MT)  \n",
    "4.1 [Plotting the Test Results](#4.1-PTR)  \n",
    "5. [Outlier Handling](#5-OH)\n",
    "6. [Conclusion](#6-Conc)\n",
    "        "
   ]
  },
  {
   "cell_type": "markdown",
   "id": "5b1571d1",
   "metadata": {},
   "source": [
    "##  Introduction"
   ]
  },
  {
   "cell_type": "markdown",
   "id": "4bc2ffa1",
   "metadata": {},
   "source": [
    "### Background\n",
    "<a id=\"11-background\"><a>"
   ]
  },
  {
   "cell_type": "markdown",
   "id": "a77cd12e",
   "metadata": {},
   "source": [
    "The National Basketball Association (NBA) is one of the most popular and competitive professional sports leagues globally, captivating millions of fans with its fast-paced action and exceptional athleticism. However, along with the excitement and intensity of the game, player injuries have become a significant concern for teams, players, and fans alike.\n",
    "\n",
    "Understanding and predicting the number of injuries that occur in the NBA year over year has become a crucial area of research and analysis. The impact of injuries goes beyond individual players, as it can significantly influence team performance, game strategies, and overall league dynamics. Building a predictive model for NBA injuries aims to gain valuable insights into injury patterns, risk factors, and the potential impact on team dynamics.\n",
    "\n",
    "The importance of such a predictive model lies in its ability to assist various stakeholders in the NBA ecosystem. Team management can use the model to proactively manage player workload, optimize training and recovery protocols, and minimize injury risks. Coaches can adjust game strategies and rotations based on injury predictions, aiming to maximize player availability and team performance. Additionally, players themselves can benefit from injury forecasting by adopting personalized training programs and injury prevention measures.\n",
    "\n",
    "Furthermore, the predictive model contributes to the broader field of sports science and sports medicine. By analyzing historical injury data and identifying factors that contribute to injuries, valuable insights can be gained into injury prevention, rehabilitation techniques, and overall player health and well-being.\n",
    "\n",
    "By leveraging advanced data analysis and machine learning techniques, a robust predictive model for NBA injuries has been developed. This model considers various factors such as player workload, playing style, previous injury history, game schedule, and other relevant variables to forecast the likelihood of injuries occurring throughout the season. The model's predictions provide valuable information for teams, coaches, and players, enabling them to make data-driven decisions to enhance player safety, optimize performance, and ultimately elevate the overall quality of the NBA game.\n",
    "\n",
    "Through this research, efforts have been made to contribute to the ongoing initiatives of the NBA and the sports community as a whole in promoting player health, reducing injury rates, and fostering a more sustainable and competitive environment."
   ]
  },
  {
   "cell_type": "markdown",
   "id": "8ed75ece",
   "metadata": {},
   "source": [
    "### Objectives\n",
    "<a id=\"12-objectives\"></a>"
   ]
  },
  {
   "cell_type": "markdown",
   "id": "ba465b2c",
   "metadata": {},
   "source": [
    "The objectives of the NBA injury predictive model are twofold. Firstly, the model aims to accurately predict the total number of injuries that will occur in the NBA during a calendar season. By training the model on historical injury data and leveraging advanced machine learning techniques, it strives to provide reliable forecasts that can assist teams, coaches, and players in proactive injury management and planning.\n",
    "\n",
    "Secondly, the model seeks to gain insights into the factors that have the greatest impact on the overall number of injuries in the NBA. These insights can contribute to a better understanding of injury risk factors and inform strategies for injury prevention and player safety.\n",
    "\n"
   ]
  },
  {
   "cell_type": "markdown",
   "id": "4e013f3c",
   "metadata": {},
   "source": [
    "## Data Preparation\n",
    "<a id=\"2-data-preparation\"></a>"
   ]
  },
  {
   "cell_type": "markdown",
   "id": "1eb7c953",
   "metadata": {},
   "source": [
    "### Imports\n",
    "<a id=\"21-imports\"></a>"
   ]
  },
  {
   "cell_type": "code",
   "execution_count": 1,
   "id": "c731a143",
   "metadata": {},
   "outputs": [],
   "source": [
    "import pandas as pd\n",
    "import seaborn as sns\n",
    "import matplotlib as mpl\n",
    "import matplotlib.pyplot as plt\n",
    "import sklearn\n",
    "from sklearn.preprocessing import LabelEncoder\n",
    "import numpy as np\n",
    "from sklearn.model_selection import train_test_split\n",
    "from sklearn.linear_model import LinearRegression\n",
    "from sklearn.ensemble import RandomForestClassifier\n",
    "from sklearn.metrics import roc_auc_score \n",
    "from sklearn.linear_model import Ridge\n",
    "from sklearn.metrics import mean_squared_error, r2_score\n",
    "import matplotlib.ticker as ticker\n",
    "import rpy2.robjects as robjects\n",
    "from rpy2.robjects.packages import importr\n",
    "from rpy2.robjects import pandas2ri\n"
   ]
  },
  {
   "cell_type": "markdown",
   "id": "76b2daa7",
   "metadata": {},
   "source": [
    "### Google Cloud Storage\n",
    "<a id=\"22-GCS\"><a>"
   ]
  },
  {
   "cell_type": "code",
   "execution_count": 2,
   "id": "050fb696",
   "metadata": {},
   "outputs": [],
   "source": [
    "from google.cloud import storage\n",
    "import io\n",
    "key_path = \"/Users/antho/Documents/GCP/nba-injury-forecasting-59f4078886ad.json\"\n",
    "client = storage.Client.from_service_account_json(key_path)"
   ]
  },
  {
   "cell_type": "code",
   "execution_count": 3,
   "id": "424245f9",
   "metadata": {},
   "outputs": [],
   "source": [
    "bucket_name = 'nba-data-2023-v2'\n",
    "bucket = client.get_bucket(bucket_name)"
   ]
  },
  {
   "cell_type": "code",
   "execution_count": 4,
   "id": "fecb0dd4",
   "metadata": {},
   "outputs": [],
   "source": [
    "injData = 'Injuries.csv'\n",
    "blob = bucket.blob(injData)\n",
    "blob.download_to_filename(injData)\n",
    "injuryData = pd.read_csv(injData)"
   ]
  },
  {
   "cell_type": "code",
   "execution_count": 5,
   "id": "58a8f559",
   "metadata": {},
   "outputs": [],
   "source": [
    "# Download and store the data from AverageTravel.csv, AveragePlayerAge.csv, and NBASalaries.csv\n",
    "blob_travel = bucket.blob('AverageTravel.csv')\n",
    "content_travel = blob_travel.download_as_text()\n",
    "annual_travel = pd.read_csv(io.StringIO(content_travel))\n",
    "\n",
    "blob_age = bucket.blob('AveragePlayerAge.csv')\n",
    "content_age = blob_age.download_as_text()\n",
    "average_age = pd.read_csv(io.StringIO(content_age))\n",
    "\n",
    "blob_salary = bucket.blob('NBASalaries.csv')\n",
    "content_salary = blob_salary.download_as_text()\n",
    "average_salary = pd.read_csv(io.StringIO(content_salary))"
   ]
  },
  {
   "cell_type": "markdown",
   "id": "2d5762d7",
   "metadata": {},
   "source": [
    "### Dataframe Construction & Data Cleaning\n",
    "<a id=\"23-dfc&dc\"></a>"
   ]
  },
  {
   "cell_type": "code",
   "execution_count": 6,
   "id": "5a06ffc1",
   "metadata": {},
   "outputs": [],
   "source": [
    "injuryData.rename(columns={'Unnamed: 0': 'ID'}, inplace=True)\n",
    "injuryData.rename(columns={'Notes': 'Injury Type'}, inplace=True)\n",
    "injuryData.rename(columns={'Relinquished': 'Player'}, inplace=True)"
   ]
  },
  {
   "cell_type": "code",
   "execution_count": 7,
   "id": "909ac144",
   "metadata": {},
   "outputs": [],
   "source": [
    "# Setting the objects in the column to a pandas datetime object\n",
    "injuryData['Date'] = pd.to_datetime(injuryData['Date'])\n",
    "\n",
    "#Grouping rows by 'decade' column\n",
    "injuryData['Year'] = (injuryData['Date'].dt.year)"
   ]
  },
  {
   "cell_type": "markdown",
   "id": "bfe853a3",
   "metadata": {},
   "source": [
    ">__Let's now remove all rows where the players have been acquired back from the IL__\n"
   ]
  },
  {
   "cell_type": "code",
   "execution_count": 8,
   "id": "5c337a2c",
   "metadata": {},
   "outputs": [],
   "source": [
    "# Removing the Acquired column removes all duplicates \n",
    "injuryData = injuryData[injuryData['Acquired'].isna()]\n",
    "del injuryData['Acquired']"
   ]
  },
  {
   "cell_type": "markdown",
   "id": "d5baac7a",
   "metadata": {},
   "source": [
    "> __Now let's calculate the total sum of injuries for each Year__\n",
    "\n",
    " > ** *It is important to note that the NBA did not have and IR/IL until the 1989-1990 season. Prior to this injured players were still members of the active roster. For this reason, it's likely many injuries do not appear in the dataset.*"
   ]
  },
  {
   "cell_type": "code",
   "execution_count": null,
   "id": "1b1e6845",
   "metadata": {},
   "outputs": [],
   "source": [
    "# We only want to include data from the years after 1989 \n",
    "yearly_injuries = {}\n",
    "total_injuries = 0\n",
    "for year, group in injuryData.groupby('Year'):\n",
    "    if year > 1989: \n",
    "        injuries = group.shape[0]\n",
    "        yearly_injuries[year] = injuries\n",
    "        total_injuries += injuries"
   ]
  },
  {
   "cell_type": "markdown",
   "id": "6f0abff6",
   "metadata": {},
   "source": [
    "> **Prior to the 2015 season, teams in the NBA were only allowed 12 men on their active roster**"
   ]
  },
  {
   "cell_type": "code",
   "execution_count": null,
   "id": "0f4e3b37",
   "metadata": {},
   "outputs": [],
   "source": [
    "# Adding total number of players in the League per year\n",
    "df = pd.DataFrame(yearly_injuries.items(), columns=['Year', 'Injuries'])\n",
    "df['Players'] = np.where(df['Year'].astype(int) <= 2015, 354, 450)\n",
    "#Turning the total number of players feature into binary values \n",
    "df['Players'] = df['Players'].apply(lambda x: 0 if x == 354 else 1)\n",
    "df['isleagueExpansion'] = np.where(df['Year']<=2004, 0, 1)\n",
    "df['Players'] = df['Players'].astype(int)"
   ]
  },
  {
   "cell_type": "code",
   "execution_count": null,
   "id": "f32e33ef",
   "metadata": {},
   "outputs": [],
   "source": [
    "# adding all the data from outside data sources to the Dataframe\n",
    "df = pd.concat([df, annual_travel['Miles Traveled']], axis=1)\n",
    "df = pd.concat([df, average_age['Average Age']], axis = 1)\n",
    "df = pd.concat([df, average_salary['salary']], axis = 1)"
   ]
  },
  {
   "cell_type": "code",
   "execution_count": null,
   "id": "85aeed35",
   "metadata": {},
   "outputs": [],
   "source": [
    "# adding the total number of games played in the NBA each year to the Dataframe\n",
    "def get_games_played(df):\n",
    "\n",
    "    games_played = {\n",
    "      year: 6620\n",
    "      for year in range(1990, 2024)\n",
    "  }\n",
    "\n",
    "  # the following seasons were shortened due to either lockout(1999, 2011) or COVID-19(2020-2021)\n",
    "    games_played[1999] = 4100\n",
    "    games_played[2011] = 4096\n",
    "    games_played[2020] = 4384\n",
    "    games_played[2021] = 4384\n",
    "    df['Games Played'] = df.Year.map(games_played)\n",
    "    df['Games Played'] = df['Games Played'].astype(int)\n",
    "\n",
    "get_games_played(df)"
   ]
  },
  {
   "cell_type": "markdown",
   "id": "f64c9ac3",
   "metadata": {},
   "source": [
    "> **A feature needs to be added to account for the shortened seasons due to lockouts and the COVID-19 virus**"
   ]
  },
  {
   "cell_type": "code",
   "execution_count": null,
   "id": "f48e649e",
   "metadata": {},
   "outputs": [],
   "source": [
    "# add feature for injuries in the previous season\n",
    "df['prevYrINJ'] = df['Injuries'].shift(1)\n",
    "df['prevYrINJ'].fillna(0, inplace=True)\n",
    "df['prevYrINJ'] = df['prevYrINJ'].astype(int)\n",
    "df.loc[0, 'prevYrINJ'] = 64"
   ]
  },
  {
   "cell_type": "markdown",
   "id": "4aa13324",
   "metadata": {},
   "source": [
    "### Feature Scaling"
   ]
  },
  {
   "cell_type": "code",
   "execution_count": null,
   "id": "71f37af8",
   "metadata": {},
   "outputs": [],
   "source": [
    "# Adding feature to account for a shortened season(lockouts and COVID-19 years)\n",
    "df['Shortened Season'] = np.where(df['Year'].isin([1999, 2011, 2020, 2021]), 1, 0)\n",
    "df"
   ]
  },
  {
   "cell_type": "markdown",
   "id": "3081ebc3",
   "metadata": {},
   "source": [
    ">  **To prevent larger values from skewing the model I will be using max-min normalization to set all feature values between 0 and 1**"
   ]
  },
  {
   "cell_type": "code",
   "execution_count": null,
   "id": "2c8df499",
   "metadata": {
    "scrolled": true
   },
   "outputs": [],
   "source": [
    "from sklearn.preprocessing import MinMaxScaler\n",
    "\n",
    "def min_max_scaling(df):\n",
    "    # copy the dataframe\n",
    "    df_norm = df.copy()\n",
    "    scaling_params = {}\n",
    "    # apply min-max scaling\n",
    "    for column in df_norm.columns:\n",
    "        if column != 'Year':\n",
    "            # Store scaling parameters for each column\n",
    "            min_val = df_norm[column].min()\n",
    "            max_val = df_norm[column].max()\n",
    "            scaling_params[column] = {'min_val': min_val, 'max_val': max_val}\n",
    "            df_norm[column] = (df_norm[column] - df_norm[column].min()) / (df_norm[column].max() - df_norm[column].min())\n",
    "        \n",
    "    return df_norm, scaling_params\n",
    "    \n",
    "# call the min_max_scaling function\n",
    "df, scaling_params = min_max_scaling(df)\n",
    "\n",
    "# df_scaled contains the min-max scaled dataframe\n"
   ]
  },
  {
   "cell_type": "markdown",
   "id": "793b4498",
   "metadata": {},
   "source": [
    "### Feature Correlations\n",
    "<a id=\"24-ft_corr\"></a>"
   ]
  },
  {
   "cell_type": "code",
   "execution_count": null,
   "id": "021f647e",
   "metadata": {},
   "outputs": [],
   "source": [
    "# calculating the correlation for the two features I will use to train my model\n",
    "features = ['Players', 'Games Played', 'Miles Traveled', 'Shortened Season', 'Average Age', 'salary', 'prevYrINJ']\n",
    "\n",
    "for feature in features:\n",
    "    correlation = df[feature].corr(df['Injuries'])\n",
    "    print(f\"{feature} feature: {correlation}\")\n"
   ]
  },
  {
   "cell_type": "markdown",
   "id": "69911a44",
   "metadata": {},
   "source": [
    "## Model Development"
   ]
  },
  {
   "cell_type": "markdown",
   "id": "458cf6c1",
   "metadata": {},
   "source": [
    "### Training the Model"
   ]
  },
  {
   "cell_type": "code",
   "execution_count": null,
   "id": "5de268d0",
   "metadata": {},
   "outputs": [],
   "source": [
    "df.head()"
   ]
  },
  {
   "cell_type": "code",
   "execution_count": null,
   "id": "1543fb3d",
   "metadata": {},
   "outputs": [],
   "source": [
    "#Using Linear Regression function to fit our model\n",
    "train_data = df[:26]\n",
    "\n",
    "X_train = np.array(train_data[['Players', 'Games Played', 'Miles Traveled', 'Shortened Season', 'Average Age', 'salary', 'prevYrINJ']])\n",
    "y_train = train_data['Injuries']\n",
    "reg = LinearRegression()\n",
    "\n",
    "\n",
    "fit_model = reg.fit(X_train, y_train)\n",
    "print(df.shape)\n",
    "X_train.shape\n"
   ]
  },
  {
   "cell_type": "code",
   "execution_count": null,
   "id": "21a575e5",
   "metadata": {},
   "outputs": [],
   "source": [
    "# using a scikit-learn attribute, the coef represents the wieghts assigned to different features \n",
    "print(f\"The Weight of feature(s): {fit_model.coef_}\")"
   ]
  },
  {
   "cell_type": "code",
   "execution_count": null,
   "id": "bca11bce",
   "metadata": {},
   "outputs": [],
   "source": [
    "# getting the intercept(bias) for our fitted model\n",
    "print(f\"The Bias of the model: {fit_model.intercept_}\")"
   ]
  },
  {
   "cell_type": "code",
   "execution_count": null,
   "id": "f50a5b73",
   "metadata": {},
   "outputs": [],
   "source": [
    "# Adding our insample prediction for each year to our training data set\n",
    "train_data.loc[:, 'prediction_insample'] = fit_model.predict(X_train).copy()\n",
    "train_data.head()"
   ]
  },
  {
   "cell_type": "code",
   "execution_count": null,
   "id": "945954e1",
   "metadata": {},
   "outputs": [],
   "source": [
    "# Calculating the error, MSE, and ABS error for each year\n",
    "train_data['error'] = train_data.prediction_insample - train_data.Injuries\n",
    "train_data['squared_error'] = train_data['error']**2\n",
    "train_data['abs'] = abs(train_data['error'])"
   ]
  },
  {
   "cell_type": "code",
   "execution_count": null,
   "id": "5de0d620",
   "metadata": {},
   "outputs": [],
   "source": [
    "train_data[['error', 'squared_error', 'abs']].mean()"
   ]
  },
  {
   "cell_type": "code",
   "execution_count": null,
   "id": "8ba56b36",
   "metadata": {},
   "outputs": [],
   "source": [
    "# Converting the scaled predictions back to the original scale\n",
    "def value_inverse(df):\n",
    "    for column in df.columns:\n",
    "        if column != 'Year':\n",
    "            if column in scaling_params:\n",
    "                min_val = scaling_params[column]['min_val']\n",
    "                max_val = scaling_params[column]['max_val']\n",
    "                df[column] = (df[column] * (max_val - min_val)) + min_val\n",
    "            elif column == 'prediction_insample': \n",
    "                # If 'prediction_insample' column, use the scaling parameters of 'Injuries' column\n",
    "                min_val = scaling_params['Injuries']['min_val']\n",
    "                max_val = scaling_params['Injuries']['max_val']\n",
    "                df[column] = (df[column] * (max_val - min_val)) + min_val\n",
    "    return df\n",
    "train_data = value_inverse(train_data)\n"
   ]
  },
  {
   "cell_type": "markdown",
   "id": "8eb39a10",
   "metadata": {},
   "source": [
    "### Plotting the Model"
   ]
  },
  {
   "cell_type": "code",
   "execution_count": null,
   "id": "2f5d04cd",
   "metadata": {},
   "outputs": [],
   "source": [
    "sns.set(style=\"darkgrid\")\n",
    "sns.lineplot(x=train_data['Year'], y=train_data['Injuries'], data=train_data)\n",
    "sns.lineplot(x=train_data['Year'], y=train_data['prediction_insample'], data=train_data)\n",
    "plt.xlabel('Year')\n",
    "plt.ylabel('Number of Injuries')\n",
    "plt.title('Number of Injuries Year by Year')\n",
    "actual_injuries_legend = plt.Line2D([], [], color='blue', label='Actual Injuries')\n",
    "predicted_injuries_legend = plt.Line2D([], [], color='orange', label='Predicted Injuries')\n",
    "plt.legend(handles=[actual_injuries_legend, predicted_injuries_legend])\n",
    "\n"
   ]
  },
  {
   "cell_type": "markdown",
   "id": "0ca10c75",
   "metadata": {},
   "source": [
    "## Model Testing\n",
    "<a id=\"4-MT\"><a>"
   ]
  },
  {
   "cell_type": "code",
   "execution_count": null,
   "id": "61286b6a",
   "metadata": {},
   "outputs": [],
   "source": [
    "test_data = df[26:]\n",
    " \n",
    "X_test = np.array(test_data[['Players', 'Games Played', 'Miles Traveled', 'Shortened Season', 'Average Age', 'salary', 'prevYrINJ']])\n",
    "y_test = test_data['Injuries']\n"
   ]
  },
  {
   "cell_type": "code",
   "execution_count": null,
   "id": "e2a49859",
   "metadata": {},
   "outputs": [],
   "source": [
    "y_pred = fit_model.predict(X_test)\n",
    "# Adding our insample prediction for each year to our test data set\n",
    "test_data.loc[:, 'prediction_insample'] = y_pred.copy()\n",
    "test_data.head()"
   ]
  },
  {
   "cell_type": "code",
   "execution_count": null,
   "id": "4d67414c",
   "metadata": {},
   "outputs": [],
   "source": [
    "test_data['error'] = test_data.prediction_insample - test_data.Injuries\n",
    "test_data['squared_error'] = test_data['error']**2\n",
    "test_data['abs'] = abs(test_data['error'])\n"
   ]
  },
  {
   "cell_type": "code",
   "execution_count": null,
   "id": "a4bc80f6",
   "metadata": {},
   "outputs": [],
   "source": [
    "df.describe()[\"Injuries\"]"
   ]
  },
  {
   "cell_type": "markdown",
   "id": "abf2c5b7",
   "metadata": {},
   "source": [
    "### Plotting the Test Results\n",
    "<a id=\"4.1-PTR\"><a>"
   ]
  },
  {
   "cell_type": "code",
   "execution_count": null,
   "id": "077e4bcc",
   "metadata": {},
   "outputs": [],
   "source": [
    "# first let's convert the columns back to their original values \n",
    "test_data = value_inverse(test_data)\n"
   ]
  },
  {
   "cell_type": "code",
   "execution_count": null,
   "id": "e6af80a6",
   "metadata": {},
   "outputs": [],
   "source": [
    "sns.set(style=\"darkgrid\")\n",
    "sns.lineplot(x=test_data['Year'], y=test_data['Injuries'], data=test_data)\n",
    "sns.lineplot(x=test_data['Year'], y=test_data['prediction_insample'], data=test_data)\n",
    "plt.legend()\n",
    "plt.xlabel('Year')\n",
    "plt.ylabel('Number of Injuries')\n",
    "plt.title('Number of Injuries Year by Year')\n",
    "ax = plt.gca()\n",
    "ax.xaxis.set_major_locator(ticker.MaxNLocator(integer=True))\n",
    "plt.show()\n"
   ]
  },
  {
   "cell_type": "markdown",
   "id": "ff79de6e",
   "metadata": {},
   "source": [
    "> **Outliers appeared in years 2020 and 2021 for the data**  \n",
    "**To combat this, I will be using Huber Regression**"
   ]
  },
  {
   "cell_type": "markdown",
   "id": "6a288fc0",
   "metadata": {},
   "source": [
    "## Outlier Handling\n",
    "<a id=\"5-OH\"><a>"
   ]
  },
  {
   "cell_type": "code",
   "execution_count": null,
   "id": "8f8e06a4",
   "metadata": {
    "scrolled": true
   },
   "outputs": [],
   "source": [
    "# I currently have outlier for my 2020 and 2021 predictions\n",
    "# I will attempt to use Huber Regression to account for these outliers \n",
    "from sklearn.linear_model import HuberRegressor\n",
    "huber_dataset = df[26:]\n",
    "X_huber = huber_dataset[[ 'Games Played', 'Shortened Season', 'Miles Traveled', 'Average Age', 'salary', 'prevYrINJ']]\n",
    "y_huber = huber_dataset['Injuries']\n",
    "\n",
    "huber_reg = HuberRegressor()\n",
    "fitted_model = huber_reg.fit(X_huber, y_huber)\n",
    "\n",
    "y_pred = fitted_model.predict(X_huber)\n",
    "\n",
    "huber_dataset['prediction_insample'] = y_pred\n"
   ]
  },
  {
   "cell_type": "code",
   "execution_count": null,
   "id": "46c08072",
   "metadata": {},
   "outputs": [],
   "source": [
    "huber_dataset['error'] = huber_dataset.prediction_insample - huber_dataset.Injuries\n",
    "huber_dataset['squared_error'] = huber_dataset['error']**2\n",
    "huber_dataset['abs'] = abs(huber_dataset['error'])"
   ]
  },
  {
   "cell_type": "code",
   "execution_count": null,
   "id": "c43c2ece",
   "metadata": {},
   "outputs": [],
   "source": [
    "# Once again we must revert the values back to there original range: \n",
    "huber_dataset = value_inverse(huber_dataset)"
   ]
  },
  {
   "cell_type": "code",
   "execution_count": null,
   "id": "98b40e36",
   "metadata": {},
   "outputs": [],
   "source": [
    "plt.plot(huber_dataset['Year'], huber_dataset['prediction_insample'], 'r-', label='Predicted Data')\n",
    "sns.set(style=\"darkgrid\")\n",
    "sns.lineplot(x='Year', y='Injuries', data=huber_dataset)\n",
    "plt.legend()\n",
    "plt.xlabel('Year')\n",
    "plt.ylabel('Number of Injuries')\n",
    "plt.title('Number of Injuries Year by Year')\n",
    "ax = plt.gca()\n",
    "ax.xaxis.set_major_locator(plt.MaxNLocator(integer=True))\n",
    "plt.show()"
   ]
  },
  {
   "cell_type": "code",
   "execution_count": null,
   "id": "cc875e25",
   "metadata": {},
   "outputs": [],
   "source": [
    "# give a run down of the features and the coeffecients\n",
    "# (for every thousand mile travelled injuries increased by 2 percent)"
   ]
  },
  {
   "cell_type": "code",
   "execution_count": null,
   "id": "6f631fa3",
   "metadata": {},
   "outputs": [],
   "source": [
    "weights = fitted_model.coef_\n",
    "weights"
   ]
  },
  {
   "cell_type": "markdown",
   "id": "1f49ea19",
   "metadata": {},
   "source": [
    "## Conclusion\n",
    "<a id=\"6-Conc\"><a> "
   ]
  },
  {
   "cell_type": "markdown",
   "id": "90abef2f",
   "metadata": {},
   "source": [
    "> **Below is a graph representing the features sorted from most to least important**"
   ]
  },
  {
   "cell_type": "code",
   "execution_count": null,
   "id": "374f0159",
   "metadata": {},
   "outputs": [],
   "source": [
    "sort = weights.argsort()\n",
    "plt.barh(X_huber.columns[sort], weights[sort])\n",
    "plt.xlabel(\"Feature Importance\")\n",
    "plt.show()"
   ]
  },
  {
   "cell_type": "markdown",
   "id": "9686965b",
   "metadata": {},
   "source": [
    "### Summary "
   ]
  },
  {
   "cell_type": "markdown",
   "id": "308f6a90",
   "metadata": {},
   "source": [
    "Not Surprisingly the feature that had the largest impact on the total number of injuries was the total miles traveled. As the NBA has expanded and become a global superpower, so to has the demands on athletes grown in terms of their total travel. The next greatest factors were salary and average age. Again not much of a surprise. As the league has grown both in popularity the league has garnered massive revenue. This has allowed for more time and effort to be placed into developing there training staff along with their athletes. Average Age as well, logically holds up. The older the athlete, the more their bodies tend to break down.  \n",
    "\n",
    "The Surprising statistic was to see a negative feature importance for Games Played. It appear as if the weight of the Games Played feature actually skews in the opposite direction. According to the model, the more games that are played, the lower the likelihood of injury, across the league. However, this may not be entirely accurate. It's worth noting that the 2019-2020 and 2020-2021 COVID years could be greatly impacting this value. As those seasons saw both a shortened number of games, while also displaying anomalous values for injuries as many players were sidelined with the virus. "
   ]
  }
 ],
 "metadata": {
  "kernelspec": {
   "display_name": "Python 3 (ipykernel)",
   "language": "python",
   "name": "python3"
  },
  "language_info": {
   "codemirror_mode": {
    "name": "ipython",
    "version": 3
   },
   "file_extension": ".py",
   "mimetype": "text/x-python",
   "name": "python",
   "nbconvert_exporter": "python",
   "pygments_lexer": "ipython3",
   "version": "3.9.4"
  },
  "toc": {
   "base_numbering": 1,
   "nav_menu": {},
   "number_sections": true,
   "sideBar": true,
   "skip_h1_title": false,
   "title_cell": "Table of Contents",
   "title_sidebar": "Contents",
   "toc_cell": false,
   "toc_position": {
    "height": "calc(100% - 180px)",
    "left": "10px",
    "top": "150px",
    "width": "165px"
   },
   "toc_section_display": true,
   "toc_window_display": false
  }
 },
 "nbformat": 4,
 "nbformat_minor": 5
}
