{
 "cells": [
  {
   "cell_type": "markdown",
   "id": "26a138cc",
   "metadata": {},
   "source": [
    "NBA INJURY PREDICTOR"
   ]
  },
  {
   "cell_type": "markdown",
   "id": "a86ae720",
   "metadata": {},
   "source": [
    "![](injury.jpeg)\n"
   ]
  },
  {
   "cell_type": "markdown",
   "id": "d1bc3925",
   "metadata": {},
   "source": [
    "Contents\n",
    "\n",
    "1. [Introduction](#1-introduction)  \n",
    "1.1 [Background](#11-background)  \n",
    "1.2 [Objectives](#12-objectives)\n",
    "2. [Data Preparation](#2-data-preparation)  \n",
    "2.1 [Imports](#21-imports)  \n",
    "2.2 [Google Cloud Storage](#22-GCS)  \n",
    "2.3 [Dataframe Construction & Data Cleaning](#23-dfc&dc)  \n",
    "2.4 [Feature Correlations](#24-ft_corr)\n",
    "3. [Model Development](#3-MD).  \n",
    "3.1[Training the Model](#31-TM)  \n",
    "3.2[Plotting the Model](#32-PM)  \n",
    "4. [Model Testing](#4-MT)  \n",
    "4.1 [Plotting the Test Results](#4.1-PTR)  \n",
    "5. [Outlier Handling](#5-OH)\n",
    "        "
   ]
  },
  {
   "cell_type": "markdown",
   "id": "5b1571d1",
   "metadata": {},
   "source": [
    "##  Introduction"
   ]
  },
  {
   "cell_type": "markdown",
   "id": "4bc2ffa1",
   "metadata": {
    "heading_collapsed": true
   },
   "source": [
    "### Background\n",
    "<a id=\"11-background\"><a>"
   ]
  },
  {
   "cell_type": "markdown",
   "id": "a77cd12e",
   "metadata": {
    "hidden": true
   },
   "source": [
    "The National Basketball Association (NBA) is one of the most popular and competitive professional sports leagues globally, captivating millions of fans with its fast-paced action and exceptional athleticism. However, along with the excitement and intensity of the game, player injuries have become a significant concern for teams, players, and fans alike.\n",
    "\n",
    "Understanding and predicting the number of injuries that occur in the NBA year over year has become a crucial area of research and analysis. The impact of injuries goes beyond individual players, as it can significantly influence team performance, game strategies, and overall league dynamics. Building a predictive model for NBA injuries aims to gain valuable insights into injury patterns, risk factors, and the potential impact on team dynamics.\n",
    "\n",
    "The importance of such a predictive model lies in its ability to assist various stakeholders in the NBA ecosystem. Team management can use the model to proactively manage player workload, optimize training and recovery protocols, and minimize injury risks. Coaches can adjust game strategies and rotations based on injury predictions, aiming to maximize player availability and team performance. Additionally, players themselves can benefit from injury forecasting by adopting personalized training programs and injury prevention measures.\n",
    "\n",
    "Furthermore, the predictive model contributes to the broader field of sports science and sports medicine. By analyzing historical injury data and identifying factors that contribute to injuries, valuable insights can be gained into injury prevention, rehabilitation techniques, and overall player health and well-being.\n",
    "\n",
    "By leveraging advanced data analysis and machine learning techniques, a robust predictive model for NBA injuries has been developed. This model considers various factors such as player workload, playing style, previous injury history, game schedule, and other relevant variables to forecast the likelihood of injuries occurring throughout the season. The model's predictions provide valuable information for teams, coaches, and players, enabling them to make data-driven decisions to enhance player safety, optimize performance, and ultimately elevate the overall quality of the NBA game.\n",
    "\n",
    "Through this research, efforts have been made to contribute to the ongoing initiatives of the NBA and the sports community as a whole in promoting player health, reducing injury rates, and fostering a more sustainable and competitive environment."
   ]
  },
  {
   "cell_type": "markdown",
   "id": "8ed75ece",
   "metadata": {
    "heading_collapsed": true
   },
   "source": [
    "### Objectives\n",
    "<a id=\"12-objectives\"></a>"
   ]
  },
  {
   "cell_type": "markdown",
   "id": "ba465b2c",
   "metadata": {
    "hidden": true
   },
   "source": [
    "The objectives of the NBA injury predictive model are twofold. Firstly, the model aims to accurately predict the total number of injuries that will occur in the NBA during a calendar season. By training the model on historical injury data and leveraging advanced machine learning techniques, it strives to provide reliable forecasts that can assist teams, coaches, and players in proactive injury management and planning.\n",
    "\n",
    "Secondly, the model seeks to gain insights into the factors that have the greatest impact on the overall number of injuries in the NBA. These insights can contribute to a better understanding of injury risk factors and inform strategies for injury prevention and player safety.\n",
    "\n"
   ]
  },
  {
   "cell_type": "markdown",
   "id": "4e013f3c",
   "metadata": {},
   "source": [
    "## Data Preparation\n",
    "<a id=\"2-data-preparation\"></a>"
   ]
  },
  {
   "cell_type": "markdown",
   "id": "1eb7c953",
   "metadata": {},
   "source": [
    "### Imports\n",
    "<a id=\"21-imports\"></a>"
   ]
  },
  {
   "cell_type": "code",
   "execution_count": 1,
   "id": "c731a143",
   "metadata": {},
   "outputs": [],
   "source": [
    "import pandas as pd\n",
    "import seaborn as sns\n",
    "import matplotlib as mpl\n",
    "import matplotlib.pyplot as plt\n",
    "import sklearn\n",
    "from sklearn.preprocessing import LabelEncoder\n",
    "import numpy as np\n",
    "from sklearn.model_selection import train_test_split\n",
    "from sklearn.linear_model import LinearRegression\n",
    "from sklearn.ensemble import RandomForestClassifier\n",
    "from sklearn.metrics import roc_auc_score \n",
    "from sklearn.linear_model import Ridge\n",
    "from sklearn.metrics import mean_squared_error, r2_score\n",
    "import matplotlib.ticker as ticker\n",
    "import rpy2.robjects as robjects\n",
    "from rpy2.robjects.packages import importr\n",
    "from rpy2.robjects import pandas2ri\n"
   ]
  },
  {
   "cell_type": "markdown",
   "id": "76b2daa7",
   "metadata": {},
   "source": [
    "### Google Cloud Storage\n",
    "<a id=\"22-GCS\"><a>"
   ]
  },
  {
   "cell_type": "code",
   "execution_count": 2,
   "id": "050fb696",
   "metadata": {},
   "outputs": [],
   "source": [
    "from google.cloud import storage\n",
    "import io\n",
    "key_path = \"/Users/antho/Documents/GCP/nba-injury-forecasting-59f4078886ad.json\"\n",
    "client = storage.Client.from_service_account_json(key_path)"
   ]
  },
  {
   "cell_type": "code",
   "execution_count": 3,
   "id": "424245f9",
   "metadata": {},
   "outputs": [],
   "source": [
    "bucket_name = 'nba-data-2023-v2'\n",
    "bucket = client.get_bucket(bucket_name)"
   ]
  },
  {
   "cell_type": "code",
   "execution_count": 4,
   "id": "fecb0dd4",
   "metadata": {},
   "outputs": [],
   "source": [
    "injData = 'Injuries.csv'\n",
    "blob = bucket.blob(injData)\n",
    "blob.download_to_filename(injData)\n",
    "injuryData = pd.read_csv(injData)"
   ]
  },
  {
   "cell_type": "code",
   "execution_count": 5,
   "id": "58a8f559",
   "metadata": {},
   "outputs": [],
   "source": [
    "# Download and store the data from AverageTravel.csv, AveragePlayerAge.csv, and NBASalaries.csv\n",
    "blob_travel = bucket.blob('AverageTravel.csv')\n",
    "content_travel = blob_travel.download_as_text()\n",
    "annual_travel = pd.read_csv(io.StringIO(content_travel))\n",
    "\n",
    "blob_age = bucket.blob('AveragePlayerAge.csv')\n",
    "content_age = blob_age.download_as_text()\n",
    "average_age = pd.read_csv(io.StringIO(content_age))\n",
    "\n",
    "blob_salary = bucket.blob('NBASalaries.csv')\n",
    "content_salary = blob_salary.download_as_text()\n",
    "average_salary = pd.read_csv(io.StringIO(content_salary))"
   ]
  },
  {
   "cell_type": "markdown",
   "id": "2d5762d7",
   "metadata": {},
   "source": [
    "### Dataframe Construction & Data Cleaning\n",
    "<a id=\"23-dfc&dc\"></a>"
   ]
  },
  {
   "cell_type": "code",
   "execution_count": 6,
   "id": "5a06ffc1",
   "metadata": {},
   "outputs": [],
   "source": [
    "injuryData.rename(columns={'Unnamed: 0': 'ID'}, inplace=True)\n",
    "injuryData.rename(columns={'Notes': 'Injury Type'}, inplace=True)\n",
    "injuryData.rename(columns={'Relinquished': 'Player'}, inplace=True)"
   ]
  },
  {
   "cell_type": "code",
   "execution_count": 7,
   "id": "909ac144",
   "metadata": {},
   "outputs": [],
   "source": [
    "# Setting the objects in the column to a pandas datetime object\n",
    "injuryData['Date'] = pd.to_datetime(injuryData['Date'])\n",
    "\n",
    "#Grouping rows by 'decade' column\n",
    "injuryData['Year'] = (injuryData['Date'].dt.year)"
   ]
  },
  {
   "cell_type": "markdown",
   "id": "bfe853a3",
   "metadata": {},
   "source": [
    ">__Let's now remove all rows where the players have been acquired back from the IL__\n"
   ]
  },
  {
   "cell_type": "code",
   "execution_count": 8,
   "id": "5c337a2c",
   "metadata": {},
   "outputs": [],
   "source": [
    "# Removing the Acquired column removes all duplicates \n",
    "injuryData = injuryData[injuryData['Acquired'].isna()]\n",
    "del injuryData['Acquired']"
   ]
  },
  {
   "cell_type": "markdown",
   "id": "d5baac7a",
   "metadata": {},
   "source": [
    "> __Now let's calculate the total sum of injuries for each Year__\n",
    "\n",
    " > ** *It is important to note that the NBA did not have and IR/IL until the 1989-1990 season. Prior to this injured players were still members of the active roster. For this reason, it's likely many injuries do not appear in the dataset.*"
   ]
  },
  {
   "cell_type": "code",
   "execution_count": 9,
   "id": "1b1e6845",
   "metadata": {},
   "outputs": [],
   "source": [
    "# We only want to include data from the years after 1989 \n",
    "yearly_injuries = {}\n",
    "total_injuries = 0\n",
    "for year, group in injuryData.groupby('Year'):\n",
    "    if year > 1989: \n",
    "        injuries = group.shape[0]\n",
    "        yearly_injuries[year] = injuries\n",
    "        total_injuries += injuries"
   ]
  },
  {
   "cell_type": "markdown",
   "id": "6f0abff6",
   "metadata": {},
   "source": [
    "> **Prior to the 2015 season, teams in the NBA were only allowed 12 men on their active roster**"
   ]
  },
  {
   "cell_type": "code",
   "execution_count": 10,
   "id": "0f4e3b37",
   "metadata": {},
   "outputs": [],
   "source": [
    "# Adding total number of players in the League per year\n",
    "df = pd.DataFrame(yearly_injuries.items(), columns=['Year', 'Injuries'])\n",
    "df['Players'] = np.where(df['Year'].astype(int) <= 2015, 354, 450)\n",
    "#Turning the total number of players feature into binary values \n",
    "df['Players'] = df['Players'].apply(lambda x: 0 if x == 354 else 1)\n",
    "df['isleagueExpansion'] = np.where(df['Year']<=2004, 0, 1)\n",
    "df['Players'] = df['Players'].astype(int)"
   ]
  },
  {
   "cell_type": "code",
   "execution_count": 11,
   "id": "f32e33ef",
   "metadata": {},
   "outputs": [],
   "source": [
    "# adding all the data from outside data sources to the Dataframe\n",
    "df = pd.concat([df, annual_travel['Miles Traveled']], axis=1)\n",
    "df = pd.concat([df, average_age['Average Age']], axis = 1)\n",
    "df = pd.concat([df, average_salary['salary']], axis = 1)"
   ]
  },
  {
   "cell_type": "code",
   "execution_count": 12,
   "id": "85aeed35",
   "metadata": {},
   "outputs": [],
   "source": [
    "# adding the total number of games played in the NBA each year to the Dataframe\n",
    "def get_games_played(df):\n",
    "\n",
    "    games_played = {\n",
    "      year: 6620\n",
    "      for year in range(1990, 2024)\n",
    "  }\n",
    "\n",
    "  # the following seasons were shortened due to either lockout(1999, 2011) or COVID-19(2020-2021)\n",
    "    games_played[1999] = 4100\n",
    "    games_played[2011] = 4096\n",
    "    games_played[2020] = 4384\n",
    "    games_played[2021] = 4384\n",
    "    df['Games Played'] = df.Year.map(games_played)\n",
    "    df['Games Played'] = df['Games Played'].astype(int)\n",
    "\n",
    "get_games_played(df)"
   ]
  },
  {
   "cell_type": "markdown",
   "id": "f64c9ac3",
   "metadata": {},
   "source": [
    "> **A feature needs to be added to account for the shortened seasons due to lockouts and the COVID-19 virus**"
   ]
  },
  {
   "cell_type": "code",
   "execution_count": 13,
   "id": "71f37af8",
   "metadata": {},
   "outputs": [],
   "source": [
    "# Adding feature to account for a shortened season(lockouts and COVID-19 years)\n",
    "df['Shortened Season'] = np.where(df['Year'].isin([1999, 2011, 2020, 2021]), 1, 0)"
   ]
  },
  {
   "cell_type": "markdown",
   "id": "793b4498",
   "metadata": {},
   "source": [
    "### Feature Correlations\n",
    "<a id=\"24-ft_corr\"></a>"
   ]
  },
  {
   "cell_type": "code",
   "execution_count": 34,
   "id": "021f647e",
   "metadata": {},
   "outputs": [
    {
     "name": "stdout",
     "output_type": "stream",
     "text": [
      "Players feature: 0.5759226257184822\n",
      "Games Played feature: -0.18779444969532763\n",
      "Miles Traveled feature: 0.1662721634969412\n",
      "Shortened Season feature: 0.20502095867354034\n",
      "Average Age feature: -0.6660968044361875\n",
      "salary feature: 0.7378147923008485\n",
      "prevYrINJ feature: 0.7627856086443782\n"
     ]
    }
   ],
   "source": [
    "# calculating the correlation for the two features I will use to train my model\n",
    "features = ['Players', 'Games Played', 'Miles Traveled', 'Shortened Season', 'Average Age', 'salary', 'prevYrINJ']\n",
    "\n",
    "for feature in features:\n",
    "    correlation = df[feature].corr(df['Injuries'])\n",
    "    print(f\"{feature} feature: {correlation}\")\n"
   ]
  },
  {
   "cell_type": "code",
   "execution_count": 15,
   "id": "f48e649e",
   "metadata": {},
   "outputs": [],
   "source": [
    "# add feature for injuries in the previous season\n",
    "df['prevYrINJ'] = df['Injuries'].shift(1)\n",
    "df['prevYrINJ'].fillna(0, inplace=True)\n",
    "df['prevYrINJ'] = df['prevYrINJ'].astype(int)\n"
   ]
  },
  {
   "cell_type": "markdown",
   "id": "69911a44",
   "metadata": {},
   "source": [
    "## Model Development"
   ]
  },
  {
   "cell_type": "markdown",
   "id": "458cf6c1",
   "metadata": {},
   "source": [
    "### Training the Model"
   ]
  },
  {
   "cell_type": "code",
   "execution_count": 16,
   "id": "5de268d0",
   "metadata": {},
   "outputs": [
    {
     "data": {
      "text/html": [
       "<div>\n",
       "<style scoped>\n",
       "    .dataframe tbody tr th:only-of-type {\n",
       "        vertical-align: middle;\n",
       "    }\n",
       "\n",
       "    .dataframe tbody tr th {\n",
       "        vertical-align: top;\n",
       "    }\n",
       "\n",
       "    .dataframe thead th {\n",
       "        text-align: right;\n",
       "    }\n",
       "</style>\n",
       "<table border=\"1\" class=\"dataframe\">\n",
       "  <thead>\n",
       "    <tr style=\"text-align: right;\">\n",
       "      <th></th>\n",
       "      <th>Year</th>\n",
       "      <th>Injuries</th>\n",
       "      <th>Players</th>\n",
       "      <th>isleagueExpansion</th>\n",
       "      <th>Miles Traveled</th>\n",
       "      <th>Average Age</th>\n",
       "      <th>salary</th>\n",
       "      <th>Games Played</th>\n",
       "      <th>Shortened Season</th>\n",
       "      <th>prevYrINJ</th>\n",
       "    </tr>\n",
       "  </thead>\n",
       "  <tbody>\n",
       "    <tr>\n",
       "      <th>0</th>\n",
       "      <td>1990</td>\n",
       "      <td>64</td>\n",
       "      <td>0</td>\n",
       "      <td>0</td>\n",
       "      <td>1292100</td>\n",
       "      <td>27.1</td>\n",
       "      <td>1670938</td>\n",
       "      <td>6620</td>\n",
       "      <td>0</td>\n",
       "      <td>0</td>\n",
       "    </tr>\n",
       "    <tr>\n",
       "      <th>1</th>\n",
       "      <td>1991</td>\n",
       "      <td>66</td>\n",
       "      <td>0</td>\n",
       "      <td>0</td>\n",
       "      <td>1272578</td>\n",
       "      <td>27.2</td>\n",
       "      <td>831623</td>\n",
       "      <td>6620</td>\n",
       "      <td>0</td>\n",
       "      <td>64</td>\n",
       "    </tr>\n",
       "    <tr>\n",
       "      <th>2</th>\n",
       "      <td>1992</td>\n",
       "      <td>28</td>\n",
       "      <td>0</td>\n",
       "      <td>0</td>\n",
       "      <td>1318286</td>\n",
       "      <td>27.2</td>\n",
       "      <td>954346</td>\n",
       "      <td>6620</td>\n",
       "      <td>0</td>\n",
       "      <td>66</td>\n",
       "    </tr>\n",
       "    <tr>\n",
       "      <th>3</th>\n",
       "      <td>1993</td>\n",
       "      <td>33</td>\n",
       "      <td>0</td>\n",
       "      <td>0</td>\n",
       "      <td>1323961</td>\n",
       "      <td>27.4</td>\n",
       "      <td>1061758</td>\n",
       "      <td>6620</td>\n",
       "      <td>0</td>\n",
       "      <td>28</td>\n",
       "    </tr>\n",
       "    <tr>\n",
       "      <th>4</th>\n",
       "      <td>1994</td>\n",
       "      <td>127</td>\n",
       "      <td>0</td>\n",
       "      <td>0</td>\n",
       "      <td>1320737</td>\n",
       "      <td>27.3</td>\n",
       "      <td>1269884</td>\n",
       "      <td>6620</td>\n",
       "      <td>0</td>\n",
       "      <td>33</td>\n",
       "    </tr>\n",
       "  </tbody>\n",
       "</table>\n",
       "</div>"
      ],
      "text/plain": [
       "   Year  Injuries  Players  isleagueExpansion  Miles Traveled  Average Age  \\\n",
       "0  1990        64        0                  0         1292100         27.1   \n",
       "1  1991        66        0                  0         1272578         27.2   \n",
       "2  1992        28        0                  0         1318286         27.2   \n",
       "3  1993        33        0                  0         1323961         27.4   \n",
       "4  1994       127        0                  0         1320737         27.3   \n",
       "\n",
       "    salary  Games Played  Shortened Season  prevYrINJ  \n",
       "0  1670938          6620                 0          0  \n",
       "1   831623          6620                 0         64  \n",
       "2   954346          6620                 0         66  \n",
       "3  1061758          6620                 0         28  \n",
       "4  1269884          6620                 0         33  "
      ]
     },
     "execution_count": 16,
     "metadata": {},
     "output_type": "execute_result"
    }
   ],
   "source": [
    "df.head()"
   ]
  },
  {
   "cell_type": "code",
   "execution_count": 17,
   "id": "1543fb3d",
   "metadata": {},
   "outputs": [
    {
     "name": "stdout",
     "output_type": "stream",
     "text": [
      "(34, 10)\n"
     ]
    },
    {
     "data": {
      "text/plain": [
       "(26, 7)"
      ]
     },
     "execution_count": 17,
     "metadata": {},
     "output_type": "execute_result"
    }
   ],
   "source": [
    "#Using Linear Regression function to fit our model\n",
    "train_data = df[:26]\n",
    "\n",
    "X_train = np.array(train_data[['Players', 'Games Played', 'Miles Traveled', 'Shortened Season', 'Average Age', 'salary', 'prevYrINJ']])\n",
    "y_train = train_data['Injuries']\n",
    "reg = LinearRegression()\n",
    "\n",
    "\n",
    "fit_model = reg.fit(X_train, y_train)\n",
    "print(df.shape)\n",
    "X_train.shape\n"
   ]
  },
  {
   "cell_type": "code",
   "execution_count": 18,
   "id": "21a575e5",
   "metadata": {},
   "outputs": [
    {
     "name": "stdout",
     "output_type": "stream",
     "text": [
      "The Weight of feature(s): [ 0.00000000e+00  1.30299209e+02  3.67217842e-05  3.28603225e+05\n",
      " -1.23986925e+02  5.43684271e-05  6.75594498e-01]\n"
     ]
    }
   ],
   "source": [
    "# using a scikit-learn attribute, the coef represents the wieghts assigned to different features \n",
    "print(f\"The Weight of feature(s): {fit_model.coef_}\")"
   ]
  },
  {
   "cell_type": "code",
   "execution_count": 19,
   "id": "bca11bce",
   "metadata": {},
   "outputs": [
    {
     "name": "stdout",
     "output_type": "stream",
     "text": [
      "The Bias of the model: -859233.1434792401\n"
     ]
    }
   ],
   "source": [
    "# getting the intercept(bias) for our fitted model\n",
    "print(f\"The Bias of the model: {fit_model.intercept_}\")"
   ]
  },
  {
   "cell_type": "code",
   "execution_count": 20,
   "id": "f50a5b73",
   "metadata": {},
   "outputs": [
    {
     "name": "stderr",
     "output_type": "stream",
     "text": [
      "/var/folders/3k/6lf4ln2n63b7tvgn2yck__yc0000gn/T/ipykernel_31389/1950665895.py:2: SettingWithCopyWarning: \n",
      "A value is trying to be set on a copy of a slice from a DataFrame.\n",
      "Try using .loc[row_indexer,col_indexer] = value instead\n",
      "\n",
      "See the caveats in the documentation: https://pandas.pydata.org/pandas-docs/stable/user_guide/indexing.html#returning-a-view-versus-a-copy\n",
      "  train_data.loc[:, 'prediction_insample'] = fit_model.predict(X_train).copy()\n"
     ]
    },
    {
     "data": {
      "text/html": [
       "<div>\n",
       "<style scoped>\n",
       "    .dataframe tbody tr th:only-of-type {\n",
       "        vertical-align: middle;\n",
       "    }\n",
       "\n",
       "    .dataframe tbody tr th {\n",
       "        vertical-align: top;\n",
       "    }\n",
       "\n",
       "    .dataframe thead th {\n",
       "        text-align: right;\n",
       "    }\n",
       "</style>\n",
       "<table border=\"1\" class=\"dataframe\">\n",
       "  <thead>\n",
       "    <tr style=\"text-align: right;\">\n",
       "      <th></th>\n",
       "      <th>Year</th>\n",
       "      <th>Injuries</th>\n",
       "      <th>Players</th>\n",
       "      <th>isleagueExpansion</th>\n",
       "      <th>Miles Traveled</th>\n",
       "      <th>Average Age</th>\n",
       "      <th>salary</th>\n",
       "      <th>Games Played</th>\n",
       "      <th>Shortened Season</th>\n",
       "      <th>prevYrINJ</th>\n",
       "      <th>prediction_insample</th>\n",
       "    </tr>\n",
       "  </thead>\n",
       "  <tbody>\n",
       "    <tr>\n",
       "      <th>0</th>\n",
       "      <td>1990</td>\n",
       "      <td>64</td>\n",
       "      <td>0</td>\n",
       "      <td>0</td>\n",
       "      <td>1292100</td>\n",
       "      <td>27.1</td>\n",
       "      <td>1670938</td>\n",
       "      <td>6620</td>\n",
       "      <td>0</td>\n",
       "      <td>0</td>\n",
       "      <td>125.868394</td>\n",
       "    </tr>\n",
       "    <tr>\n",
       "      <th>1</th>\n",
       "      <td>1991</td>\n",
       "      <td>66</td>\n",
       "      <td>0</td>\n",
       "      <td>0</td>\n",
       "      <td>1272578</td>\n",
       "      <td>27.2</td>\n",
       "      <td>831623</td>\n",
       "      <td>6620</td>\n",
       "      <td>0</td>\n",
       "      <td>64</td>\n",
       "      <td>110.358631</td>\n",
       "    </tr>\n",
       "    <tr>\n",
       "      <th>2</th>\n",
       "      <td>1992</td>\n",
       "      <td>28</td>\n",
       "      <td>0</td>\n",
       "      <td>0</td>\n",
       "      <td>1318286</td>\n",
       "      <td>27.2</td>\n",
       "      <td>954346</td>\n",
       "      <td>6620</td>\n",
       "      <td>0</td>\n",
       "      <td>66</td>\n",
       "      <td>120.060555</td>\n",
       "    </tr>\n",
       "    <tr>\n",
       "      <th>3</th>\n",
       "      <td>1993</td>\n",
       "      <td>33</td>\n",
       "      <td>0</td>\n",
       "      <td>0</td>\n",
       "      <td>1323961</td>\n",
       "      <td>27.4</td>\n",
       "      <td>1061758</td>\n",
       "      <td>6620</td>\n",
       "      <td>0</td>\n",
       "      <td>28</td>\n",
       "      <td>75.638797</td>\n",
       "    </tr>\n",
       "    <tr>\n",
       "      <th>4</th>\n",
       "      <td>1994</td>\n",
       "      <td>127</td>\n",
       "      <td>0</td>\n",
       "      <td>0</td>\n",
       "      <td>1320737</td>\n",
       "      <td>27.3</td>\n",
       "      <td>1269884</td>\n",
       "      <td>6620</td>\n",
       "      <td>0</td>\n",
       "      <td>33</td>\n",
       "      <td>102.612554</td>\n",
       "    </tr>\n",
       "  </tbody>\n",
       "</table>\n",
       "</div>"
      ],
      "text/plain": [
       "   Year  Injuries  Players  isleagueExpansion  Miles Traveled  Average Age  \\\n",
       "0  1990        64        0                  0         1292100         27.1   \n",
       "1  1991        66        0                  0         1272578         27.2   \n",
       "2  1992        28        0                  0         1318286         27.2   \n",
       "3  1993        33        0                  0         1323961         27.4   \n",
       "4  1994       127        0                  0         1320737         27.3   \n",
       "\n",
       "    salary  Games Played  Shortened Season  prevYrINJ  prediction_insample  \n",
       "0  1670938          6620                 0          0           125.868394  \n",
       "1   831623          6620                 0         64           110.358631  \n",
       "2   954346          6620                 0         66           120.060555  \n",
       "3  1061758          6620                 0         28            75.638797  \n",
       "4  1269884          6620                 0         33           102.612554  "
      ]
     },
     "execution_count": 20,
     "metadata": {},
     "output_type": "execute_result"
    }
   ],
   "source": [
    "# Adding our insample prediction for each year to our training data set\n",
    "train_data.loc[:, 'prediction_insample'] = fit_model.predict(X_train).copy()\n",
    "train_data.head()"
   ]
  },
  {
   "cell_type": "code",
   "execution_count": 21,
   "id": "945954e1",
   "metadata": {},
   "outputs": [
    {
     "name": "stderr",
     "output_type": "stream",
     "text": [
      "/var/folders/3k/6lf4ln2n63b7tvgn2yck__yc0000gn/T/ipykernel_31389/3611714416.py:2: SettingWithCopyWarning: \n",
      "A value is trying to be set on a copy of a slice from a DataFrame.\n",
      "Try using .loc[row_indexer,col_indexer] = value instead\n",
      "\n",
      "See the caveats in the documentation: https://pandas.pydata.org/pandas-docs/stable/user_guide/indexing.html#returning-a-view-versus-a-copy\n",
      "  train_data['error'] = train_data.prediction_insample - train_data.Injuries\n",
      "/var/folders/3k/6lf4ln2n63b7tvgn2yck__yc0000gn/T/ipykernel_31389/3611714416.py:3: SettingWithCopyWarning: \n",
      "A value is trying to be set on a copy of a slice from a DataFrame.\n",
      "Try using .loc[row_indexer,col_indexer] = value instead\n",
      "\n",
      "See the caveats in the documentation: https://pandas.pydata.org/pandas-docs/stable/user_guide/indexing.html#returning-a-view-versus-a-copy\n",
      "  train_data['squared_error'] = train_data['error']**2\n",
      "/var/folders/3k/6lf4ln2n63b7tvgn2yck__yc0000gn/T/ipykernel_31389/3611714416.py:4: SettingWithCopyWarning: \n",
      "A value is trying to be set on a copy of a slice from a DataFrame.\n",
      "Try using .loc[row_indexer,col_indexer] = value instead\n",
      "\n",
      "See the caveats in the documentation: https://pandas.pydata.org/pandas-docs/stable/user_guide/indexing.html#returning-a-view-versus-a-copy\n",
      "  train_data['abs'] = abs(train_data['error'])\n"
     ]
    }
   ],
   "source": [
    "# Calculating the error, MSE, and ABS error for each year\n",
    "train_data['error'] = train_data.prediction_insample - train_data.Injuries\n",
    "train_data['squared_error'] = train_data['error']**2\n",
    "train_data['abs'] = abs(train_data['error'])"
   ]
  },
  {
   "cell_type": "code",
   "execution_count": 22,
   "id": "5de0d620",
   "metadata": {},
   "outputs": [
    {
     "data": {
      "text/plain": [
       "error            1.208928e-10\n",
       "squared_error    8.645627e+03\n",
       "abs              7.581503e+01\n",
       "dtype: float64"
      ]
     },
     "execution_count": 22,
     "metadata": {},
     "output_type": "execute_result"
    }
   ],
   "source": [
    "train_data[['error', 'squared_error', 'abs']].mean()"
   ]
  },
  {
   "cell_type": "markdown",
   "id": "8eb39a10",
   "metadata": {},
   "source": [
    "### Plotting the Model"
   ]
  },
  {
   "cell_type": "code",
   "execution_count": 23,
   "id": "2f5d04cd",
   "metadata": {},
   "outputs": [
    {
     "data": {
      "text/plain": [
       "<matplotlib.legend.Legend at 0x16aa5dc10>"
      ]
     },
     "execution_count": 23,
     "metadata": {},
     "output_type": "execute_result"
    },
    {
     "data": {
      "image/png": "[encoded data removed]",
      "text/plain": [
       "<Figure size 640x480 with 1 Axes>"
      ]
     },
     "metadata": {},
     "output_type": "display_data"
    }
   ],
   "source": [
    "sns.set(style=\"darkgrid\")\n",
    "sns.lineplot(x=train_data['Year'], y=train_data['Injuries'], data=train_data)\n",
    "sns.lineplot(x=train_data['Year'], y=train_data['prediction_insample'], data=train_data)\n",
    "plt.xlabel('Year')\n",
    "plt.ylabel('Number of Injuries')\n",
    "plt.title('Number of Injuries Year by Year')\n",
    "actual_injuries_legend = plt.Line2D([], [], color='blue', label='Actual Injuries')\n",
    "predicted_injuries_legend = plt.Line2D([], [], color='orange', label='Predicted Injuries')\n",
    "plt.legend(handles=[actual_injuries_legend, predicted_injuries_legend])\n",
    "\n"
   ]
  },
  {
   "cell_type": "markdown",
   "id": "0ca10c75",
   "metadata": {},
   "source": [
    "## Model Testing\n",
    "<a id=\"4-MT\"><a>"
   ]
  },
  {
   "cell_type": "code",
   "execution_count": 24,
   "id": "61286b6a",
   "metadata": {},
   "outputs": [],
   "source": [
    "test_data = df[26:]\n",
    " \n",
    "X_test = np.array(test_data[['Players', 'Games Played', 'Miles Traveled', 'Shortened Season', 'Average Age', 'salary', 'prevYrINJ']])\n",
    "y_test = test_data['Injuries']\n"
   ]
  },
  {
   "cell_type": "code",
   "execution_count": 25,
   "id": "e2a49859",
   "metadata": {},
   "outputs": [
    {
     "name": "stderr",
     "output_type": "stream",
     "text": [
      "/var/folders/3k/6lf4ln2n63b7tvgn2yck__yc0000gn/T/ipykernel_31389/1514185178.py:3: SettingWithCopyWarning: \n",
      "A value is trying to be set on a copy of a slice from a DataFrame.\n",
      "Try using .loc[row_indexer,col_indexer] = value instead\n",
      "\n",
      "See the caveats in the documentation: https://pandas.pydata.org/pandas-docs/stable/user_guide/indexing.html#returning-a-view-versus-a-copy\n",
      "  test_data.loc[:, 'prediction_insample'] = y_pred.copy()\n"
     ]
    },
    {
     "data": {
      "text/html": [
       "<div>\n",
       "<style scoped>\n",
       "    .dataframe tbody tr th:only-of-type {\n",
       "        vertical-align: middle;\n",
       "    }\n",
       "\n",
       "    .dataframe tbody tr th {\n",
       "        vertical-align: top;\n",
       "    }\n",
       "\n",
       "    .dataframe thead th {\n",
       "        text-align: right;\n",
       "    }\n",
       "</style>\n",
       "<table border=\"1\" class=\"dataframe\">\n",
       "  <thead>\n",
       "    <tr style=\"text-align: right;\">\n",
       "      <th></th>\n",
       "      <th>Year</th>\n",
       "      <th>Injuries</th>\n",
       "      <th>Players</th>\n",
       "      <th>isleagueExpansion</th>\n",
       "      <th>Miles Traveled</th>\n",
       "      <th>Average Age</th>\n",
       "      <th>salary</th>\n",
       "      <th>Games Played</th>\n",
       "      <th>Shortened Season</th>\n",
       "      <th>prevYrINJ</th>\n",
       "      <th>prediction_insample</th>\n",
       "    </tr>\n",
       "  </thead>\n",
       "  <tbody>\n",
       "    <tr>\n",
       "      <th>26</th>\n",
       "      <td>2016</td>\n",
       "      <td>835</td>\n",
       "      <td>1</td>\n",
       "      <td>1</td>\n",
       "      <td>1429934</td>\n",
       "      <td>27.0</td>\n",
       "      <td>4441493</td>\n",
       "      <td>6620</td>\n",
       "      <td>0</td>\n",
       "      <td>814</td>\n",
       "      <td>843.893236</td>\n",
       "    </tr>\n",
       "    <tr>\n",
       "      <th>27</th>\n",
       "      <td>2017</td>\n",
       "      <td>1172</td>\n",
       "      <td>1</td>\n",
       "      <td>1</td>\n",
       "      <td>1452806</td>\n",
       "      <td>26.8</td>\n",
       "      <td>5282659</td>\n",
       "      <td>6620</td>\n",
       "      <td>0</td>\n",
       "      <td>835</td>\n",
       "      <td>929.450878</td>\n",
       "    </tr>\n",
       "    <tr>\n",
       "      <th>28</th>\n",
       "      <td>2018</td>\n",
       "      <td>1016</td>\n",
       "      <td>1</td>\n",
       "      <td>1</td>\n",
       "      <td>1464235</td>\n",
       "      <td>26.5</td>\n",
       "      <td>6011008</td>\n",
       "      <td>6620</td>\n",
       "      <td>0</td>\n",
       "      <td>1172</td>\n",
       "      <td>1234.341184</td>\n",
       "    </tr>\n",
       "    <tr>\n",
       "      <th>29</th>\n",
       "      <td>2019</td>\n",
       "      <td>866</td>\n",
       "      <td>1</td>\n",
       "      <td>1</td>\n",
       "      <td>1437272</td>\n",
       "      <td>26.3</td>\n",
       "      <td>8320000</td>\n",
       "      <td>6620</td>\n",
       "      <td>0</td>\n",
       "      <td>1016</td>\n",
       "      <td>1278.291961</td>\n",
       "    </tr>\n",
       "    <tr>\n",
       "      <th>30</th>\n",
       "      <td>2020</td>\n",
       "      <td>570</td>\n",
       "      <td>1</td>\n",
       "      <td>1</td>\n",
       "      <td>1091799</td>\n",
       "      <td>26.0</td>\n",
       "      <td>7900000</td>\n",
       "      <td>4384</td>\n",
       "      <td>1</td>\n",
       "      <td>866</td>\n",
       "      <td>38432.821109</td>\n",
       "    </tr>\n",
       "  </tbody>\n",
       "</table>\n",
       "</div>"
      ],
      "text/plain": [
       "    Year  Injuries  Players  isleagueExpansion  Miles Traveled  Average Age  \\\n",
       "26  2016       835        1                  1         1429934         27.0   \n",
       "27  2017      1172        1                  1         1452806         26.8   \n",
       "28  2018      1016        1                  1         1464235         26.5   \n",
       "29  2019       866        1                  1         1437272         26.3   \n",
       "30  2020       570        1                  1         1091799         26.0   \n",
       "\n",
       "     salary  Games Played  Shortened Season  prevYrINJ  prediction_insample  \n",
       "26  4441493          6620                 0        814           843.893236  \n",
       "27  5282659          6620                 0        835           929.450878  \n",
       "28  6011008          6620                 0       1172          1234.341184  \n",
       "29  8320000          6620                 0       1016          1278.291961  \n",
       "30  7900000          4384                 1        866         38432.821109  "
      ]
     },
     "execution_count": 25,
     "metadata": {},
     "output_type": "execute_result"
    }
   ],
   "source": [
    "y_pred = fit_model.predict(X_test)\n",
    "# Adding our insample prediction for each year to our test data set\n",
    "test_data.loc[:, 'prediction_insample'] = y_pred.copy()\n",
    "test_data.head()"
   ]
  },
  {
   "cell_type": "code",
   "execution_count": 26,
   "id": "4d67414c",
   "metadata": {},
   "outputs": [
    {
     "name": "stderr",
     "output_type": "stream",
     "text": [
      "/var/folders/3k/6lf4ln2n63b7tvgn2yck__yc0000gn/T/ipykernel_31389/3584602971.py:1: SettingWithCopyWarning: \n",
      "A value is trying to be set on a copy of a slice from a DataFrame.\n",
      "Try using .loc[row_indexer,col_indexer] = value instead\n",
      "\n",
      "See the caveats in the documentation: https://pandas.pydata.org/pandas-docs/stable/user_guide/indexing.html#returning-a-view-versus-a-copy\n",
      "  test_data['error'] = test_data.prediction_insample - test_data.Injuries\n",
      "/var/folders/3k/6lf4ln2n63b7tvgn2yck__yc0000gn/T/ipykernel_31389/3584602971.py:2: SettingWithCopyWarning: \n",
      "A value is trying to be set on a copy of a slice from a DataFrame.\n",
      "Try using .loc[row_indexer,col_indexer] = value instead\n",
      "\n",
      "See the caveats in the documentation: https://pandas.pydata.org/pandas-docs/stable/user_guide/indexing.html#returning-a-view-versus-a-copy\n",
      "  test_data['squared_error'] = test_data['error']**2\n",
      "/var/folders/3k/6lf4ln2n63b7tvgn2yck__yc0000gn/T/ipykernel_31389/3584602971.py:3: SettingWithCopyWarning: \n",
      "A value is trying to be set on a copy of a slice from a DataFrame.\n",
      "Try using .loc[row_indexer,col_indexer] = value instead\n",
      "\n",
      "See the caveats in the documentation: https://pandas.pydata.org/pandas-docs/stable/user_guide/indexing.html#returning-a-view-versus-a-copy\n",
      "  test_data['abs'] = abs(test_data['error'])\n"
     ]
    }
   ],
   "source": [
    "test_data['error'] = test_data.prediction_insample - test_data.Injuries\n",
    "test_data['squared_error'] = test_data['error']**2\n",
    "test_data['abs'] = abs(test_data['error'])\n"
   ]
  },
  {
   "cell_type": "code",
   "execution_count": 27,
   "id": "a4bc80f6",
   "metadata": {},
   "outputs": [
    {
     "data": {
      "text/plain": [
       "count      34.000000\n",
       "mean      576.058824\n",
       "std       381.342282\n",
       "min        28.000000\n",
       "25%       295.000000\n",
       "50%       585.000000\n",
       "75%       851.500000\n",
       "max      1582.000000\n",
       "Name: Injuries, dtype: float64"
      ]
     },
     "execution_count": 27,
     "metadata": {},
     "output_type": "execute_result"
    }
   ],
   "source": [
    "df.describe()[\"Injuries\"]"
   ]
  },
  {
   "cell_type": "code",
   "execution_count": 28,
   "id": "a07e8817",
   "metadata": {
    "scrolled": true
   },
   "outputs": [
    {
     "data": {
      "text/html": [
       "<div>\n",
       "<style scoped>\n",
       "    .dataframe tbody tr th:only-of-type {\n",
       "        vertical-align: middle;\n",
       "    }\n",
       "\n",
       "    .dataframe tbody tr th {\n",
       "        vertical-align: top;\n",
       "    }\n",
       "\n",
       "    .dataframe thead th {\n",
       "        text-align: right;\n",
       "    }\n",
       "</style>\n",
       "<table border=\"1\" class=\"dataframe\">\n",
       "  <thead>\n",
       "    <tr style=\"text-align: right;\">\n",
       "      <th></th>\n",
       "      <th>Year</th>\n",
       "      <th>Injuries</th>\n",
       "      <th>Players</th>\n",
       "      <th>isleagueExpansion</th>\n",
       "      <th>Miles Traveled</th>\n",
       "      <th>Average Age</th>\n",
       "      <th>salary</th>\n",
       "      <th>Games Played</th>\n",
       "      <th>Shortened Season</th>\n",
       "      <th>prevYrINJ</th>\n",
       "    </tr>\n",
       "  </thead>\n",
       "  <tbody>\n",
       "    <tr>\n",
       "      <th>0</th>\n",
       "      <td>1990</td>\n",
       "      <td>64</td>\n",
       "      <td>0</td>\n",
       "      <td>0</td>\n",
       "      <td>1292100</td>\n",
       "      <td>27.1</td>\n",
       "      <td>1670938</td>\n",
       "      <td>6620</td>\n",
       "      <td>0</td>\n",
       "      <td>0</td>\n",
       "    </tr>\n",
       "    <tr>\n",
       "      <th>1</th>\n",
       "      <td>1991</td>\n",
       "      <td>66</td>\n",
       "      <td>0</td>\n",
       "      <td>0</td>\n",
       "      <td>1272578</td>\n",
       "      <td>27.2</td>\n",
       "      <td>831623</td>\n",
       "      <td>6620</td>\n",
       "      <td>0</td>\n",
       "      <td>64</td>\n",
       "    </tr>\n",
       "    <tr>\n",
       "      <th>2</th>\n",
       "      <td>1992</td>\n",
       "      <td>28</td>\n",
       "      <td>0</td>\n",
       "      <td>0</td>\n",
       "      <td>1318286</td>\n",
       "      <td>27.2</td>\n",
       "      <td>954346</td>\n",
       "      <td>6620</td>\n",
       "      <td>0</td>\n",
       "      <td>66</td>\n",
       "    </tr>\n",
       "    <tr>\n",
       "      <th>3</th>\n",
       "      <td>1993</td>\n",
       "      <td>33</td>\n",
       "      <td>0</td>\n",
       "      <td>0</td>\n",
       "      <td>1323961</td>\n",
       "      <td>27.4</td>\n",
       "      <td>1061758</td>\n",
       "      <td>6620</td>\n",
       "      <td>0</td>\n",
       "      <td>28</td>\n",
       "    </tr>\n",
       "    <tr>\n",
       "      <th>4</th>\n",
       "      <td>1994</td>\n",
       "      <td>127</td>\n",
       "      <td>0</td>\n",
       "      <td>0</td>\n",
       "      <td>1320737</td>\n",
       "      <td>27.3</td>\n",
       "      <td>1269884</td>\n",
       "      <td>6620</td>\n",
       "      <td>0</td>\n",
       "      <td>33</td>\n",
       "    </tr>\n",
       "    <tr>\n",
       "      <th>5</th>\n",
       "      <td>1995</td>\n",
       "      <td>245</td>\n",
       "      <td>0</td>\n",
       "      <td>0</td>\n",
       "      <td>1330188</td>\n",
       "      <td>27.7</td>\n",
       "      <td>1360404</td>\n",
       "      <td>6620</td>\n",
       "      <td>0</td>\n",
       "      <td>127</td>\n",
       "    </tr>\n",
       "    <tr>\n",
       "      <th>6</th>\n",
       "      <td>1996</td>\n",
       "      <td>277</td>\n",
       "      <td>0</td>\n",
       "      <td>0</td>\n",
       "      <td>1408035</td>\n",
       "      <td>27.7</td>\n",
       "      <td>1734345</td>\n",
       "      <td>6620</td>\n",
       "      <td>0</td>\n",
       "      <td>245</td>\n",
       "    </tr>\n",
       "    <tr>\n",
       "      <th>7</th>\n",
       "      <td>1997</td>\n",
       "      <td>290</td>\n",
       "      <td>0</td>\n",
       "      <td>0</td>\n",
       "      <td>1433522</td>\n",
       "      <td>28.0</td>\n",
       "      <td>1935172</td>\n",
       "      <td>6620</td>\n",
       "      <td>0</td>\n",
       "      <td>277</td>\n",
       "    </tr>\n",
       "    <tr>\n",
       "      <th>8</th>\n",
       "      <td>1998</td>\n",
       "      <td>157</td>\n",
       "      <td>0</td>\n",
       "      <td>0</td>\n",
       "      <td>1397293</td>\n",
       "      <td>28.1</td>\n",
       "      <td>2121415</td>\n",
       "      <td>6620</td>\n",
       "      <td>0</td>\n",
       "      <td>290</td>\n",
       "    </tr>\n",
       "    <tr>\n",
       "      <th>9</th>\n",
       "      <td>1999</td>\n",
       "      <td>396</td>\n",
       "      <td>0</td>\n",
       "      <td>0</td>\n",
       "      <td>848528</td>\n",
       "      <td>28.0</td>\n",
       "      <td>2456729</td>\n",
       "      <td>4100</td>\n",
       "      <td>1</td>\n",
       "      <td>157</td>\n",
       "    </tr>\n",
       "    <tr>\n",
       "      <th>10</th>\n",
       "      <td>2000</td>\n",
       "      <td>326</td>\n",
       "      <td>0</td>\n",
       "      <td>0</td>\n",
       "      <td>1437353</td>\n",
       "      <td>28.1</td>\n",
       "      <td>2498708</td>\n",
       "      <td>6620</td>\n",
       "      <td>0</td>\n",
       "      <td>396</td>\n",
       "    </tr>\n",
       "    <tr>\n",
       "      <th>11</th>\n",
       "      <td>2001</td>\n",
       "      <td>335</td>\n",
       "      <td>0</td>\n",
       "      <td>0</td>\n",
       "      <td>1385887</td>\n",
       "      <td>28.1</td>\n",
       "      <td>3236011</td>\n",
       "      <td>6620</td>\n",
       "      <td>0</td>\n",
       "      <td>326</td>\n",
       "    </tr>\n",
       "    <tr>\n",
       "      <th>12</th>\n",
       "      <td>2002</td>\n",
       "      <td>318</td>\n",
       "      <td>0</td>\n",
       "      <td>0</td>\n",
       "      <td>1387405</td>\n",
       "      <td>27.6</td>\n",
       "      <td>3395648</td>\n",
       "      <td>6620</td>\n",
       "      <td>0</td>\n",
       "      <td>335</td>\n",
       "    </tr>\n",
       "    <tr>\n",
       "      <th>13</th>\n",
       "      <td>2003</td>\n",
       "      <td>310</td>\n",
       "      <td>0</td>\n",
       "      <td>0</td>\n",
       "      <td>1422138</td>\n",
       "      <td>27.5</td>\n",
       "      <td>3636158</td>\n",
       "      <td>6620</td>\n",
       "      <td>0</td>\n",
       "      <td>318</td>\n",
       "    </tr>\n",
       "    <tr>\n",
       "      <th>14</th>\n",
       "      <td>2004</td>\n",
       "      <td>356</td>\n",
       "      <td>0</td>\n",
       "      <td>0</td>\n",
       "      <td>1487471</td>\n",
       "      <td>27.4</td>\n",
       "      <td>3650914</td>\n",
       "      <td>6620</td>\n",
       "      <td>0</td>\n",
       "      <td>310</td>\n",
       "    </tr>\n",
       "    <tr>\n",
       "      <th>15</th>\n",
       "      <td>2005</td>\n",
       "      <td>627</td>\n",
       "      <td>0</td>\n",
       "      <td>1</td>\n",
       "      <td>1451054</td>\n",
       "      <td>27.3</td>\n",
       "      <td>3705740</td>\n",
       "      <td>6620</td>\n",
       "      <td>0</td>\n",
       "      <td>356</td>\n",
       "    </tr>\n",
       "    <tr>\n",
       "      <th>16</th>\n",
       "      <td>2006</td>\n",
       "      <td>938</td>\n",
       "      <td>0</td>\n",
       "      <td>1</td>\n",
       "      <td>1426874</td>\n",
       "      <td>26.8</td>\n",
       "      <td>3839337</td>\n",
       "      <td>6620</td>\n",
       "      <td>0</td>\n",
       "      <td>627</td>\n",
       "    </tr>\n",
       "    <tr>\n",
       "      <th>17</th>\n",
       "      <td>2007</td>\n",
       "      <td>962</td>\n",
       "      <td>0</td>\n",
       "      <td>1</td>\n",
       "      <td>1476307</td>\n",
       "      <td>26.8</td>\n",
       "      <td>3793016</td>\n",
       "      <td>6620</td>\n",
       "      <td>0</td>\n",
       "      <td>938</td>\n",
       "    </tr>\n",
       "    <tr>\n",
       "      <th>18</th>\n",
       "      <td>2008</td>\n",
       "      <td>857</td>\n",
       "      <td>0</td>\n",
       "      <td>1</td>\n",
       "      <td>1438306</td>\n",
       "      <td>27.1</td>\n",
       "      <td>4244496</td>\n",
       "      <td>6620</td>\n",
       "      <td>0</td>\n",
       "      <td>962</td>\n",
       "    </tr>\n",
       "    <tr>\n",
       "      <th>19</th>\n",
       "      <td>2009</td>\n",
       "      <td>755</td>\n",
       "      <td>0</td>\n",
       "      <td>1</td>\n",
       "      <td>1447629</td>\n",
       "      <td>26.9</td>\n",
       "      <td>4581769</td>\n",
       "      <td>6620</td>\n",
       "      <td>0</td>\n",
       "      <td>857</td>\n",
       "    </tr>\n",
       "    <tr>\n",
       "      <th>20</th>\n",
       "      <td>2010</td>\n",
       "      <td>883</td>\n",
       "      <td>0</td>\n",
       "      <td>1</td>\n",
       "      <td>1434109</td>\n",
       "      <td>27.0</td>\n",
       "      <td>4476258</td>\n",
       "      <td>6620</td>\n",
       "      <td>0</td>\n",
       "      <td>755</td>\n",
       "    </tr>\n",
       "    <tr>\n",
       "      <th>21</th>\n",
       "      <td>2011</td>\n",
       "      <td>600</td>\n",
       "      <td>0</td>\n",
       "      <td>1</td>\n",
       "      <td>1420795</td>\n",
       "      <td>27.1</td>\n",
       "      <td>4334884</td>\n",
       "      <td>4096</td>\n",
       "      <td>1</td>\n",
       "      <td>883</td>\n",
       "    </tr>\n",
       "    <tr>\n",
       "      <th>22</th>\n",
       "      <td>2012</td>\n",
       "      <td>780</td>\n",
       "      <td>0</td>\n",
       "      <td>1</td>\n",
       "      <td>1182465</td>\n",
       "      <td>27.0</td>\n",
       "      <td>4289844</td>\n",
       "      <td>6620</td>\n",
       "      <td>0</td>\n",
       "      <td>600</td>\n",
       "    </tr>\n",
       "    <tr>\n",
       "      <th>23</th>\n",
       "      <td>2013</td>\n",
       "      <td>634</td>\n",
       "      <td>0</td>\n",
       "      <td>1</td>\n",
       "      <td>1415866</td>\n",
       "      <td>27.0</td>\n",
       "      <td>4239567</td>\n",
       "      <td>6620</td>\n",
       "      <td>0</td>\n",
       "      <td>780</td>\n",
       "    </tr>\n",
       "    <tr>\n",
       "      <th>24</th>\n",
       "      <td>2014</td>\n",
       "      <td>679</td>\n",
       "      <td>0</td>\n",
       "      <td>1</td>\n",
       "      <td>1416514</td>\n",
       "      <td>26.9</td>\n",
       "      <td>4865642</td>\n",
       "      <td>6620</td>\n",
       "      <td>0</td>\n",
       "      <td>634</td>\n",
       "    </tr>\n",
       "    <tr>\n",
       "      <th>25</th>\n",
       "      <td>2015</td>\n",
       "      <td>814</td>\n",
       "      <td>0</td>\n",
       "      <td>1</td>\n",
       "      <td>1464641</td>\n",
       "      <td>26.9</td>\n",
       "      <td>4018814</td>\n",
       "      <td>6620</td>\n",
       "      <td>0</td>\n",
       "      <td>679</td>\n",
       "    </tr>\n",
       "    <tr>\n",
       "      <th>26</th>\n",
       "      <td>2016</td>\n",
       "      <td>835</td>\n",
       "      <td>1</td>\n",
       "      <td>1</td>\n",
       "      <td>1429934</td>\n",
       "      <td>27.0</td>\n",
       "      <td>4441493</td>\n",
       "      <td>6620</td>\n",
       "      <td>0</td>\n",
       "      <td>814</td>\n",
       "    </tr>\n",
       "    <tr>\n",
       "      <th>27</th>\n",
       "      <td>2017</td>\n",
       "      <td>1172</td>\n",
       "      <td>1</td>\n",
       "      <td>1</td>\n",
       "      <td>1452806</td>\n",
       "      <td>26.8</td>\n",
       "      <td>5282659</td>\n",
       "      <td>6620</td>\n",
       "      <td>0</td>\n",
       "      <td>835</td>\n",
       "    </tr>\n",
       "    <tr>\n",
       "      <th>28</th>\n",
       "      <td>2018</td>\n",
       "      <td>1016</td>\n",
       "      <td>1</td>\n",
       "      <td>1</td>\n",
       "      <td>1464235</td>\n",
       "      <td>26.5</td>\n",
       "      <td>6011008</td>\n",
       "      <td>6620</td>\n",
       "      <td>0</td>\n",
       "      <td>1172</td>\n",
       "    </tr>\n",
       "    <tr>\n",
       "      <th>29</th>\n",
       "      <td>2019</td>\n",
       "      <td>866</td>\n",
       "      <td>1</td>\n",
       "      <td>1</td>\n",
       "      <td>1437272</td>\n",
       "      <td>26.3</td>\n",
       "      <td>8320000</td>\n",
       "      <td>6620</td>\n",
       "      <td>0</td>\n",
       "      <td>1016</td>\n",
       "    </tr>\n",
       "    <tr>\n",
       "      <th>30</th>\n",
       "      <td>2020</td>\n",
       "      <td>570</td>\n",
       "      <td>1</td>\n",
       "      <td>1</td>\n",
       "      <td>1091799</td>\n",
       "      <td>26.0</td>\n",
       "      <td>7900000</td>\n",
       "      <td>4384</td>\n",
       "      <td>1</td>\n",
       "      <td>866</td>\n",
       "    </tr>\n",
       "    <tr>\n",
       "      <th>31</th>\n",
       "      <td>2021</td>\n",
       "      <td>1582</td>\n",
       "      <td>1</td>\n",
       "      <td>1</td>\n",
       "      <td>1206032</td>\n",
       "      <td>26.0</td>\n",
       "      <td>8500000</td>\n",
       "      <td>4384</td>\n",
       "      <td>1</td>\n",
       "      <td>570</td>\n",
       "    </tr>\n",
       "    <tr>\n",
       "      <th>32</th>\n",
       "      <td>2022</td>\n",
       "      <td>1182</td>\n",
       "      <td>1</td>\n",
       "      <td>1</td>\n",
       "      <td>1409164</td>\n",
       "      <td>26.1</td>\n",
       "      <td>9370000</td>\n",
       "      <td>6620</td>\n",
       "      <td>0</td>\n",
       "      <td>1582</td>\n",
       "    </tr>\n",
       "    <tr>\n",
       "      <th>33</th>\n",
       "      <td>2023</td>\n",
       "      <td>506</td>\n",
       "      <td>1</td>\n",
       "      <td>1</td>\n",
       "      <td>1300373</td>\n",
       "      <td>26.0</td>\n",
       "      <td>9500000</td>\n",
       "      <td>6620</td>\n",
       "      <td>0</td>\n",
       "      <td>1182</td>\n",
       "    </tr>\n",
       "  </tbody>\n",
       "</table>\n",
       "</div>"
      ],
      "text/plain": [
       "    Year  Injuries  Players  isleagueExpansion  Miles Traveled  Average Age  \\\n",
       "0   1990        64        0                  0         1292100         27.1   \n",
       "1   1991        66        0                  0         1272578         27.2   \n",
       "2   1992        28        0                  0         1318286         27.2   \n",
       "3   1993        33        0                  0         1323961         27.4   \n",
       "4   1994       127        0                  0         1320737         27.3   \n",
       "5   1995       245        0                  0         1330188         27.7   \n",
       "6   1996       277        0                  0         1408035         27.7   \n",
       "7   1997       290        0                  0         1433522         28.0   \n",
       "8   1998       157        0                  0         1397293         28.1   \n",
       "9   1999       396        0                  0          848528         28.0   \n",
       "10  2000       326        0                  0         1437353         28.1   \n",
       "11  2001       335        0                  0         1385887         28.1   \n",
       "12  2002       318        0                  0         1387405         27.6   \n",
       "13  2003       310        0                  0         1422138         27.5   \n",
       "14  2004       356        0                  0         1487471         27.4   \n",
       "15  2005       627        0                  1         1451054         27.3   \n",
       "16  2006       938        0                  1         1426874         26.8   \n",
       "17  2007       962        0                  1         1476307         26.8   \n",
       "18  2008       857        0                  1         1438306         27.1   \n",
       "19  2009       755        0                  1         1447629         26.9   \n",
       "20  2010       883        0                  1         1434109         27.0   \n",
       "21  2011       600        0                  1         1420795         27.1   \n",
       "22  2012       780        0                  1         1182465         27.0   \n",
       "23  2013       634        0                  1         1415866         27.0   \n",
       "24  2014       679        0                  1         1416514         26.9   \n",
       "25  2015       814        0                  1         1464641         26.9   \n",
       "26  2016       835        1                  1         1429934         27.0   \n",
       "27  2017      1172        1                  1         1452806         26.8   \n",
       "28  2018      1016        1                  1         1464235         26.5   \n",
       "29  2019       866        1                  1         1437272         26.3   \n",
       "30  2020       570        1                  1         1091799         26.0   \n",
       "31  2021      1582        1                  1         1206032         26.0   \n",
       "32  2022      1182        1                  1         1409164         26.1   \n",
       "33  2023       506        1                  1         1300373         26.0   \n",
       "\n",
       "     salary  Games Played  Shortened Season  prevYrINJ  \n",
       "0   1670938          6620                 0          0  \n",
       "1    831623          6620                 0         64  \n",
       "2    954346          6620                 0         66  \n",
       "3   1061758          6620                 0         28  \n",
       "4   1269884          6620                 0         33  \n",
       "5   1360404          6620                 0        127  \n",
       "6   1734345          6620                 0        245  \n",
       "7   1935172          6620                 0        277  \n",
       "8   2121415          6620                 0        290  \n",
       "9   2456729          4100                 1        157  \n",
       "10  2498708          6620                 0        396  \n",
       "11  3236011          6620                 0        326  \n",
       "12  3395648          6620                 0        335  \n",
       "13  3636158          6620                 0        318  \n",
       "14  3650914          6620                 0        310  \n",
       "15  3705740          6620                 0        356  \n",
       "16  3839337          6620                 0        627  \n",
       "17  3793016          6620                 0        938  \n",
       "18  4244496          6620                 0        962  \n",
       "19  4581769          6620                 0        857  \n",
       "20  4476258          6620                 0        755  \n",
       "21  4334884          4096                 1        883  \n",
       "22  4289844          6620                 0        600  \n",
       "23  4239567          6620                 0        780  \n",
       "24  4865642          6620                 0        634  \n",
       "25  4018814          6620                 0        679  \n",
       "26  4441493          6620                 0        814  \n",
       "27  5282659          6620                 0        835  \n",
       "28  6011008          6620                 0       1172  \n",
       "29  8320000          6620                 0       1016  \n",
       "30  7900000          4384                 1        866  \n",
       "31  8500000          4384                 1        570  \n",
       "32  9370000          6620                 0       1582  \n",
       "33  9500000          6620                 0       1182  "
      ]
     },
     "execution_count": 28,
     "metadata": {},
     "output_type": "execute_result"
    }
   ],
   "source": [
    "df"
   ]
  },
  {
   "cell_type": "markdown",
   "id": "abf2c5b7",
   "metadata": {},
   "source": [
    "### Plotting the Test Results\n",
    "<a id=\"4.1-PTR\"><a>"
   ]
  },
  {
   "cell_type": "code",
   "execution_count": 29,
   "id": "e6af80a6",
   "metadata": {},
   "outputs": [
    {
     "name": "stderr",
     "output_type": "stream",
     "text": [
      "No artists with labels found to put in legend.  Note that artists whose label start with an underscore are ignored when legend() is called with no argument.\n"
     ]
    },
    {
     "data": {
      "image/png": "[encoded data removed]",
      "text/plain": [
       "<Figure size 640x480 with 1 Axes>"
      ]
     },
     "metadata": {},
     "output_type": "display_data"
    }
   ],
   "source": [
    "sns.set(style=\"darkgrid\")\n",
    "sns.lineplot(x=test_data['Year'], y=test_data['Injuries'], data=test_data)\n",
    "sns.lineplot(x=test_data['Year'], y=test_data['prediction_insample'], data=test_data)\n",
    "plt.legend()\n",
    "plt.xlabel('Year')\n",
    "plt.ylabel('Number of Injuries')\n",
    "plt.title('Number of Injuries Year by Year')\n",
    "ax = plt.gca()\n",
    "ax.xaxis.set_major_locator(ticker.MaxNLocator(integer=True))\n",
    "plt.show()\n"
   ]
  },
  {
   "cell_type": "markdown",
   "id": "ff79de6e",
   "metadata": {},
   "source": [
    "> **Outliers appeared in years 2020 and 2021 for the data**  \n",
    "**To combat this, I will be using Huber Regression**"
   ]
  },
  {
   "cell_type": "markdown",
   "id": "6a288fc0",
   "metadata": {},
   "source": [
    "## Outlier Handling\n",
    "<a id=\"5-OH\"><a>"
   ]
  },
  {
   "cell_type": "code",
   "execution_count": 30,
   "id": "8f8e06a4",
   "metadata": {
    "scrolled": true
   },
   "outputs": [
    {
     "name": "stderr",
     "output_type": "stream",
     "text": [
      "/var/folders/3k/6lf4ln2n63b7tvgn2yck__yc0000gn/T/ipykernel_31389/1372809359.py:13: SettingWithCopyWarning: \n",
      "A value is trying to be set on a copy of a slice from a DataFrame.\n",
      "Try using .loc[row_indexer,col_indexer] = value instead\n",
      "\n",
      "See the caveats in the documentation: https://pandas.pydata.org/pandas-docs/stable/user_guide/indexing.html#returning-a-view-versus-a-copy\n",
      "  huber_dataset['prediction_insample'] = y_pred\n"
     ]
    }
   ],
   "source": [
    "# I currently have outlier for my 2020 and 2021 predictions\n",
    "# I will attempt to use Huber Regression to account for these outliers \n",
    "from sklearn.linear_model import HuberRegressor\n",
    "huber_dataset = df[26:]\n",
    "X_huber = huber_dataset[[ 'Games Played', 'Shortened Season', 'Miles Traveled', 'Average Age', 'salary', 'prevYrINJ']]\n",
    "y_huber = huber_dataset['Injuries']\n",
    "\n",
    "huber_reg = HuberRegressor()\n",
    "huber_reg.fit(X_huber, y_huber)\n",
    "\n",
    "y_pred = huber_reg.predict(X_huber)\n",
    "\n",
    "huber_dataset['prediction_insample'] = y_pred\n"
   ]
  },
  {
   "cell_type": "code",
   "execution_count": 31,
   "id": "46c08072",
   "metadata": {},
   "outputs": [
    {
     "name": "stderr",
     "output_type": "stream",
     "text": [
      "/var/folders/3k/6lf4ln2n63b7tvgn2yck__yc0000gn/T/ipykernel_31389/2283756543.py:1: SettingWithCopyWarning: \n",
      "A value is trying to be set on a copy of a slice from a DataFrame.\n",
      "Try using .loc[row_indexer,col_indexer] = value instead\n",
      "\n",
      "See the caveats in the documentation: https://pandas.pydata.org/pandas-docs/stable/user_guide/indexing.html#returning-a-view-versus-a-copy\n",
      "  huber_dataset['error'] = huber_dataset.prediction_insample - huber_dataset.Injuries\n",
      "/var/folders/3k/6lf4ln2n63b7tvgn2yck__yc0000gn/T/ipykernel_31389/2283756543.py:2: SettingWithCopyWarning: \n",
      "A value is trying to be set on a copy of a slice from a DataFrame.\n",
      "Try using .loc[row_indexer,col_indexer] = value instead\n",
      "\n",
      "See the caveats in the documentation: https://pandas.pydata.org/pandas-docs/stable/user_guide/indexing.html#returning-a-view-versus-a-copy\n",
      "  huber_dataset['squared_error'] = huber_dataset['error']**2\n",
      "/var/folders/3k/6lf4ln2n63b7tvgn2yck__yc0000gn/T/ipykernel_31389/2283756543.py:3: SettingWithCopyWarning: \n",
      "A value is trying to be set on a copy of a slice from a DataFrame.\n",
      "Try using .loc[row_indexer,col_indexer] = value instead\n",
      "\n",
      "See the caveats in the documentation: https://pandas.pydata.org/pandas-docs/stable/user_guide/indexing.html#returning-a-view-versus-a-copy\n",
      "  huber_dataset['abs'] = abs(huber_dataset['error'])\n"
     ]
    }
   ],
   "source": [
    "huber_dataset['error'] = huber_dataset.prediction_insample - huber_dataset.Injuries\n",
    "huber_dataset['squared_error'] = huber_dataset['error']**2\n",
    "huber_dataset['abs'] = abs(huber_dataset['error'])"
   ]
  },
  {
   "cell_type": "code",
   "execution_count": 32,
   "id": "98b40e36",
   "metadata": {},
   "outputs": [
    {
     "data": {
      "image/png": "[encoded data removed]",
      "text/plain": [
       "<Figure size 640x480 with 1 Axes>"
      ]
     },
     "metadata": {},
     "output_type": "display_data"
    }
   ],
   "source": [
    "plt.plot(huber_dataset['Year'], huber_dataset['prediction_insample'], 'r-', label='Predicted Data')\n",
    "sns.set(style=\"darkgrid\")\n",
    "sns.lineplot(x='Year', y='Injuries', data=huber_dataset)\n",
    "plt.legend()\n",
    "plt.xlabel('Year')\n",
    "plt.ylabel('Number of Injuries')\n",
    "plt.title('Number of Injuries Year by Year')\n",
    "ax = plt.gca()\n",
    "ax.xaxis.set_major_locator(plt.MaxNLocator(integer=True))\n",
    "plt.show()"
   ]
  },
  {
   "cell_type": "code",
   "execution_count": 33,
   "id": "cc875e25",
   "metadata": {},
   "outputs": [],
   "source": [
    "# give a run down of the features and the coeffecients\n",
    "# (for every thousand mile travelled injuries increased by 2 percent)"
   ]
  },
  {
   "cell_type": "code",
   "execution_count": null,
   "id": "6f631fa3",
   "metadata": {},
   "outputs": [],
   "source": []
  },
  {
   "cell_type": "code",
   "execution_count": null,
   "id": "374f0159",
   "metadata": {},
   "outputs": [],
   "source": []
  }
 ],
 "metadata": {
  "kernelspec": {
   "display_name": "Python 3 (ipykernel)",
   "language": "python",
   "name": "python3"
  },
  "language_info": {
   "codemirror_mode": {
    "name": "ipython",
    "version": 3
   },
   "file_extension": ".py",
   "mimetype": "text/x-python",
   "name": "python",
   "nbconvert_exporter": "python",
   "pygments_lexer": "ipython3",
   "version": "3.9.4"
  },
  "toc": {
   "base_numbering": 1,
   "nav_menu": {},
   "number_sections": true,
   "sideBar": true,
   "skip_h1_title": false,
   "title_cell": "Table of Contents",
   "title_sidebar": "Contents",
   "toc_cell": false,
   "toc_position": {
    "height": "calc(100% - 180px)",
    "left": "10px",
    "top": "150px",
    "width": "165px"
   },
   "toc_section_display": true,
   "toc_window_display": false
  }
 },
 "nbformat": 4,
 "nbformat_minor": 5
}
