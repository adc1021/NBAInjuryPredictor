{
 "cells": [
  {
   "cell_type": "code",
   "execution_count": 1,
   "id": "c731a143",
   "metadata": {},
   "outputs": [],
   "source": [
    "import pandas as pd\n",
    "import seaborn as sns\n",
    "import matplotlib as mpl\n",
    "import matplotlib.pyplot as plt\n",
    "from sklearn.preprocessing import LabelEncoder\n",
    "import numpy as np\n",
    "from sklearn.model_selection import train_test_split\n",
    "from sklearn.linear_model import LinearRegression\n",
    "from sklearn.ensemble import RandomForestClassifier\n",
    "from sklearn.metrics import mean_squared_error\n",
    "from sklearn.metrics import roc_auc_score "
   ]
  },
  {
   "cell_type": "code",
   "execution_count": 2,
   "id": "61d15813",
   "metadata": {},
   "outputs": [],
   "source": [
    "injuryData = pd.read_csv(\"~/Documents/Job Search - 2023/NBA_Injury_Predictor/Injuries.csv\")"
   ]
  },
  {
   "cell_type": "code",
   "execution_count": 3,
   "id": "5a06ffc1",
   "metadata": {},
   "outputs": [],
   "source": [
    "injuryData.rename(columns={'Unnamed: 0': 'ID'}, inplace=True)\n",
    "injuryData.rename(columns={'Notes': 'Injury Type'}, inplace=True)\n",
    "injuryData.rename(columns={'Relinquished': 'Player'}, inplace=True)"
   ]
  },
  {
   "cell_type": "markdown",
   "id": "6eeccf28",
   "metadata": {},
   "source": [
    "### We want to separate the dataset by year to get a good idea of the total number of injuries that have occured annually"
   ]
  },
  {
   "cell_type": "code",
   "execution_count": 4,
   "id": "909ac144",
   "metadata": {},
   "outputs": [],
   "source": [
    "# Setting the objects in the column to a pandas datetime object\n",
    "injuryData['Date'] = pd.to_datetime(injuryData['Date'])\n",
    "\n",
    "#Grouping rows by 'decade' column\n",
    "injuryData['Year'] = (injuryData['Date'].dt.year)"
   ]
  },
  {
   "cell_type": "markdown",
   "id": "bfe853a3",
   "metadata": {},
   "source": [
    "### Let's now remove all rows where the players have been acquired back from the IL \n"
   ]
  },
  {
   "cell_type": "code",
   "execution_count": 5,
   "id": "5c337a2c",
   "metadata": {},
   "outputs": [],
   "source": [
    "# Removing the Acquired column removes all duplicates \n",
    "injuryData = injuryData[injuryData['Acquired'].isna()]\n",
    "del injuryData['Acquired']"
   ]
  },
  {
   "cell_type": "markdown",
   "id": "d5baac7a",
   "metadata": {},
   "source": [
    "### Now let's calculate the total sum of injuries for each Year"
   ]
  },
  {
   "cell_type": "code",
   "execution_count": 6,
   "id": "1b1e6845",
   "metadata": {},
   "outputs": [],
   "source": [
    "# We only want to include data from the years after 1989 \n",
    "yearly_injuries = {}\n",
    "total_injuries = 0\n",
    "for year, group in injuryData.groupby('Year'):\n",
    "    if year > 1989: \n",
    "        injuries = group.shape[0]\n",
    "        yearly_injuries[year] = injuries\n",
    "        total_injuries += injuries\n",
    "#         print(f\"Year: {year} Injuries: {injuries}\")\n",
    "#         print(f\"Total Injuries: {total_injuries}\")\n",
    "#         print(\"---------------------------------------------\")\n",
    "        "
   ]
  },
  {
   "cell_type": "code",
   "execution_count": 7,
   "id": "5199e6e8",
   "metadata": {},
   "outputs": [],
   "source": [
    "# Now let's remove all the rows from the data frame that have data before 1990\n",
    "injuryData = injuryData[injuryData['Year'] >= 1990]"
   ]
  },
  {
   "cell_type": "markdown",
   "id": "ab684292",
   "metadata": {},
   "source": [
    "## It is important to note that the NBA did not have and IR/IL until the 1989-1990 season. Prior to this injured players were still members of the active roster. For this reason, it's likely many injuries do not appear in the dataset."
   ]
  },
  {
   "cell_type": "code",
   "execution_count": 8,
   "id": "d94c7061",
   "metadata": {
    "scrolled": true
   },
   "outputs": [
    {
     "data": {
      "text/html": [
       "<div>\n",
       "<style scoped>\n",
       "    .dataframe tbody tr th:only-of-type {\n",
       "        vertical-align: middle;\n",
       "    }\n",
       "\n",
       "    .dataframe tbody tr th {\n",
       "        vertical-align: top;\n",
       "    }\n",
       "\n",
       "    .dataframe thead th {\n",
       "        text-align: right;\n",
       "    }\n",
       "</style>\n",
       "<table border=\"1\" class=\"dataframe\">\n",
       "  <thead>\n",
       "    <tr style=\"text-align: right;\">\n",
       "      <th></th>\n",
       "      <th>Year</th>\n",
       "      <th>Injuries</th>\n",
       "    </tr>\n",
       "  </thead>\n",
       "  <tbody>\n",
       "    <tr>\n",
       "      <th>0</th>\n",
       "      <td>1990</td>\n",
       "      <td>64</td>\n",
       "    </tr>\n",
       "    <tr>\n",
       "      <th>1</th>\n",
       "      <td>1991</td>\n",
       "      <td>66</td>\n",
       "    </tr>\n",
       "    <tr>\n",
       "      <th>2</th>\n",
       "      <td>1992</td>\n",
       "      <td>28</td>\n",
       "    </tr>\n",
       "    <tr>\n",
       "      <th>3</th>\n",
       "      <td>1993</td>\n",
       "      <td>33</td>\n",
       "    </tr>\n",
       "    <tr>\n",
       "      <th>4</th>\n",
       "      <td>1994</td>\n",
       "      <td>127</td>\n",
       "    </tr>\n",
       "    <tr>\n",
       "      <th>5</th>\n",
       "      <td>1995</td>\n",
       "      <td>245</td>\n",
       "    </tr>\n",
       "    <tr>\n",
       "      <th>6</th>\n",
       "      <td>1996</td>\n",
       "      <td>277</td>\n",
       "    </tr>\n",
       "    <tr>\n",
       "      <th>7</th>\n",
       "      <td>1997</td>\n",
       "      <td>290</td>\n",
       "    </tr>\n",
       "    <tr>\n",
       "      <th>8</th>\n",
       "      <td>1998</td>\n",
       "      <td>157</td>\n",
       "    </tr>\n",
       "    <tr>\n",
       "      <th>9</th>\n",
       "      <td>1999</td>\n",
       "      <td>396</td>\n",
       "    </tr>\n",
       "    <tr>\n",
       "      <th>10</th>\n",
       "      <td>2000</td>\n",
       "      <td>326</td>\n",
       "    </tr>\n",
       "    <tr>\n",
       "      <th>11</th>\n",
       "      <td>2001</td>\n",
       "      <td>335</td>\n",
       "    </tr>\n",
       "    <tr>\n",
       "      <th>12</th>\n",
       "      <td>2002</td>\n",
       "      <td>318</td>\n",
       "    </tr>\n",
       "    <tr>\n",
       "      <th>13</th>\n",
       "      <td>2003</td>\n",
       "      <td>310</td>\n",
       "    </tr>\n",
       "    <tr>\n",
       "      <th>14</th>\n",
       "      <td>2004</td>\n",
       "      <td>356</td>\n",
       "    </tr>\n",
       "    <tr>\n",
       "      <th>15</th>\n",
       "      <td>2005</td>\n",
       "      <td>627</td>\n",
       "    </tr>\n",
       "    <tr>\n",
       "      <th>16</th>\n",
       "      <td>2006</td>\n",
       "      <td>938</td>\n",
       "    </tr>\n",
       "    <tr>\n",
       "      <th>17</th>\n",
       "      <td>2007</td>\n",
       "      <td>962</td>\n",
       "    </tr>\n",
       "    <tr>\n",
       "      <th>18</th>\n",
       "      <td>2008</td>\n",
       "      <td>857</td>\n",
       "    </tr>\n",
       "    <tr>\n",
       "      <th>19</th>\n",
       "      <td>2009</td>\n",
       "      <td>755</td>\n",
       "    </tr>\n",
       "    <tr>\n",
       "      <th>20</th>\n",
       "      <td>2010</td>\n",
       "      <td>883</td>\n",
       "    </tr>\n",
       "    <tr>\n",
       "      <th>21</th>\n",
       "      <td>2011</td>\n",
       "      <td>600</td>\n",
       "    </tr>\n",
       "    <tr>\n",
       "      <th>22</th>\n",
       "      <td>2012</td>\n",
       "      <td>780</td>\n",
       "    </tr>\n",
       "    <tr>\n",
       "      <th>23</th>\n",
       "      <td>2013</td>\n",
       "      <td>634</td>\n",
       "    </tr>\n",
       "    <tr>\n",
       "      <th>24</th>\n",
       "      <td>2014</td>\n",
       "      <td>679</td>\n",
       "    </tr>\n",
       "    <tr>\n",
       "      <th>25</th>\n",
       "      <td>2015</td>\n",
       "      <td>814</td>\n",
       "    </tr>\n",
       "    <tr>\n",
       "      <th>26</th>\n",
       "      <td>2016</td>\n",
       "      <td>835</td>\n",
       "    </tr>\n",
       "    <tr>\n",
       "      <th>27</th>\n",
       "      <td>2017</td>\n",
       "      <td>1172</td>\n",
       "    </tr>\n",
       "    <tr>\n",
       "      <th>28</th>\n",
       "      <td>2018</td>\n",
       "      <td>1016</td>\n",
       "    </tr>\n",
       "    <tr>\n",
       "      <th>29</th>\n",
       "      <td>2019</td>\n",
       "      <td>866</td>\n",
       "    </tr>\n",
       "    <tr>\n",
       "      <th>30</th>\n",
       "      <td>2020</td>\n",
       "      <td>570</td>\n",
       "    </tr>\n",
       "    <tr>\n",
       "      <th>31</th>\n",
       "      <td>2021</td>\n",
       "      <td>1582</td>\n",
       "    </tr>\n",
       "    <tr>\n",
       "      <th>32</th>\n",
       "      <td>2022</td>\n",
       "      <td>1182</td>\n",
       "    </tr>\n",
       "    <tr>\n",
       "      <th>33</th>\n",
       "      <td>2023</td>\n",
       "      <td>506</td>\n",
       "    </tr>\n",
       "  </tbody>\n",
       "</table>\n",
       "</div>"
      ],
      "text/plain": [
       "    Year  Injuries\n",
       "0   1990        64\n",
       "1   1991        66\n",
       "2   1992        28\n",
       "3   1993        33\n",
       "4   1994       127\n",
       "5   1995       245\n",
       "6   1996       277\n",
       "7   1997       290\n",
       "8   1998       157\n",
       "9   1999       396\n",
       "10  2000       326\n",
       "11  2001       335\n",
       "12  2002       318\n",
       "13  2003       310\n",
       "14  2004       356\n",
       "15  2005       627\n",
       "16  2006       938\n",
       "17  2007       962\n",
       "18  2008       857\n",
       "19  2009       755\n",
       "20  2010       883\n",
       "21  2011       600\n",
       "22  2012       780\n",
       "23  2013       634\n",
       "24  2014       679\n",
       "25  2015       814\n",
       "26  2016       835\n",
       "27  2017      1172\n",
       "28  2018      1016\n",
       "29  2019       866\n",
       "30  2020       570\n",
       "31  2021      1582\n",
       "32  2022      1182\n",
       "33  2023       506"
      ]
     },
     "execution_count": 8,
     "metadata": {},
     "output_type": "execute_result"
    }
   ],
   "source": [
    "df = pd.DataFrame(yearly_injuries.items(), columns=['Year', 'Injuries'])\n",
    "df"
   ]
  },
  {
   "cell_type": "code",
   "execution_count": 9,
   "id": "8b360dc6",
   "metadata": {},
   "outputs": [
    {
     "data": {
      "text/plain": [
       "Text(0.5, 1.0, 'Number of Injuries Year by Year')"
      ]
     },
     "execution_count": 9,
     "metadata": {},
     "output_type": "execute_result"
    },
    {
     "data": {
      "image/png": "[encoded data removed]",
      "text/plain": [
       "<Figure size 640x480 with 1 Axes>"
      ]
     },
     "metadata": {},
     "output_type": "display_data"
    }
   ],
   "source": [
    "sns.set(style=\"darkgrid\")\n",
    "sns.lineplot(x=yearly_injuries.keys(), y=yearly_injuries.values(), data=yearly_injuries)\n",
    "plt.xlabel('Year')\n",
    "plt.ylabel('Number of Injuries')\n",
    "plt.title('Number of Injuries Year by Year')"
   ]
  },
  {
   "cell_type": "code",
   "execution_count": 10,
   "id": "fc164a10",
   "metadata": {},
   "outputs": [
    {
     "name": "stdout",
     "output_type": "stream",
     "text": [
      "Number of unique teams: 33\n"
     ]
    }
   ],
   "source": [
    "unique_values = injuryData['Team'].nunique()\n",
    "print(\"Number of unique teams:\", unique_values)"
   ]
  },
  {
   "cell_type": "markdown",
   "id": "e2d87510",
   "metadata": {},
   "source": [
    "### Now let's get a Train and a Test set so we can fit out data to a model"
   ]
  },
  {
   "cell_type": "code",
   "execution_count": 11,
   "id": "94e04eb4",
   "metadata": {},
   "outputs": [],
   "source": [
    "X_train, X_test, y_train, y_test = train_test_split(df['Year'], df['Injuries'], test_size=0.2, random_state=42)\n",
    "X_train = np.array(X_train).reshape(-1, 1)\n",
    "y_train = np.array(y_train).reshape(-1, 1)\n",
    "X_test = np.array(X_test).reshape(-1, 1)\n",
    "y_test = np.array(y_test).reshape(-1, 1)"
   ]
  },
  {
   "cell_type": "code",
   "execution_count": 12,
   "id": "305b7447",
   "metadata": {},
   "outputs": [
    {
     "data": {
      "text/html": [
       "<style>#sk-container-id-1 {color: black;background-color: white;}#sk-container-id-1 pre{padding: 0;}#sk-container-id-1 div.sk-toggleable {background-color: white;}#sk-container-id-1 label.sk-toggleable__label {cursor: pointer;display: block;width: 100%;margin-bottom: 0;padding: 0.3em;box-sizing: border-box;text-align: center;}#sk-container-id-1 label.sk-toggleable__label-arrow:before {content: \"▸\";float: left;margin-right: 0.25em;color: #696969;}#sk-container-id-1 label.sk-toggleable__label-arrow:hover:before {color: black;}#sk-container-id-1 div.sk-estimator:hover label.sk-toggleable__label-arrow:before {color: black;}#sk-container-id-1 div.sk-toggleable__content {max-height: 0;max-width: 0;overflow: hidden;text-align: left;background-color: #f0f8ff;}#sk-container-id-1 div.sk-toggleable__content pre {margin: 0.2em;color: black;border-radius: 0.25em;background-color: #f0f8ff;}#sk-container-id-1 input.sk-toggleable__control:checked~div.sk-toggleable__content {max-height: 200px;max-width: 100%;overflow: auto;}#sk-container-id-1 input.sk-toggleable__control:checked~label.sk-toggleable__label-arrow:before {content: \"▾\";}#sk-container-id-1 div.sk-estimator input.sk-toggleable__control:checked~label.sk-toggleable__label {background-color: #d4ebff;}#sk-container-id-1 div.sk-label input.sk-toggleable__control:checked~label.sk-toggleable__label {background-color: #d4ebff;}#sk-container-id-1 input.sk-hidden--visually {border: 0;clip: rect(1px 1px 1px 1px);clip: rect(1px, 1px, 1px, 1px);height: 1px;margin: -1px;overflow: hidden;padding: 0;position: absolute;width: 1px;}#sk-container-id-1 div.sk-estimator {font-family: monospace;background-color: #f0f8ff;border: 1px dotted black;border-radius: 0.25em;box-sizing: border-box;margin-bottom: 0.5em;}#sk-container-id-1 div.sk-estimator:hover {background-color: #d4ebff;}#sk-container-id-1 div.sk-parallel-item::after {content: \"\";width: 100%;border-bottom: 1px solid gray;flex-grow: 1;}#sk-container-id-1 div.sk-label:hover label.sk-toggleable__label {background-color: #d4ebff;}#sk-container-id-1 div.sk-serial::before {content: \"\";position: absolute;border-left: 1px solid gray;box-sizing: border-box;top: 0;bottom: 0;left: 50%;z-index: 0;}#sk-container-id-1 div.sk-serial {display: flex;flex-direction: column;align-items: center;background-color: white;padding-right: 0.2em;padding-left: 0.2em;position: relative;}#sk-container-id-1 div.sk-item {position: relative;z-index: 1;}#sk-container-id-1 div.sk-parallel {display: flex;align-items: stretch;justify-content: center;background-color: white;position: relative;}#sk-container-id-1 div.sk-item::before, #sk-container-id-1 div.sk-parallel-item::before {content: \"\";position: absolute;border-left: 1px solid gray;box-sizing: border-box;top: 0;bottom: 0;left: 50%;z-index: -1;}#sk-container-id-1 div.sk-parallel-item {display: flex;flex-direction: column;z-index: 1;position: relative;background-color: white;}#sk-container-id-1 div.sk-parallel-item:first-child::after {align-self: flex-end;width: 50%;}#sk-container-id-1 div.sk-parallel-item:last-child::after {align-self: flex-start;width: 50%;}#sk-container-id-1 div.sk-parallel-item:only-child::after {width: 0;}#sk-container-id-1 div.sk-dashed-wrapped {border: 1px dashed gray;margin: 0 0.4em 0.5em 0.4em;box-sizing: border-box;padding-bottom: 0.4em;background-color: white;}#sk-container-id-1 div.sk-label label {font-family: monospace;font-weight: bold;display: inline-block;line-height: 1.2em;}#sk-container-id-1 div.sk-label-container {text-align: center;}#sk-container-id-1 div.sk-container {/* jupyter's `normalize.less` sets `[hidden] { display: none; }` but bootstrap.min.css set `[hidden] { display: none !important; }` so we also need the `!important` here to be able to override the default hidden behavior on the sphinx rendered scikit-learn.org. See: https://github.com/scikit-learn/scikit-learn/issues/21755 */display: inline-block !important;position: relative;}#sk-container-id-1 div.sk-text-repr-fallback {display: none;}</style><div id=\"sk-container-id-1\" class=\"sk-top-container\"><div class=\"sk-text-repr-fallback\"><pre>LinearRegression()</pre><b>In a Jupyter environment, please rerun this cell to show the HTML representation or trust the notebook. <br />On GitHub, the HTML representation is unable to render, please try loading this page with nbviewer.org.</b></div><div class=\"sk-container\" hidden><div class=\"sk-item\"><div class=\"sk-estimator sk-toggleable\"><input class=\"sk-toggleable__control sk-hidden--visually\" id=\"sk-estimator-id-1\" type=\"checkbox\" checked><label for=\"sk-estimator-id-1\" class=\"sk-toggleable__label sk-toggleable__label-arrow\">LinearRegression</label><div class=\"sk-toggleable__content\"><pre>LinearRegression()</pre></div></div></div></div></div>"
      ],
      "text/plain": [
       "LinearRegression()"
      ]
     },
     "execution_count": 12,
     "metadata": {},
     "output_type": "execute_result"
    }
   ],
   "source": [
    "model = LinearRegression()\n",
    "model.fit(X_train, y_train)\n"
   ]
  },
  {
   "cell_type": "code",
   "execution_count": 13,
   "id": "a766ea3f",
   "metadata": {},
   "outputs": [
    {
     "data": {
      "text/plain": [
       "(7, 1)"
      ]
     },
     "execution_count": 13,
     "metadata": {},
     "output_type": "execute_result"
    }
   ],
   "source": [
    "predictions = model.predict(X_test)\n",
    "predictions.shape"
   ]
  },
  {
   "cell_type": "code",
   "execution_count": 30,
   "id": "1e246ef6",
   "metadata": {},
   "outputs": [
    {
     "data": {
      "text/plain": [
       "21250.757990118895"
      ]
     },
     "execution_count": 30,
     "metadata": {},
     "output_type": "execute_result"
    }
   ],
   "source": [
    "mse = mean_squared_error(y_test, predictions)\n",
    "mse"
   ]
  },
  {
   "cell_type": "code",
   "execution_count": 32,
   "id": "160c9937",
   "metadata": {},
   "outputs": [
    {
     "data": {
      "image/png": "[encoded data removed]",
      "text/plain": [
       "<Figure size 640x480 with 1 Axes>"
      ]
     },
     "metadata": {},
     "output_type": "display_data"
    }
   ],
   "source": [
    "plt.scatter(df['Year'], df['Injuries'] , color='b', label='Actual data')\n",
    "plt.plot(df['Year'], df['Injuries'], color='r', label='Regression line')\n",
    "plt.xlabel('Year')\n",
    "plt.ylabel('Data')\n",
    "plt.title('Linear Regression')\n",
    "plt.legend()\n",
    "plt.show()\n"
   ]
  },
  {
   "cell_type": "markdown",
   "id": "cb8044d7",
   "metadata": {},
   "source": [
    "### We now have a more accurate dataset representing the total number of injuries from 1990-Present. \n",
    "\n",
    "### Let's get the average number of injuries per season over this time span"
   ]
  },
  {
   "cell_type": "code",
   "execution_count": 15,
   "id": "ee89b7ff",
   "metadata": {},
   "outputs": [
    {
     "name": "stdout",
     "output_type": "stream",
     "text": [
      "576.0588235294117\n",
      "19586\n"
     ]
    }
   ],
   "source": [
    "# Occassionally the Dataframe will not properly remove all irrelevent rows\n",
    "injury_numbers_list = list(yearly_injuries.values())\n",
    "avg_inj_per_year = np.mean(injury_numbers_list, axis=0)\n",
    "print(avg_inj_per_year)\n",
    "print(np.sum(injury_numbers_list, axis=0))"
   ]
  },
  {
   "cell_type": "markdown",
   "id": "f9836f40",
   "metadata": {},
   "source": [
    "## I'd now like to encode each individual player name, as well as remove the date column"
   ]
  },
  {
   "cell_type": "code",
   "execution_count": 16,
   "id": "b89dc59f",
   "metadata": {},
   "outputs": [],
   "source": [
    "del injuryData['Date']\n",
    "label_encoder = LabelEncoder()\n",
    "injuryData['Player']=label_encoder.fit_transform(injuryData['Player'])\n"
   ]
  },
  {
   "cell_type": "code",
   "execution_count": 17,
   "id": "01281dde",
   "metadata": {},
   "outputs": [
    {
     "data": {
      "text/html": [
       "<div>\n",
       "<style scoped>\n",
       "    .dataframe tbody tr th:only-of-type {\n",
       "        vertical-align: middle;\n",
       "    }\n",
       "\n",
       "    .dataframe tbody tr th {\n",
       "        vertical-align: top;\n",
       "    }\n",
       "\n",
       "    .dataframe thead th {\n",
       "        text-align: right;\n",
       "    }\n",
       "</style>\n",
       "<table border=\"1\" class=\"dataframe\">\n",
       "  <thead>\n",
       "    <tr style=\"text-align: right;\">\n",
       "      <th></th>\n",
       "      <th>ID</th>\n",
       "      <th>Team</th>\n",
       "      <th>Player</th>\n",
       "      <th>Injury Type</th>\n",
       "      <th>Year</th>\n",
       "    </tr>\n",
       "  </thead>\n",
       "  <tbody>\n",
       "    <tr>\n",
       "      <th>728</th>\n",
       "      <td>728</td>\n",
       "      <td>Cavaliers</td>\n",
       "      <td>2392</td>\n",
       "      <td>placed on IL with sprained left knee</td>\n",
       "      <td>1990</td>\n",
       "    </tr>\n",
       "    <tr>\n",
       "      <th>730</th>\n",
       "      <td>730</td>\n",
       "      <td>Magic</td>\n",
       "      <td>1139</td>\n",
       "      <td>placed on IL</td>\n",
       "      <td>1990</td>\n",
       "    </tr>\n",
       "    <tr>\n",
       "      <th>732</th>\n",
       "      <td>732</td>\n",
       "      <td>Hawks</td>\n",
       "      <td>423</td>\n",
       "      <td>placed on IL</td>\n",
       "      <td>1990</td>\n",
       "    </tr>\n",
       "    <tr>\n",
       "      <th>734</th>\n",
       "      <td>734</td>\n",
       "      <td>Hawks</td>\n",
       "      <td>1179</td>\n",
       "      <td>placed on IL</td>\n",
       "      <td>1990</td>\n",
       "    </tr>\n",
       "    <tr>\n",
       "      <th>735</th>\n",
       "      <td>735</td>\n",
       "      <td>76ers</td>\n",
       "      <td>1336</td>\n",
       "      <td>placed on IL with shin splints</td>\n",
       "      <td>1990</td>\n",
       "    </tr>\n",
       "    <tr>\n",
       "      <th>...</th>\n",
       "      <td>...</td>\n",
       "      <td>...</td>\n",
       "      <td>...</td>\n",
       "      <td>...</td>\n",
       "      <td>...</td>\n",
       "    </tr>\n",
       "    <tr>\n",
       "      <th>37624</th>\n",
       "      <td>37624</td>\n",
       "      <td>Grizzlies</td>\n",
       "      <td>960</td>\n",
       "      <td>placed on IL with right hand injury</td>\n",
       "      <td>2023</td>\n",
       "    </tr>\n",
       "    <tr>\n",
       "      <th>37625</th>\n",
       "      <td>37625</td>\n",
       "      <td>Grizzlies</td>\n",
       "      <td>1055</td>\n",
       "      <td>placed on IL with sore left elbow</td>\n",
       "      <td>2023</td>\n",
       "    </tr>\n",
       "    <tr>\n",
       "      <th>37630</th>\n",
       "      <td>37630</td>\n",
       "      <td>Kings</td>\n",
       "      <td>553</td>\n",
       "      <td>placed on IL with sore left knee</td>\n",
       "      <td>2023</td>\n",
       "    </tr>\n",
       "    <tr>\n",
       "      <th>37631</th>\n",
       "      <td>37631</td>\n",
       "      <td>Knicks</td>\n",
       "      <td>2298</td>\n",
       "      <td>placed on IL with illness</td>\n",
       "      <td>2023</td>\n",
       "    </tr>\n",
       "    <tr>\n",
       "      <th>37633</th>\n",
       "      <td>37633</td>\n",
       "      <td>Spurs</td>\n",
       "      <td>2433</td>\n",
       "      <td>placed on IL with lacerated finger</td>\n",
       "      <td>2023</td>\n",
       "    </tr>\n",
       "  </tbody>\n",
       "</table>\n",
       "<p>19586 rows × 5 columns</p>\n",
       "</div>"
      ],
      "text/plain": [
       "          ID       Team  Player                           Injury Type  Year\n",
       "728      728  Cavaliers    2392  placed on IL with sprained left knee  1990\n",
       "730      730      Magic    1139                          placed on IL  1990\n",
       "732      732      Hawks     423                          placed on IL  1990\n",
       "734      734      Hawks    1179                          placed on IL  1990\n",
       "735      735      76ers    1336        placed on IL with shin splints  1990\n",
       "...      ...        ...     ...                                   ...   ...\n",
       "37624  37624  Grizzlies     960   placed on IL with right hand injury  2023\n",
       "37625  37625  Grizzlies    1055     placed on IL with sore left elbow  2023\n",
       "37630  37630      Kings     553      placed on IL with sore left knee  2023\n",
       "37631  37631     Knicks    2298             placed on IL with illness  2023\n",
       "37633  37633      Spurs    2433    placed on IL with lacerated finger  2023\n",
       "\n",
       "[19586 rows x 5 columns]"
      ]
     },
     "execution_count": 17,
     "metadata": {},
     "output_type": "execute_result"
    }
   ],
   "source": [
    "injuryData"
   ]
  },
  {
   "cell_type": "markdown",
   "id": "d8ebb162",
   "metadata": {},
   "source": [
    "+ Due to a there being a lack of true concensus for the number of players in the NBA from 1990-present, I have estimated the total number of players in this time frame based on the number of teams in the league and the number of roster spots each team was allowed \n",
    "\n",
    "+ This does not account for players on two way contracts or players signed midseason, so the number is not 100% accurate, simply an estimation"
   ]
  },
  {
   "cell_type": "code",
   "execution_count": 18,
   "id": "24732bc0",
   "metadata": {},
   "outputs": [],
   "source": [
    "# Total Number of players in the NBA in total(duplicates allowed) & total number of players per year\n",
    "total_player_instances = 13446\n",
    "ppy = total_player_instances/33"
   ]
  },
  {
   "cell_type": "markdown",
   "id": "d0c30a95",
   "metadata": {},
   "source": [
    "## Now I'd like to encode my Injury Type section. However, there are some extra words I'd like to remove first"
   ]
  },
  {
   "cell_type": "code",
   "execution_count": 19,
   "id": "951622f3",
   "metadata": {
    "scrolled": true
   },
   "outputs": [],
   "source": [
    "slices_to_remove = [\"placed on IL with\", \"placed on IR with\", \"placed on disabled list with\", \"placed on IL for\",\n",
    "                   \"placed on IL recovering from\", \"placed on IL during\", \"(date approximate)\", \"(out for season)\", \"(DTD)\", \"(out 6-8 weeks)\"]\n",
    "\n",
    "notes_list = list(injuryData[\"Injury Type\"])\n",
    "\n",
    "# Perform the replacement operation on the list\n",
    "for i in range(len(notes_list)):\n",
    "    for slice_to_remove in slices_to_remove:\n",
    "        notes_list[i] = notes_list[i].replace(slice_to_remove, \"\")\n",
    "\n",
    "# Convert the list back to a NumPy array\n",
    "injuryData[\"Injury Type\"] = np.array(notes_list)"
   ]
  },
  {
   "cell_type": "code",
   "execution_count": 20,
   "id": "58ad5208",
   "metadata": {},
   "outputs": [],
   "source": [
    "injuryData['Injury Type']=label_encoder.fit_transform(injuryData['Injury Type'])"
   ]
  },
  {
   "cell_type": "markdown",
   "id": "03099e9e",
   "metadata": {},
   "source": [
    "### Next I decided to create a number of variables to train model on"
   ]
  },
  {
   "cell_type": "code",
   "execution_count": 21,
   "id": "fe797fa2",
   "metadata": {},
   "outputs": [
    {
     "name": "stdout",
     "output_type": "stream",
     "text": [
      "Unique Injuries: 2622\n",
      "Unique Player Instances: 2453\n",
      "Average number of injuries per player: 7.984508764777823\n",
      "Average number of injuries per team:             Team  Injury_Count\n",
      "0          76ers           595\n",
      "1        Blazers           574\n",
      "2        Bobcats           302\n",
      "3          Bucks           645\n",
      "4        Bullets            43\n",
      "5          Bulls           683\n",
      "6      Cavaliers           724\n",
      "7        Celtics           796\n",
      "8       Clippers           624\n",
      "9      Grizzlies           656\n",
      "10         Hawks           698\n",
      "11          Heat           804\n",
      "12       Hornets           541\n",
      "13          Jazz           570\n",
      "14         Kings           547\n",
      "15        Knicks           643\n",
      "16        Lakers           569\n",
      "17         Magic           632\n",
      "18     Mavericks           799\n",
      "19          Nets           712\n",
      "20       Nuggets           644\n",
      "21        Pacers           734\n",
      "22      Pelicans           203\n",
      "23       Pistons           599\n",
      "24       Raptors           768\n",
      "25       Rockets           690\n",
      "26        Sonics           194\n",
      "27         Spurs           852\n",
      "28          Suns           489\n",
      "29       Thunder           450\n",
      "30  Timberwolves           548\n",
      "31      Warriors           690\n",
      "32       Wizards           568\n"
     ]
    }
   ],
   "source": [
    "# Variables for model training\n",
    "uniq_inj = max(injuryData[\"Injury Type\"]) # max method returns the maximum number, in this case that number is also the total number of unqiue injuries \n",
    "uniq_plyr = max(injuryData[\"Player\"])\n",
    "injury_instances = list(injuryData.shape)[0]\n",
    "inj_per_plyr = injury_instances/uniq_plyr\n",
    "inj_per_team = injuryData.groupby('Team')['ID'].count().reset_index()\n",
    "inj_per_team.columns = ['Team', 'Injury_Count']\n",
    "inj_list = inj_per_team.to_dict(orient='records')\n",
    "\n",
    "print(f\"Unique Injuries: {uniq_inj}\")\n",
    "print(f\"Unique Player Instances: {uniq_plyr}\")\n",
    "print(f\"Average number of injuries per player: {inj_per_plyr}\")\n",
    "print(f\"Average number of injuries per team: {inj_per_team}\")\n"
   ]
  },
  {
   "cell_type": "code",
   "execution_count": 22,
   "id": "573e5c28",
   "metadata": {},
   "outputs": [],
   "source": [
    "# Convertint the list of key-value pairs into a dictionary of values \n",
    "inj_dict = {}\n",
    "for obj in inj_list: \n",
    "    inj_dict[obj['Team']] = obj['Injury_Count']"
   ]
  },
  {
   "cell_type": "code",
   "execution_count": 23,
   "id": "523fd4df",
   "metadata": {},
   "outputs": [
    {
     "data": {
      "image/png": "[encoded data removed]",
      "text/plain": [
       "<Figure size 640x480 with 1 Axes>"
      ]
     },
     "metadata": {},
     "output_type": "display_data"
    }
   ],
   "source": [
    "# Bar Graph displaying the total number of injuries per team \n",
    "\n",
    "ax = sns.barplot(x=list(inj_dict.values()), y=list(inj_dict.keys()))\n",
    "\n",
    "# Add labels and title\n",
    "ax.set_yticklabels(ax.get_yticklabels(), fontsize=8) \n",
    "plt.xlabel('Total Injuries')\n",
    "plt.ylabel('Teams')\n",
    "plt.title('Total Injuries in Franchise History')\n",
    "\n",
    "# Display the plot\n",
    "plt.show()"
   ]
  },
  {
   "cell_type": "markdown",
   "id": "bb2e0c36",
   "metadata": {},
   "source": [
    "## Create a scatter plot to see the total number on injuries over "
   ]
  },
  {
   "cell_type": "code",
   "execution_count": 24,
   "id": "7399054d",
   "metadata": {},
   "outputs": [],
   "source": [
    "# Narrowing possible injuries down to the 20 most frequent \n",
    "# decoded_labels = label_encoder.inverse_transform(encoded_labels)\n",
    "injuries = injuryData[\"Injury Type\"]\n",
    "unique_inj_arr = injuries.value_counts()\n",
    "sorted_injuries = unique_inj_arr.sort_values(ascending=False)\n",
    "top_20_injuries = sorted_injuries.head(20)\n"
   ]
  },
  {
   "cell_type": "code",
   "execution_count": 25,
   "id": "bc901978",
   "metadata": {},
   "outputs": [
    {
     "data": {
      "text/html": [
       "<div>\n",
       "<style scoped>\n",
       "    .dataframe tbody tr th:only-of-type {\n",
       "        vertical-align: middle;\n",
       "    }\n",
       "\n",
       "    .dataframe tbody tr th {\n",
       "        vertical-align: top;\n",
       "    }\n",
       "\n",
       "    .dataframe thead th {\n",
       "        text-align: right;\n",
       "    }\n",
       "</style>\n",
       "<table border=\"1\" class=\"dataframe\">\n",
       "  <thead>\n",
       "    <tr style=\"text-align: right;\">\n",
       "      <th></th>\n",
       "      <th>ID</th>\n",
       "      <th>Team</th>\n",
       "      <th>Player</th>\n",
       "      <th>Injury Type</th>\n",
       "      <th>Year</th>\n",
       "    </tr>\n",
       "  </thead>\n",
       "  <tbody>\n",
       "    <tr>\n",
       "      <th>728</th>\n",
       "      <td>728</td>\n",
       "      <td>Cavaliers</td>\n",
       "      <td>2392</td>\n",
       "      <td>1667</td>\n",
       "      <td>1990</td>\n",
       "    </tr>\n",
       "    <tr>\n",
       "      <th>730</th>\n",
       "      <td>730</td>\n",
       "      <td>Magic</td>\n",
       "      <td>1139</td>\n",
       "      <td>2526</td>\n",
       "      <td>1990</td>\n",
       "    </tr>\n",
       "    <tr>\n",
       "      <th>732</th>\n",
       "      <td>732</td>\n",
       "      <td>Hawks</td>\n",
       "      <td>423</td>\n",
       "      <td>2526</td>\n",
       "      <td>1990</td>\n",
       "    </tr>\n",
       "    <tr>\n",
       "      <th>734</th>\n",
       "      <td>734</td>\n",
       "      <td>Hawks</td>\n",
       "      <td>1179</td>\n",
       "      <td>2526</td>\n",
       "      <td>1990</td>\n",
       "    </tr>\n",
       "    <tr>\n",
       "      <th>735</th>\n",
       "      <td>735</td>\n",
       "      <td>76ers</td>\n",
       "      <td>1336</td>\n",
       "      <td>1397</td>\n",
       "      <td>1990</td>\n",
       "    </tr>\n",
       "    <tr>\n",
       "      <th>...</th>\n",
       "      <td>...</td>\n",
       "      <td>...</td>\n",
       "      <td>...</td>\n",
       "      <td>...</td>\n",
       "      <td>...</td>\n",
       "    </tr>\n",
       "    <tr>\n",
       "      <th>37624</th>\n",
       "      <td>37624</td>\n",
       "      <td>Grizzlies</td>\n",
       "      <td>960</td>\n",
       "      <td>1290</td>\n",
       "      <td>2023</td>\n",
       "    </tr>\n",
       "    <tr>\n",
       "      <th>37625</th>\n",
       "      <td>37625</td>\n",
       "      <td>Grizzlies</td>\n",
       "      <td>1055</td>\n",
       "      <td>1462</td>\n",
       "      <td>2023</td>\n",
       "    </tr>\n",
       "    <tr>\n",
       "      <th>37630</th>\n",
       "      <td>37630</td>\n",
       "      <td>Kings</td>\n",
       "      <td>553</td>\n",
       "      <td>1477</td>\n",
       "      <td>2023</td>\n",
       "    </tr>\n",
       "    <tr>\n",
       "      <th>37631</th>\n",
       "      <td>37631</td>\n",
       "      <td>Knicks</td>\n",
       "      <td>2298</td>\n",
       "      <td>742</td>\n",
       "      <td>2023</td>\n",
       "    </tr>\n",
       "    <tr>\n",
       "      <th>37633</th>\n",
       "      <td>37633</td>\n",
       "      <td>Spurs</td>\n",
       "      <td>2433</td>\n",
       "      <td>840</td>\n",
       "      <td>2023</td>\n",
       "    </tr>\n",
       "  </tbody>\n",
       "</table>\n",
       "<p>19586 rows × 5 columns</p>\n",
       "</div>"
      ],
      "text/plain": [
       "          ID       Team  Player  Injury Type  Year\n",
       "728      728  Cavaliers    2392         1667  1990\n",
       "730      730      Magic    1139         2526  1990\n",
       "732      732      Hawks     423         2526  1990\n",
       "734      734      Hawks    1179         2526  1990\n",
       "735      735      76ers    1336         1397  1990\n",
       "...      ...        ...     ...          ...   ...\n",
       "37624  37624  Grizzlies     960         1290  2023\n",
       "37625  37625  Grizzlies    1055         1462  2023\n",
       "37630  37630      Kings     553         1477  2023\n",
       "37631  37631     Knicks    2298          742  2023\n",
       "37633  37633      Spurs    2433          840  2023\n",
       "\n",
       "[19586 rows x 5 columns]"
      ]
     },
     "execution_count": 25,
     "metadata": {},
     "output_type": "execute_result"
    }
   ],
   "source": [
    "injuryData"
   ]
  },
  {
   "cell_type": "code",
   "execution_count": 26,
   "id": "d617f4c1",
   "metadata": {},
   "outputs": [],
   "source": [
    "# Encoding the Team names\n",
    "injuryData['Team']=label_encoder.fit_transform(injuryData['Team'])"
   ]
  },
  {
   "cell_type": "code",
   "execution_count": 27,
   "id": "cfed212d",
   "metadata": {},
   "outputs": [],
   "source": [
    "# `Current Issue, We DO NOT HAVE A X_VAL, Y_VAL outside of the foreloop below\n",
    "\n",
    "X = injuryData[['Team', 'Year', 'Player', 'Injury Type']]\n",
    "y = []\n",
    "\n",
    "for injury_type in top_20_injuries: \n",
    "    y_train_arr = np.where(injuryData['Injury Type'] == injury_type, 1, 0)\n",
    "    y.append(y_train_arr)\n",
    "y = np.array(y)"
   ]
  },
  {
   "cell_type": "code",
   "execution_count": 28,
   "id": "86046714",
   "metadata": {},
   "outputs": [
    {
     "ename": "ValueError",
     "evalue": "Found input variables with inconsistent numbers of samples: [19586, 20]",
     "output_type": "error",
     "traceback": [
      "\u001b[0;31m---------------------------------------------------------------------------\u001b[0m",
      "\u001b[0;31mValueError\u001b[0m                                Traceback (most recent call last)",
      "Cell \u001b[0;32mIn[28], line 2\u001b[0m\n\u001b[1;32m      1\u001b[0m reshaped_y \u001b[38;5;241m=\u001b[39m y\u001b[38;5;241m.\u001b[39mT\n\u001b[0;32m----> 2\u001b[0m X_train, X_val, y_train, y_val \u001b[38;5;241m=\u001b[39m \u001b[43mtrain_test_split\u001b[49m\u001b[43m(\u001b[49m\u001b[43mX\u001b[49m\u001b[43m,\u001b[49m\u001b[43m \u001b[49m\u001b[43my\u001b[49m\u001b[43m,\u001b[49m\u001b[43m \u001b[49m\u001b[43mtest_size\u001b[49m\u001b[38;5;241;43m=\u001b[39;49m\u001b[38;5;241;43m0.2\u001b[39;49m\u001b[43m,\u001b[49m\u001b[43m \u001b[49m\u001b[43mrandom_state\u001b[49m\u001b[38;5;241;43m=\u001b[39;49m\u001b[38;5;241;43m42\u001b[39;49m\u001b[43m)\u001b[49m\n\u001b[1;32m      4\u001b[0m \u001b[38;5;66;03m# models = {}\u001b[39;00m\n\u001b[1;32m      5\u001b[0m \u001b[38;5;66;03m# for injury_type, y_train_arr in top_20_injuries:\u001b[39;00m\n\u001b[1;32m      6\u001b[0m \u001b[38;5;66;03m#     model = RandomForestClassifier()\u001b[39;00m\n\u001b[1;32m      7\u001b[0m \u001b[38;5;66;03m#     X_train_injury = injuryData[['Team', 'Year', 'Player', 'Injury Type']]\u001b[39;00m\n\u001b[1;32m      8\u001b[0m \u001b[38;5;66;03m#     model.fit(X_train_injury, y_train_arr)\u001b[39;00m\n\u001b[1;32m      9\u001b[0m \u001b[38;5;66;03m#     models[injury_type] = model\u001b[39;00m\n",
      "File \u001b[0;32m~/Documents/Job Search - 2023/NBA_Injury_Predictor/NBAenv/lib/python3.9/site-packages/sklearn/model_selection/_split.py:2559\u001b[0m, in \u001b[0;36mtrain_test_split\u001b[0;34m(test_size, train_size, random_state, shuffle, stratify, *arrays)\u001b[0m\n\u001b[1;32m   2556\u001b[0m \u001b[38;5;28;01mif\u001b[39;00m n_arrays \u001b[38;5;241m==\u001b[39m \u001b[38;5;241m0\u001b[39m:\n\u001b[1;32m   2557\u001b[0m     \u001b[38;5;28;01mraise\u001b[39;00m \u001b[38;5;167;01mValueError\u001b[39;00m(\u001b[38;5;124m\"\u001b[39m\u001b[38;5;124mAt least one array required as input\u001b[39m\u001b[38;5;124m\"\u001b[39m)\n\u001b[0;32m-> 2559\u001b[0m arrays \u001b[38;5;241m=\u001b[39m \u001b[43mindexable\u001b[49m\u001b[43m(\u001b[49m\u001b[38;5;241;43m*\u001b[39;49m\u001b[43marrays\u001b[49m\u001b[43m)\u001b[49m\n\u001b[1;32m   2561\u001b[0m n_samples \u001b[38;5;241m=\u001b[39m _num_samples(arrays[\u001b[38;5;241m0\u001b[39m])\n\u001b[1;32m   2562\u001b[0m n_train, n_test \u001b[38;5;241m=\u001b[39m _validate_shuffle_split(\n\u001b[1;32m   2563\u001b[0m     n_samples, test_size, train_size, default_test_size\u001b[38;5;241m=\u001b[39m\u001b[38;5;241m0.25\u001b[39m\n\u001b[1;32m   2564\u001b[0m )\n",
      "File \u001b[0;32m~/Documents/Job Search - 2023/NBA_Injury_Predictor/NBAenv/lib/python3.9/site-packages/sklearn/utils/validation.py:443\u001b[0m, in \u001b[0;36mindexable\u001b[0;34m(*iterables)\u001b[0m\n\u001b[1;32m    424\u001b[0m \u001b[38;5;250m\u001b[39m\u001b[38;5;124;03m\"\"\"Make arrays indexable for cross-validation.\u001b[39;00m\n\u001b[1;32m    425\u001b[0m \n\u001b[1;32m    426\u001b[0m \u001b[38;5;124;03mChecks consistent length, passes through None, and ensures that everything\u001b[39;00m\n\u001b[0;32m   (...)\u001b[0m\n\u001b[1;32m    439\u001b[0m \u001b[38;5;124;03m    sparse matrix, or dataframe) or `None`.\u001b[39;00m\n\u001b[1;32m    440\u001b[0m \u001b[38;5;124;03m\"\"\"\u001b[39;00m\n\u001b[1;32m    442\u001b[0m result \u001b[38;5;241m=\u001b[39m [_make_indexable(X) \u001b[38;5;28;01mfor\u001b[39;00m X \u001b[38;5;129;01min\u001b[39;00m iterables]\n\u001b[0;32m--> 443\u001b[0m \u001b[43mcheck_consistent_length\u001b[49m\u001b[43m(\u001b[49m\u001b[38;5;241;43m*\u001b[39;49m\u001b[43mresult\u001b[49m\u001b[43m)\u001b[49m\n\u001b[1;32m    444\u001b[0m \u001b[38;5;28;01mreturn\u001b[39;00m result\n",
      "File \u001b[0;32m~/Documents/Job Search - 2023/NBA_Injury_Predictor/NBAenv/lib/python3.9/site-packages/sklearn/utils/validation.py:397\u001b[0m, in \u001b[0;36mcheck_consistent_length\u001b[0;34m(*arrays)\u001b[0m\n\u001b[1;32m    395\u001b[0m uniques \u001b[38;5;241m=\u001b[39m np\u001b[38;5;241m.\u001b[39munique(lengths)\n\u001b[1;32m    396\u001b[0m \u001b[38;5;28;01mif\u001b[39;00m \u001b[38;5;28mlen\u001b[39m(uniques) \u001b[38;5;241m>\u001b[39m \u001b[38;5;241m1\u001b[39m:\n\u001b[0;32m--> 397\u001b[0m     \u001b[38;5;28;01mraise\u001b[39;00m \u001b[38;5;167;01mValueError\u001b[39;00m(\n\u001b[1;32m    398\u001b[0m         \u001b[38;5;124m\"\u001b[39m\u001b[38;5;124mFound input variables with inconsistent numbers of samples: \u001b[39m\u001b[38;5;132;01m%r\u001b[39;00m\u001b[38;5;124m\"\u001b[39m\n\u001b[1;32m    399\u001b[0m         \u001b[38;5;241m%\u001b[39m [\u001b[38;5;28mint\u001b[39m(l) \u001b[38;5;28;01mfor\u001b[39;00m l \u001b[38;5;129;01min\u001b[39;00m lengths]\n\u001b[1;32m    400\u001b[0m     )\n",
      "\u001b[0;31mValueError\u001b[0m: Found input variables with inconsistent numbers of samples: [19586, 20]"
     ]
    }
   ],
   "source": [
    "reshaped_y = y.T\n",
    "X_train, X_val, y_train, y_val = train_test_split(X, y, test_size=0.2, random_state=42)\n",
    "\n",
    "# models = {}\n",
    "# for injury_type, y_train_arr in top_20_injuries:\n",
    "#     model = RandomForestClassifier()\n",
    "#     X_train_injury = injuryData[['Team', 'Year', 'Player', 'Injury Type']]\n",
    "#     model.fit(X_train_injury, y_train_arr)\n",
    "#     models[injury_type] = model"
   ]
  },
  {
   "cell_type": "code",
   "execution_count": null,
   "id": "c1b0e68f",
   "metadata": {},
   "outputs": [],
   "source": [
    "len(models)"
   ]
  },
  {
   "cell_type": "code",
   "execution_count": null,
   "id": "d38c27c3",
   "metadata": {},
   "outputs": [],
   "source": [
    "# Using the trained models to predict injury types on the validation set\n",
    "y_probs = {}\n",
    "for injury_type, model in models.items():\n",
    "    y_probs[injury_type] = model.predict_proba(X_val)[:, 1]"
   ]
  }
 ],
 "metadata": {
  "kernelspec": {
   "display_name": "Python 3 (ipykernel)",
   "language": "python",
   "name": "python3"
  },
  "language_info": {
   "codemirror_mode": {
    "name": "ipython",
    "version": 3
   },
   "file_extension": ".py",
   "mimetype": "text/x-python",
   "name": "python",
   "nbconvert_exporter": "python",
   "pygments_lexer": "ipython3",
   "version": "3.9.4"
  }
 },
 "nbformat": 4,
 "nbformat_minor": 5
}
