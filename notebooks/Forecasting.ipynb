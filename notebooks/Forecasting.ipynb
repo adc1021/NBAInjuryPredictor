{
 "cells": [
  {
   "cell_type": "code",
   "execution_count": 1,
   "id": "c731a143",
   "metadata": {},
   "outputs": [],
   "source": [
    "import pandas as pd\n",
    "import seaborn as sns\n",
    "import matplotlib as mpl\n",
    "import matplotlib.pyplot as plt\n",
    "from sklearn.preprocessing import LabelEncoder\n",
    "import numpy as np\n",
    "from sklearn.model_selection import train_test_split\n",
    "from sklearn.linear_model import LinearRegression\n",
    "from sklearn.ensemble import RandomForestClassifier\n",
    "from sklearn.metrics import roc_auc_score \n",
    "from sklearn.linear_model import Ridge\n",
    "from sklearn.metrics import mean_squared_error, r2_score\n",
    "import matplotlib.ticker as ticker\n",
    "import rpy2.robjects as robjects\n"
   ]
  },
  {
   "cell_type": "code",
   "execution_count": 2,
   "id": "0c7129f1",
   "metadata": {},
   "outputs": [
    {
     "name": "stderr",
     "output_type": "stream",
     "text": [
      "R[write to console]: Downloading GitHub repo josedv82/airball@HEAD\n",
      "\n"
     ]
    },
    {
     "name": "stdout",
     "output_type": "stream",
     "text": [
      "These packages have more recent versions available.\n",
      "It is recommended to update all of them.\n",
      "Which would you like to update?\n",
      "\n",
      "1: All                       \n",
      "2: CRAN packages only        \n",
      "3: None                      \n",
      "4: sp (1.6-0 -> 1.6-1) [CRAN]\n",
      "\n",
      "Enter one or more numbers, or an empty line to skip updates: 1\n",
      "sp (1.6-0 -> 1.6-1) [CRAN]\n"
     ]
    },
    {
     "name": "stderr",
     "output_type": "stream",
     "text": [
      "R[write to console]: Skipping 1 packages not available: nbastatR\n",
      "\n",
      "R[write to console]: Installing 2 packages: sp, nbastatR\n",
      "\n",
      "R[write to console]: trying URL 'https://cloud.r-project.org/bin/macosx/big-sur-arm64/contrib/4.3/sp_1.6-1.tgz'\n",
      "\n",
      "R[write to console]: Content type 'application/x-gzip'\n",
      "R[write to console]:  length 2098680 bytes (2.0 MB)\n",
      "\n",
      "R[write to console]: =\n",
      "R[write to console]: =\n",
      "R[write to console]: =\n",
      "R[write to console]: =\n",
      "R[write to console]: =\n",
      "R[write to console]: =\n",
      "R[write to console]: =\n",
      "R[write to console]: =\n",
      "R[write to console]: =\n",
      "R[write to console]: =\n",
      "R[write to console]: =\n",
      "R[write to console]: =\n",
      "R[write to console]: =\n",
      "R[write to console]: =\n",
      "R[write to console]: =\n",
      "R[write to console]: =\n",
      "R[write to console]: =\n",
      "R[write to console]: =\n",
      "R[write to console]: =\n",
      "R[write to console]: =\n",
      "R[write to console]: =\n",
      "R[write to console]: =\n",
      "R[write to console]: =\n",
      "R[write to console]: =\n",
      "R[write to console]: =\n",
      "R[write to console]: =\n",
      "R[write to console]: =\n",
      "R[write to console]: =\n",
      "R[write to console]: =\n",
      "R[write to console]: =\n",
      "R[write to console]: =\n",
      "R[write to console]: =\n",
      "R[write to console]: =\n",
      "R[write to console]: =\n",
      "R[write to console]: =\n",
      "R[write to console]: =\n",
      "R[write to console]: =\n",
      "R[write to console]: =\n",
      "R[write to console]: =\n",
      "R[write to console]: =\n",
      "R[write to console]: =\n",
      "R[write to console]: =\n",
      "R[write to console]: =\n",
      "R[write to console]: =\n",
      "R[write to console]: =\n",
      "R[write to console]: =\n",
      "R[write to console]: =\n",
      "R[write to console]: =\n",
      "R[write to console]: =\n",
      "R[write to console]: =\n",
      "R[write to console]: \n",
      "\n",
      "R[write to console]: downloaded 2.0 MB\n",
      "\n",
      "\n"
     ]
    },
    {
     "name": "stdout",
     "output_type": "stream",
     "text": [
      "\n",
      "The downloaded binary packages are in\n",
      "\t/var/folders/3k/6lf4ln2n63b7tvgn2yck__yc0000gn/T//RtmpD2qO9f/downloaded_packages\n",
      "── R CMD build ─────────────────────────────────────────────────────────────────\n",
      "* checking for file ‘/private/var/folders/3k/6lf4ln2n63b7tvgn2yck__yc0000gn/T/RtmpD2qO9f/remotes144eb26259a30/josedv82-airball-a62db42/DESCRIPTION’ ... OK\n",
      "* preparing ‘airball’:\n",
      "* checking DESCRIPTION meta-information ... OK\n",
      "* checking for LF line-endings in source and make files and shell scripts\n",
      "* checking for empty or unneeded directories\n",
      "Omitted ‘LazyData’ from DESCRIPTION\n",
      "* building ‘airball_0.4.4.1.tar.gz’\n",
      "\n"
     ]
    },
    {
     "name": "stderr",
     "output_type": "stream",
     "text": [
      "ERROR: dependency ‘nbastatR’ is not available for package ‘airball’\n",
      "* removing ‘/Library/Frameworks/R.framework/Versions/4.3-arm64/Resources/library/airball’\n",
      "R[write to console]: In addition: \n",
      "R[write to console]: Warning messages:\n",
      "\n",
      "R[write to console]: 1: package ‘nbastatR’ is not available for this version of R\n",
      "\n",
      "A version of this package for your version of R might be available elsewhere,\n",
      "see the ideas at\n",
      "https://cran.r-project.org/doc/manuals/r-patched/R-admin.html#Installing-packages \n",
      "\n",
      "R[write to console]: 2: \n",
      "R[write to console]: In i.p(...) :\n",
      "R[write to console]: \n",
      " \n",
      "R[write to console]:  installation of package ‘/var/folders/3k/6lf4ln2n63b7tvgn2yck__yc0000gn/T//RtmpD2qO9f/file144eb577992e4/airball_0.4.4.1.tar.gz’ had non-zero exit status\n",
      "\n",
      "R[write to console]: Error in library(airball) : there is no package called ‘airball’\n",
      "\n"
     ]
    },
    {
     "ename": "RRuntimeError",
     "evalue": "Error in library(airball) : there is no package called ‘airball’\n",
     "output_type": "error",
     "traceback": [
      "\u001b[0;31m---------------------------------------------------------------------------\u001b[0m",
      "\u001b[0;31mRRuntimeError\u001b[0m                             Traceback (most recent call last)",
      "Cell \u001b[0;32mIn[2], line 2\u001b[0m\n\u001b[1;32m      1\u001b[0m robjects\u001b[38;5;241m.\u001b[39mr(\u001b[38;5;124m'\u001b[39m\u001b[38;5;124mdevtools::install_github(\u001b[39m\u001b[38;5;124m\"\u001b[39m\u001b[38;5;124mjosedv82/airball\u001b[39m\u001b[38;5;124m\"\u001b[39m\u001b[38;5;124m)\u001b[39m\u001b[38;5;124m'\u001b[39m)\n\u001b[0;32m----> 2\u001b[0m \u001b[43mrobjects\u001b[49m\u001b[38;5;241;43m.\u001b[39;49m\u001b[43mr\u001b[49m\u001b[43m(\u001b[49m\u001b[38;5;124;43m'\u001b[39;49m\u001b[38;5;124;43mlibrary(airball)\u001b[39;49m\u001b[38;5;124;43m'\u001b[39;49m\u001b[43m)\u001b[49m\n\u001b[1;32m      3\u001b[0m result \u001b[38;5;241m=\u001b[39m robjects\u001b[38;5;241m.\u001b[39mr(nba_travel())\n",
      "File \u001b[0;32m~/Documents/Job Search - 2023/NBA_Injury_Predictor/NBAenv/lib/python3.9/site-packages/rpy2/robjects/__init__.py:501\u001b[0m, in \u001b[0;36mR.__call__\u001b[0;34m(self, string, invisible, print_r_warnings)\u001b[0m\n\u001b[1;32m    499\u001b[0m     invisible \u001b[38;5;241m=\u001b[39m \u001b[38;5;28mself\u001b[39m\u001b[38;5;241m.\u001b[39m_invisible\n\u001b[1;32m    500\u001b[0m \u001b[38;5;28;01mif\u001b[39;00m invisible:\n\u001b[0;32m--> 501\u001b[0m     res, visible \u001b[38;5;241m=\u001b[39m \u001b[43mrinterface\u001b[49m\u001b[38;5;241;43m.\u001b[39;49m\u001b[43mevalr_expr_with_visible\u001b[49m\u001b[43m(\u001b[49m\u001b[43m   \u001b[49m\u001b[38;5;66;43;03m# type: ignore\u001b[39;49;00m\n\u001b[1;32m    502\u001b[0m \u001b[43m        \u001b[49m\u001b[43mr_expr\u001b[49m\n\u001b[1;32m    503\u001b[0m \u001b[43m    \u001b[49m\u001b[43m)\u001b[49m\n\u001b[1;32m    504\u001b[0m     \u001b[38;5;28;01mif\u001b[39;00m \u001b[38;5;129;01mnot\u001b[39;00m visible[\u001b[38;5;241m0\u001b[39m]:  \u001b[38;5;66;03m# type: ignore\u001b[39;00m\n\u001b[1;32m    505\u001b[0m         res \u001b[38;5;241m=\u001b[39m \u001b[38;5;28;01mNone\u001b[39;00m\n",
      "File \u001b[0;32m~/Documents/Job Search - 2023/NBA_Injury_Predictor/NBAenv/lib/python3.9/site-packages/rpy2/rinterface.py:183\u001b[0m, in \u001b[0;36mevalr_expr_with_visible\u001b[0;34m(expr, envir)\u001b[0m\n\u001b[1;32m    176\u001b[0m r_res \u001b[38;5;241m=\u001b[39m rmemory\u001b[38;5;241m.\u001b[39mprotect(\n\u001b[1;32m    177\u001b[0m         openrlib\u001b[38;5;241m.\u001b[39mrlib\u001b[38;5;241m.\u001b[39mR_tryEval(\n\u001b[1;32m    178\u001b[0m             r_call,\n\u001b[1;32m    179\u001b[0m             envir\u001b[38;5;241m.\u001b[39m__sexp__\u001b[38;5;241m.\u001b[39m_cdata,  \u001b[38;5;66;03m# call context.\u001b[39;00m\n\u001b[1;32m    180\u001b[0m             error_occured)\n\u001b[1;32m    181\u001b[0m )\n\u001b[1;32m    182\u001b[0m \u001b[38;5;28;01mif\u001b[39;00m error_occured[\u001b[38;5;241m0\u001b[39m]:\n\u001b[0;32m--> 183\u001b[0m     \u001b[38;5;28;01mraise\u001b[39;00m embedded\u001b[38;5;241m.\u001b[39mRRuntimeError(_rinterface\u001b[38;5;241m.\u001b[39m_geterrmessage())\n\u001b[1;32m    184\u001b[0m res \u001b[38;5;241m=\u001b[39m conversion\u001b[38;5;241m.\u001b[39m_cdata_to_rinterface(r_res)\n\u001b[1;32m    185\u001b[0m \u001b[38;5;28;01massert\u001b[39;00m \u001b[38;5;28misinstance\u001b[39m(res, ListSexpVector)\n",
      "\u001b[0;31mRRuntimeError\u001b[0m: Error in library(airball) : there is no package called ‘airball’\n"
     ]
    }
   ],
   "source": [
    "robjects.r('devtools::install_github(\"josedv82/airball\")')\n",
    "robjects.r('library(airball)')\n",
    "result = robjects.r(nba_travel())"
   ]
  },
  {
   "cell_type": "code",
   "execution_count": null,
   "id": "61d15813",
   "metadata": {},
   "outputs": [],
   "source": [
    "injuryData = pd.read_csv(\"~/Documents/Job Search - 2023/NBA_Injury_Predictor/Injuries.csv\")"
   ]
  },
  {
   "cell_type": "code",
   "execution_count": null,
   "id": "5a06ffc1",
   "metadata": {},
   "outputs": [],
   "source": [
    "injuryData.rename(columns={'Unnamed: 0': 'ID'}, inplace=True)\n",
    "injuryData.rename(columns={'Notes': 'Injury Type'}, inplace=True)\n",
    "injuryData.rename(columns={'Relinquished': 'Player'}, inplace=True)"
   ]
  },
  {
   "cell_type": "markdown",
   "id": "6eeccf28",
   "metadata": {},
   "source": [
    "### We want to separate the dataset by year to get a good idea of the total number of injuries that have occured annually"
   ]
  },
  {
   "cell_type": "code",
   "execution_count": null,
   "id": "909ac144",
   "metadata": {},
   "outputs": [],
   "source": [
    "# Setting the objects in the column to a pandas datetime object\n",
    "injuryData['Date'] = pd.to_datetime(injuryData['Date'])\n",
    "\n",
    "#Grouping rows by 'decade' column\n",
    "injuryData['Year'] = (injuryData['Date'].dt.year)\n",
    "\n"
   ]
  },
  {
   "cell_type": "markdown",
   "id": "bfe853a3",
   "metadata": {},
   "source": [
    "### Let's now remove all rows where the players have been acquired back from the IL \n"
   ]
  },
  {
   "cell_type": "code",
   "execution_count": null,
   "id": "5c337a2c",
   "metadata": {},
   "outputs": [],
   "source": [
    "# Removing the Acquired column removes all duplicates \n",
    "injuryData = injuryData[injuryData['Acquired'].isna()]\n",
    "del injuryData['Acquired']"
   ]
  },
  {
   "cell_type": "markdown",
   "id": "d5baac7a",
   "metadata": {},
   "source": [
    "### Now let's calculate the total sum of injuries for each Year"
   ]
  },
  {
   "cell_type": "markdown",
   "id": "841596eb",
   "metadata": {},
   "source": [
    "## `It is important to note that the NBA did not have and IR/IL until the 1989-1990 season. Prior to this injured players were still members of the active roster. For this reason, it's likely many injuries do not appear in the dataset.`"
   ]
  },
  {
   "cell_type": "code",
   "execution_count": null,
   "id": "1b1e6845",
   "metadata": {},
   "outputs": [],
   "source": [
    "# We only want to include data from the years after 1989 \n",
    "yearly_injuries = {}\n",
    "total_injuries = 0\n",
    "for year, group in injuryData.groupby('Year'):\n",
    "    if year > 1989: \n",
    "        injuries = group.shape[0]\n",
    "        yearly_injuries[year] = injuries\n",
    "        total_injuries += injuries\n",
    "        \n",
    "df = pd.DataFrame(yearly_injuries.items(), columns=['Year', 'Injuries'])\n",
    "condition1 = df['Year'].astype(int) <= 2015\n",
    "df.loc[condition1, 'Players'] = 354\n",
    "df['isleagueExpansion'] = np.where(df['Year']<=2015, 0, 1)\n",
    "\n",
    "# Set the condition for the second range of years (1996 onwards)\n",
    "condition2 = df['Year'].astype(int) > 2015\n",
    "df.loc[condition2, 'Players'] = 450\n",
    "    "
   ]
  },
  {
   "cell_type": "code",
   "execution_count": null,
   "id": "85aeed35",
   "metadata": {},
   "outputs": [],
   "source": [
    "# adding the total number of games played in the NBA each year to the Dataframe\n",
    "def get_games_played(df):\n",
    "\n",
    "    games_played = {\n",
    "      year: 6620\n",
    "      for year in range(1990, 2024)\n",
    "  }\n",
    "\n",
    "  # Update the dictionary for years with a different number of games played.\n",
    "    games_played[1999] = 4100\n",
    "    games_played[2011] = 4096\n",
    "    games_played[2020] = 4384\n",
    "    games_played[2021] = 4384\n",
    "\n",
    "  # Create a new column in the DataFrame for the number of games played.\n",
    "    df['Games Played'] = df.Year.map(games_played)\n",
    "    df['Games Played'] = df['Games Played'].astype(int)\n",
    "\n",
    "get_games_played(df)"
   ]
  },
  {
   "cell_type": "code",
   "execution_count": null,
   "id": "71f37af8",
   "metadata": {},
   "outputs": [],
   "source": [
    "# Adding feature to account for a lockout season\n",
    "df['Lockout'] = np.where(df['Year'].isin([1999, 2011]), 1, 0)"
   ]
  },
  {
   "cell_type": "code",
   "execution_count": null,
   "id": "41d60f1d",
   "metadata": {},
   "outputs": [],
   "source": [
    "# Add feature for average number of miles travelled year over year\n",
    "annual_travel = pd.read_csv(\"~/Documents/Job Search - 2023/NBA_Injury_Predictor/AverageTravel.csv\")\n",
    "df = pd.concat([df, annual_travel['Miles Traveled']], axis=1)"
   ]
  },
  {
   "cell_type": "code",
   "execution_count": null,
   "id": "e828f2ea",
   "metadata": {},
   "outputs": [],
   "source": [
    "# why are there so few injuries in the early in the early 90s\n",
    "# use a proxy to get data\n",
    "# average NBA salary \n"
   ]
  },
  {
   "cell_type": "code",
   "execution_count": null,
   "id": "f1012d95",
   "metadata": {},
   "outputs": [],
   "source": [
    "def normalize_players(df):\n",
    "  # Get the mean and standard deviation of the players feature.\n",
    "    mu = df['Players'].mean()\n",
    "    std = df['Players'].std()\n",
    "\n",
    "  # Normalize the players feature.\n",
    "    df['Normalized Players'] = (df['Players'] - mu) / std\n",
    "    \n",
    "    return df\n",
    "\n",
    "normalize_players(df)\n"
   ]
  },
  {
   "cell_type": "code",
   "execution_count": null,
   "id": "17bb380e",
   "metadata": {},
   "outputs": [],
   "source": [
    "# Attempting to use R package to get data for total number of miles travelled\n",
    "reticulate.import_from_github(\"josedv82/airball\")"
   ]
  },
  {
   "cell_type": "code",
   "execution_count": null,
   "id": "021f647e",
   "metadata": {},
   "outputs": [],
   "source": [
    "# calculating the correlation for the two features I will use to train my model\n",
    "Players_corr = df['Players'].corr(df['Injuries'])\n",
    "Normalized_corr = df['Normalized Players'].corr(df['Injuries'])\n",
    "Year_corr = df['Year'].corr(df['Injuries'])\n",
    "\n",
    "\n",
    "print(\"Correlation for Players feature:\", Players_corr)\n",
    "print(\"Correlation for Year feature:\", Year_corr)\n",
    "print(\"Correlation for Players feature:\", Normalized_corr)\n"
   ]
  },
  {
   "cell_type": "code",
   "execution_count": null,
   "id": "1543fb3d",
   "metadata": {},
   "outputs": [],
   "source": [
    "#Using Linear Regression function to fit our model\n",
    "train_data = df[:26]\n",
    "\n",
    "X_train = np.array(train_data[['Year', 'Normalized Players']]).reshape(-1, 2)\n",
    "y_train = train_data['Injuries']\n",
    "reg = LinearRegression()\n",
    "\n",
    "\n",
    "fit_model = reg.fit(X_train, y_train)\n",
    "print(df.shape)\n",
    "X_train.shape\n"
   ]
  },
  {
   "cell_type": "code",
   "execution_count": null,
   "id": "21a575e5",
   "metadata": {},
   "outputs": [],
   "source": [
    "# using a scikit-learn attribute, the coef represents the wieghts assigned to different features \n",
    "print(f\"The Weight of feature(s): {fit_model.coef_}\")"
   ]
  },
  {
   "cell_type": "code",
   "execution_count": null,
   "id": "bca11bce",
   "metadata": {},
   "outputs": [],
   "source": [
    "# getting the intercept(bias) for our fitted model\n",
    "print(f\"The Bias of the model: {fit_model.intercept_}\")"
   ]
  },
  {
   "cell_type": "code",
   "execution_count": null,
   "id": "38b46857",
   "metadata": {},
   "outputs": [],
   "source": []
  },
  {
   "cell_type": "code",
   "execution_count": null,
   "id": "f50a5b73",
   "metadata": {},
   "outputs": [],
   "source": [
    "# Adding our insample prediction for each year to our training data set\n",
    "train_data.loc[:, 'prediction_insample'] = fit_model.predict(X_train).copy()\n",
    "train_data.head()"
   ]
  },
  {
   "cell_type": "code",
   "execution_count": null,
   "id": "945954e1",
   "metadata": {},
   "outputs": [],
   "source": [
    "# Calculating the error, MSE, and ABS error for each year\n",
    "train_data['error'] = train_data.prediction_insample - train_data.Injuries\n",
    "train_data['squared_error'] = train_data['error']**2\n",
    "train_data['abs'] = abs(train_data['error'])\n",
    "\n",
    "train_data"
   ]
  },
  {
   "cell_type": "code",
   "execution_count": null,
   "id": "5de0d620",
   "metadata": {},
   "outputs": [],
   "source": [
    "# I'm not sure why my error is zero \n",
    "\n",
    "# Returns the mean for error, squared error and absolute error for the training set\n",
    "train_data[['error', 'squared_error', 'abs']].mean()"
   ]
  },
  {
   "cell_type": "code",
   "execution_count": null,
   "id": "2f5d04cd",
   "metadata": {},
   "outputs": [],
   "source": [
    "sns.set(style=\"darkgrid\")\n",
    "sns.lineplot(x=train_data['Year'], y=train_data['Injuries'], data=train_data)\n",
    "sns.lineplot(x=train_data['Year'], y=train_data['prediction_insample'], data=train_data)\n",
    "plt.xlabel('Year')\n",
    "plt.ylabel('Number of Injuries')\n",
    "plt.title('Number of Injuries Year by Year')\n"
   ]
  },
  {
   "cell_type": "markdown",
   "id": "0ca10c75",
   "metadata": {},
   "source": [
    "### <u>Time to test on a new set of data:<u>"
   ]
  },
  {
   "cell_type": "code",
   "execution_count": null,
   "id": "61286b6a",
   "metadata": {},
   "outputs": [],
   "source": [
    "test_data = df[26:]\n",
    " \n",
    "X_test = np.array(test_data[['Year', 'Players']]).reshape([-1, 2])\n",
    "y_test = test_data['Injuries']\n",
    "X_test"
   ]
  },
  {
   "cell_type": "code",
   "execution_count": null,
   "id": "e2a49859",
   "metadata": {},
   "outputs": [],
   "source": [
    "y_pred = fit_model.predict(X_test)\n",
    "y_pred\n",
    "# Adding our insample prediction for each year to our test data set\n",
    "test_data.loc[:, 'prediction_insample'] = fit_model.predict(X_test).copy()\n",
    "test_data.head()"
   ]
  },
  {
   "cell_type": "code",
   "execution_count": null,
   "id": "4d67414c",
   "metadata": {},
   "outputs": [],
   "source": [
    "test_data['error'] = test_data.prediction_insample - test_data.Injuries\n",
    "test_data['squared_error'] = test_data['error']**2\n",
    "test_data['abs'] = abs(test_data['error'])\n",
    "\n",
    "test_data"
   ]
  },
  {
   "cell_type": "code",
   "execution_count": null,
   "id": "a4bc80f6",
   "metadata": {},
   "outputs": [],
   "source": [
    "df.describe()[\"Injuries\"]"
   ]
  },
  {
   "cell_type": "code",
   "execution_count": null,
   "id": "e6af80a6",
   "metadata": {},
   "outputs": [],
   "source": [
    "\n",
    "plt.plot(X_test[:, 0], y_pred, 'r-', label='Predicted Data')\n",
    "sns.set(style=\"darkgrid\")\n",
    "sns.lineplot(x=test_data['Year'], y=test_data['Injuries'], data=test_data)\n",
    "plt.legend()\n",
    "plt.xlabel('Year')\n",
    "plt.ylabel('Number of Injuries')\n",
    "plt.title('Number of Injuries Year by Year')\n",
    "ax = plt.gca()\n",
    "ax.xaxis.set_major_locator(ticker.MaxNLocator(integer=True))\n",
    "plt.show()"
   ]
  },
  {
   "cell_type": "code",
   "execution_count": null,
   "id": "5199e6e8",
   "metadata": {},
   "outputs": [],
   "source": [
    "# Now let's remove all the rows from the data frame that have data before 1990\n",
    "injuryData = injuryData[injuryData['Year'] >= 1990]"
   ]
  }
 ],
 "metadata": {
  "kernelspec": {
   "display_name": "Python 3 (ipykernel)",
   "language": "python",
   "name": "python3"
  },
  "language_info": {
   "codemirror_mode": {
    "name": "ipython",
    "version": 3
   },
   "file_extension": ".py",
   "mimetype": "text/x-python",
   "name": "python",
   "nbconvert_exporter": "python",
   "pygments_lexer": "ipython3",
   "version": "3.9.4"
  }
 },
 "nbformat": 4,
 "nbformat_minor": 5
}
