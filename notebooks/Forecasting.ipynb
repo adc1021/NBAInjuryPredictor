{
 "cells": [
  {
   "cell_type": "markdown",
   "id": "26a138cc",
   "metadata": {},
   "source": [
    "NBA INJURY PREDICTOR"
   ]
  },
  {
   "cell_type": "markdown",
   "id": "a86ae720",
   "metadata": {},
   "source": [
    "![](injury.jpeg)\n"
   ]
  },
  {
   "cell_type": "markdown",
   "id": "d1bc3925",
   "metadata": {},
   "source": [
    "Contents\n",
    "\n",
    "1. [Introduction](#1-introduction)  \n",
    "1.1 [Background](#11-background)  \n",
    "1.2 [Objectives](#12-objectives)\n",
    "2. [Data Preparation](#2-data-preparation)  \n",
    "2.1 [Imports](#21-imports)  \n",
    "2.2 [Google Cloud Storage](#22-GCS)  \n",
    "2.3 [Dataframe Construction & Data Cleaning](#23-dfc&dc)  \n",
    "2.4 [Feature Correlations](#24-ft_corr)\n",
    "3. [Model Development](#3-MD).  \n",
    "3.1[Training the Model](#31-TM)  \n",
    "3.2[Plotting the Model](#32-PM)  \n",
    "4. [Model Testing](#4-MT)  \n",
    "4.1 [Plotting the Test Results](#4.1-PTR)  \n",
    "5. [Outlier Handling](#5-OH)\n",
    "        "
   ]
  },
  {
   "cell_type": "markdown",
   "id": "5b1571d1",
   "metadata": {
    "heading_collapsed": true
   },
   "source": [
    "##  Introduction"
   ]
  },
  {
   "cell_type": "markdown",
   "id": "4bc2ffa1",
   "metadata": {
    "heading_collapsed": true,
    "hidden": true
   },
   "source": [
    "### Background\n",
    "<a id=\"11-background\"><a>"
   ]
  },
  {
   "cell_type": "markdown",
   "id": "a77cd12e",
   "metadata": {
    "hidden": true
   },
   "source": [
    "The National Basketball Association (NBA) is one of the most popular and competitive professional sports leagues globally, captivating millions of fans with its fast-paced action and exceptional athleticism. However, along with the excitement and intensity of the game, player injuries have become a significant concern for teams, players, and fans alike.\n",
    "\n",
    "Understanding and predicting the number of injuries that occur in the NBA year over year has become a crucial area of research and analysis. The impact of injuries goes beyond individual players, as it can significantly influence team performance, game strategies, and overall league dynamics. Building a predictive model for NBA injuries aims to gain valuable insights into injury patterns, risk factors, and the potential impact on team dynamics.\n",
    "\n",
    "The importance of such a predictive model lies in its ability to assist various stakeholders in the NBA ecosystem. Team management can use the model to proactively manage player workload, optimize training and recovery protocols, and minimize injury risks. Coaches can adjust game strategies and rotations based on injury predictions, aiming to maximize player availability and team performance. Additionally, players themselves can benefit from injury forecasting by adopting personalized training programs and injury prevention measures.\n",
    "\n",
    "Furthermore, the predictive model contributes to the broader field of sports science and sports medicine. By analyzing historical injury data and identifying factors that contribute to injuries, valuable insights can be gained into injury prevention, rehabilitation techniques, and overall player health and well-being.\n",
    "\n",
    "By leveraging advanced data analysis and machine learning techniques, a robust predictive model for NBA injuries has been developed. This model considers various factors such as player workload, playing style, previous injury history, game schedule, and other relevant variables to forecast the likelihood of injuries occurring throughout the season. The model's predictions provide valuable information for teams, coaches, and players, enabling them to make data-driven decisions to enhance player safety, optimize performance, and ultimately elevate the overall quality of the NBA game.\n",
    "\n",
    "Through this research, efforts have been made to contribute to the ongoing initiatives of the NBA and the sports community as a whole in promoting player health, reducing injury rates, and fostering a more sustainable and competitive environment."
   ]
  },
  {
   "cell_type": "markdown",
   "id": "8ed75ece",
   "metadata": {
    "heading_collapsed": true,
    "hidden": true
   },
   "source": [
    "### Objectives\n",
    "<a id=\"12-objectives\"></a>"
   ]
  },
  {
   "cell_type": "markdown",
   "id": "ba465b2c",
   "metadata": {
    "hidden": true
   },
   "source": [
    "The objectives of the NBA injury predictive model are twofold. Firstly, the model aims to accurately predict the total number of injuries that will occur in the NBA during a calendar season. By training the model on historical injury data and leveraging advanced machine learning techniques, it strives to provide reliable forecasts that can assist teams, coaches, and players in proactive injury management and planning.\n",
    "\n",
    "Secondly, the model seeks to gain insights into the factors that have the greatest impact on the overall number of injuries in the NBA. These insights can contribute to a better understanding of injury risk factors and inform strategies for injury prevention and player safety.\n",
    "\n"
   ]
  },
  {
   "cell_type": "markdown",
   "id": "4e013f3c",
   "metadata": {
    "heading_collapsed": true
   },
   "source": [
    "## Data Preparation\n",
    "<a id=\"2-data-preparation\"></a>"
   ]
  },
  {
   "cell_type": "markdown",
   "id": "1eb7c953",
   "metadata": {
    "heading_collapsed": true,
    "hidden": true
   },
   "source": [
    "### Imports\n",
    "<a id=\"21-imports\"></a>"
   ]
  },
  {
   "cell_type": "code",
   "execution_count": 1,
   "id": "c731a143",
   "metadata": {
    "hidden": true
   },
   "outputs": [],
   "source": [
    "import pandas as pd\n",
    "import seaborn as sns\n",
    "import matplotlib as mpl\n",
    "import matplotlib.pyplot as plt\n",
    "from sklearn.preprocessing import LabelEncoder\n",
    "import numpy as np\n",
    "from sklearn.model_selection import train_test_split\n",
    "from sklearn.linear_model import LinearRegression\n",
    "from sklearn.ensemble import RandomForestClassifier\n",
    "from sklearn.metrics import roc_auc_score \n",
    "from sklearn.linear_model import Ridge\n",
    "from sklearn.metrics import mean_squared_error, r2_score\n",
    "import matplotlib.ticker as ticker\n",
    "import rpy2.robjects as robjects\n",
    "from rpy2.robjects.packages import importr\n",
    "from rpy2.robjects import pandas2ri\n"
   ]
  },
  {
   "cell_type": "markdown",
   "id": "76b2daa7",
   "metadata": {
    "heading_collapsed": true,
    "hidden": true
   },
   "source": [
    "### Google Cloud Storage\n",
    "<a id=\"22-GCS\"><a>"
   ]
  },
  {
   "cell_type": "code",
   "execution_count": 2,
   "id": "050fb696",
   "metadata": {
    "hidden": true
   },
   "outputs": [],
   "source": [
    "from google.cloud import storage\n",
    "import io\n",
    "key_path = \"/Users/antho/Documents/GCP/nba-injury-forecasting-59f4078886ad.json\"\n",
    "client = storage.Client.from_service_account_json(key_path)"
   ]
  },
  {
   "cell_type": "code",
   "execution_count": 3,
   "id": "424245f9",
   "metadata": {
    "hidden": true
   },
   "outputs": [],
   "source": [
    "bucket_name = 'nba-data-2023-v2'\n",
    "bucket = client.get_bucket(bucket_name)"
   ]
  },
  {
   "cell_type": "code",
   "execution_count": 4,
   "id": "fecb0dd4",
   "metadata": {
    "hidden": true
   },
   "outputs": [],
   "source": [
    "injData = 'Injuries.csv'\n",
    "blob = bucket.blob(injData)\n",
    "blob.download_to_filename(injData)\n",
    "injuryData = pd.read_csv(injData)"
   ]
  },
  {
   "cell_type": "code",
   "execution_count": 5,
   "id": "58a8f559",
   "metadata": {
    "hidden": true
   },
   "outputs": [],
   "source": [
    "# Download and store the data from AverageTravel.csv, AveragePlayerAge.csv, and NBASalaries.csv\n",
    "blob_travel = bucket.blob('AverageTravel.csv')\n",
    "content_travel = blob_travel.download_as_text()\n",
    "annual_travel = pd.read_csv(io.StringIO(content_travel))\n",
    "\n",
    "blob_age = bucket.blob('AveragePlayerAge.csv')\n",
    "content_age = blob_age.download_as_text()\n",
    "average_age = pd.read_csv(io.StringIO(content_age))\n",
    "\n",
    "blob_salary = bucket.blob('NBASalaries.csv')\n",
    "content_salary = blob_salary.download_as_text()\n",
    "average_salary = pd.read_csv(io.StringIO(content_salary))"
   ]
  },
  {
   "cell_type": "markdown",
   "id": "2d5762d7",
   "metadata": {
    "heading_collapsed": true,
    "hidden": true
   },
   "source": [
    "### Dataframe Construction & Data Cleaning\n",
    "<a id=\"23-dfc&dc\"></a>"
   ]
  },
  {
   "cell_type": "code",
   "execution_count": 6,
   "id": "5a06ffc1",
   "metadata": {
    "hidden": true
   },
   "outputs": [],
   "source": [
    "injuryData.rename(columns={'Unnamed: 0': 'ID'}, inplace=True)\n",
    "injuryData.rename(columns={'Notes': 'Injury Type'}, inplace=True)\n",
    "injuryData.rename(columns={'Relinquished': 'Player'}, inplace=True)"
   ]
  },
  {
   "cell_type": "code",
   "execution_count": 7,
   "id": "909ac144",
   "metadata": {
    "hidden": true
   },
   "outputs": [],
   "source": [
    "# Setting the objects in the column to a pandas datetime object\n",
    "injuryData['Date'] = pd.to_datetime(injuryData['Date'])\n",
    "\n",
    "#Grouping rows by 'decade' column\n",
    "injuryData['Year'] = (injuryData['Date'].dt.year)"
   ]
  },
  {
   "cell_type": "markdown",
   "id": "bfe853a3",
   "metadata": {
    "hidden": true
   },
   "source": [
    ">__Let's now remove all rows where the players have been acquired back from the IL__\n"
   ]
  },
  {
   "cell_type": "code",
   "execution_count": 8,
   "id": "5c337a2c",
   "metadata": {
    "hidden": true
   },
   "outputs": [],
   "source": [
    "# Removing the Acquired column removes all duplicates \n",
    "injuryData = injuryData[injuryData['Acquired'].isna()]\n",
    "del injuryData['Acquired']"
   ]
  },
  {
   "cell_type": "markdown",
   "id": "d5baac7a",
   "metadata": {
    "hidden": true
   },
   "source": [
    "> __Now let's calculate the total sum of injuries for each Year__\n",
    "\n",
    " > ** *It is important to note that the NBA did not have and IR/IL until the 1989-1990 season. Prior to this injured players were still members of the active roster. For this reason, it's likely many injuries do not appear in the dataset.*"
   ]
  },
  {
   "cell_type": "code",
   "execution_count": 9,
   "id": "1b1e6845",
   "metadata": {
    "hidden": true
   },
   "outputs": [],
   "source": [
    "# We only want to include data from the years after 1989 \n",
    "yearly_injuries = {}\n",
    "total_injuries = 0\n",
    "for year, group in injuryData.groupby('Year'):\n",
    "    if year > 1989: \n",
    "        injuries = group.shape[0]\n",
    "        yearly_injuries[year] = injuries\n",
    "        total_injuries += injuries"
   ]
  },
  {
   "cell_type": "markdown",
   "id": "6f0abff6",
   "metadata": {
    "hidden": true
   },
   "source": [
    "> **Prior to the 2015 season, teams in the NBA were only allowed 12 men on their active roster**"
   ]
  },
  {
   "cell_type": "code",
   "execution_count": 10,
   "id": "0f4e3b37",
   "metadata": {
    "hidden": true
   },
   "outputs": [],
   "source": [
    "# Adding total number of players in the League per year\n",
    "df = pd.DataFrame(yearly_injuries.items(), columns=['Year', 'Injuries'])\n",
    "df['Players'] = np.where(df['Year'].astype(int) <= 2015, 354, 450)\n",
    "#Turning the total number of players feature into binary values \n",
    "df['Players'] = df['Players'].apply(lambda x: 0 if x == 354 else 1)\n",
    "df['isleagueExpansion'] = np.where(df['Year']<=2004, 0, 1)\n",
    "df['Players'] = df['Players'].astype(int)"
   ]
  },
  {
   "cell_type": "code",
   "execution_count": 11,
   "id": "f32e33ef",
   "metadata": {
    "hidden": true
   },
   "outputs": [],
   "source": [
    "# adding all the data from outside data sources to the Dataframe\n",
    "df = pd.concat([df, annual_travel['Miles Traveled']], axis=1)\n",
    "df = pd.concat([df, average_age['Average Age']], axis = 1)\n",
    "df = pd.concat([df, average_salary['salary']], axis = 1)"
   ]
  },
  {
   "cell_type": "code",
   "execution_count": 12,
   "id": "85aeed35",
   "metadata": {
    "hidden": true
   },
   "outputs": [],
   "source": [
    "# adding the total number of games played in the NBA each year to the Dataframe\n",
    "def get_games_played(df):\n",
    "\n",
    "    games_played = {\n",
    "      year: 6620\n",
    "      for year in range(1990, 2024)\n",
    "  }\n",
    "\n",
    "  # the following seasons were shortened due to either lockout(1999, 2011) or COVID-19(2020-2021)\n",
    "    games_played[1999] = 4100\n",
    "    games_played[2011] = 4096\n",
    "    games_played[2020] = 4384\n",
    "    games_played[2021] = 4384\n",
    "    df['Games Played'] = df.Year.map(games_played)\n",
    "    df['Games Played'] = df['Games Played'].astype(int)\n",
    "\n",
    "get_games_played(df)"
   ]
  },
  {
   "cell_type": "markdown",
   "id": "f64c9ac3",
   "metadata": {
    "hidden": true
   },
   "source": [
    "> **A feature needs to be added to account for the shortened seasons due to lockouts and the COVID-19 virus**"
   ]
  },
  {
   "cell_type": "code",
   "execution_count": 13,
   "id": "71f37af8",
   "metadata": {
    "hidden": true
   },
   "outputs": [],
   "source": [
    "# Adding feature to account for a shortened season(lockouts and COVID-19 years)\n",
    "df['Shortened Season'] = np.where(df['Year'].isin([1999, 2011, 2020, 2021]), 1, 0)"
   ]
  },
  {
   "cell_type": "code",
   "execution_count": 14,
   "id": "e828f2ea",
   "metadata": {
    "hidden": true
   },
   "outputs": [],
   "source": [
    "# why are there so few injuries in the early in the early 90s\n",
    "# average NBA salary \n"
   ]
  },
  {
   "cell_type": "markdown",
   "id": "793b4498",
   "metadata": {
    "heading_collapsed": true,
    "hidden": true
   },
   "source": [
    "### Feature Correlations\n",
    "<a id=\"24-ft_corr\"></a>"
   ]
  },
  {
   "cell_type": "code",
   "execution_count": 15,
   "id": "021f647e",
   "metadata": {
    "hidden": true
   },
   "outputs": [
    {
     "name": "stdout",
     "output_type": "stream",
     "text": [
      "Players feature: 0.5759226257184822\n",
      "Year feature: 0.8285992890740163\n",
      "Games Played feature: -0.18779444969532763\n",
      "Miles Traveled feature: 0.1662721634969412\n",
      "isleagueExpansion feature: 0.8376745034586539\n",
      "Shortened Season feature: 0.20502095867354034\n",
      "Average Age feature: -0.6660968044361875\n",
      "salary feature: 0.7378147923008485\n"
     ]
    }
   ],
   "source": [
    "# calculating the correlation for the two features I will use to train my model\n",
    "features = ['Players', 'Year', 'Games Played', 'Miles Traveled', 'isleagueExpansion', 'Shortened Season', 'Average Age', 'salary']\n",
    "\n",
    "for feature in features:\n",
    "    correlation = df[feature].corr(df['Injuries'])\n",
    "    print(f\"{feature} feature: {correlation}\")\n"
   ]
  },
  {
   "cell_type": "markdown",
   "id": "69911a44",
   "metadata": {},
   "source": [
    "## Model Development"
   ]
  },
  {
   "cell_type": "markdown",
   "id": "458cf6c1",
   "metadata": {
    "heading_collapsed": true
   },
   "source": [
    "### Training the Model"
   ]
  },
  {
   "cell_type": "code",
   "execution_count": 16,
   "id": "1543fb3d",
   "metadata": {
    "hidden": true
   },
   "outputs": [
    {
     "name": "stdout",
     "output_type": "stream",
     "text": [
      "(34, 9)\n"
     ]
    },
    {
     "data": {
      "text/plain": [
       "(26, 8)"
      ]
     },
     "execution_count": 16,
     "metadata": {},
     "output_type": "execute_result"
    }
   ],
   "source": [
    "#Using Linear Regression function to fit our model\n",
    "train_data = df[:26]\n",
    "\n",
    "X_train = np.array(train_data[['Year', 'Players', 'Games Played', 'Miles Traveled', 'isleagueExpansion', 'Shortened Season', 'Average Age', 'salary']]).reshape(-1, 8)\n",
    "y_train = train_data['Injuries']\n",
    "reg = LinearRegression()\n",
    "\n",
    "\n",
    "fit_model = reg.fit(X_train, y_train)\n",
    "print(df.shape)\n",
    "X_train.shape\n"
   ]
  },
  {
   "cell_type": "code",
   "execution_count": 17,
   "id": "21a575e5",
   "metadata": {
    "hidden": true
   },
   "outputs": [
    {
     "name": "stdout",
     "output_type": "stream",
     "text": [
      "The Weight of feature(s): [-1.46342073e+00  2.60673175e-02  1.51014498e+02  4.74923387e-04\n",
      "  4.74257940e+02  3.80951823e+05  4.90725533e+01  6.58856260e-05]\n"
     ]
    }
   ],
   "source": [
    "# using a scikit-learn attribute, the coef represents the wieghts assigned to different features \n",
    "print(f\"The Weight of feature(s): {fit_model.coef_}\")"
   ]
  },
  {
   "cell_type": "code",
   "execution_count": 18,
   "id": "bca11bce",
   "metadata": {
    "hidden": true
   },
   "outputs": [
    {
     "name": "stdout",
     "output_type": "stream",
     "text": [
      "The Bias of the model: -998728.7683381381\n"
     ]
    }
   ],
   "source": [
    "# getting the intercept(bias) for our fitted model\n",
    "print(f\"The Bias of the model: {fit_model.intercept_}\")"
   ]
  },
  {
   "cell_type": "code",
   "execution_count": null,
   "id": "38b46857",
   "metadata": {
    "hidden": true
   },
   "outputs": [],
   "source": []
  },
  {
   "cell_type": "code",
   "execution_count": 19,
   "id": "f50a5b73",
   "metadata": {
    "hidden": true
   },
   "outputs": [
    {
     "name": "stderr",
     "output_type": "stream",
     "text": [
      "/var/folders/3k/6lf4ln2n63b7tvgn2yck__yc0000gn/T/ipykernel_92030/1950665895.py:2: SettingWithCopyWarning: \n",
      "A value is trying to be set on a copy of a slice from a DataFrame.\n",
      "Try using .loc[row_indexer,col_indexer] = value instead\n",
      "\n",
      "See the caveats in the documentation: https://pandas.pydata.org/pandas-docs/stable/user_guide/indexing.html#returning-a-view-versus-a-copy\n",
      "  train_data.loc[:, 'prediction_insample'] = fit_model.predict(X_train).copy()\n"
     ]
    },
    {
     "data": {
      "text/html": [
       "<div>\n",
       "<style scoped>\n",
       "    .dataframe tbody tr th:only-of-type {\n",
       "        vertical-align: middle;\n",
       "    }\n",
       "\n",
       "    .dataframe tbody tr th {\n",
       "        vertical-align: top;\n",
       "    }\n",
       "\n",
       "    .dataframe thead th {\n",
       "        text-align: right;\n",
       "    }\n",
       "</style>\n",
       "<table border=\"1\" class=\"dataframe\">\n",
       "  <thead>\n",
       "    <tr style=\"text-align: right;\">\n",
       "      <th></th>\n",
       "      <th>Year</th>\n",
       "      <th>Injuries</th>\n",
       "      <th>Players</th>\n",
       "      <th>isleagueExpansion</th>\n",
       "      <th>Miles Traveled</th>\n",
       "      <th>Average Age</th>\n",
       "      <th>salary</th>\n",
       "      <th>Games Played</th>\n",
       "      <th>Shortened Season</th>\n",
       "      <th>prediction_insample</th>\n",
       "    </tr>\n",
       "  </thead>\n",
       "  <tbody>\n",
       "    <tr>\n",
       "      <th>0</th>\n",
       "      <td>1990</td>\n",
       "      <td>64</td>\n",
       "      <td>0</td>\n",
       "      <td>0</td>\n",
       "      <td>1292100</td>\n",
       "      <td>27.1</td>\n",
       "      <td>1670938</td>\n",
       "      <td>6620</td>\n",
       "      <td>0</td>\n",
       "      <td>128.608874</td>\n",
       "    </tr>\n",
       "    <tr>\n",
       "      <th>1</th>\n",
       "      <td>1991</td>\n",
       "      <td>66</td>\n",
       "      <td>0</td>\n",
       "      <td>0</td>\n",
       "      <td>1272578</td>\n",
       "      <td>27.2</td>\n",
       "      <td>831623</td>\n",
       "      <td>6620</td>\n",
       "      <td>0</td>\n",
       "      <td>67.482460</td>\n",
       "    </tr>\n",
       "    <tr>\n",
       "      <th>2</th>\n",
       "      <td>1992</td>\n",
       "      <td>28</td>\n",
       "      <td>0</td>\n",
       "      <td>0</td>\n",
       "      <td>1318286</td>\n",
       "      <td>27.2</td>\n",
       "      <td>954346</td>\n",
       "      <td>6620</td>\n",
       "      <td>0</td>\n",
       "      <td>95.812519</td>\n",
       "    </tr>\n",
       "    <tr>\n",
       "      <th>3</th>\n",
       "      <td>1993</td>\n",
       "      <td>33</td>\n",
       "      <td>0</td>\n",
       "      <td>0</td>\n",
       "      <td>1323961</td>\n",
       "      <td>27.4</td>\n",
       "      <td>1061758</td>\n",
       "      <td>6620</td>\n",
       "      <td>0</td>\n",
       "      <td>113.935706</td>\n",
       "    </tr>\n",
       "    <tr>\n",
       "      <th>4</th>\n",
       "      <td>1994</td>\n",
       "      <td>127</td>\n",
       "      <td>0</td>\n",
       "      <td>0</td>\n",
       "      <td>1320737</td>\n",
       "      <td>27.3</td>\n",
       "      <td>1269884</td>\n",
       "      <td>6620</td>\n",
       "      <td>0</td>\n",
       "      <td>119.746388</td>\n",
       "    </tr>\n",
       "  </tbody>\n",
       "</table>\n",
       "</div>"
      ],
      "text/plain": [
       "   Year  Injuries  Players  isleagueExpansion  Miles Traveled  Average Age   \n",
       "0  1990        64        0                  0         1292100         27.1  \\\n",
       "1  1991        66        0                  0         1272578         27.2   \n",
       "2  1992        28        0                  0         1318286         27.2   \n",
       "3  1993        33        0                  0         1323961         27.4   \n",
       "4  1994       127        0                  0         1320737         27.3   \n",
       "\n",
       "    salary  Games Played  Shortened Season  prediction_insample  \n",
       "0  1670938          6620                 0           128.608874  \n",
       "1   831623          6620                 0            67.482460  \n",
       "2   954346          6620                 0            95.812519  \n",
       "3  1061758          6620                 0           113.935706  \n",
       "4  1269884          6620                 0           119.746388  "
      ]
     },
     "execution_count": 19,
     "metadata": {},
     "output_type": "execute_result"
    }
   ],
   "source": [
    "# Adding our insample prediction for each year to our training data set\n",
    "train_data.loc[:, 'prediction_insample'] = fit_model.predict(X_train).copy()\n",
    "train_data.head()"
   ]
  },
  {
   "cell_type": "code",
   "execution_count": 20,
   "id": "945954e1",
   "metadata": {
    "hidden": true
   },
   "outputs": [
    {
     "name": "stderr",
     "output_type": "stream",
     "text": [
      "/var/folders/3k/6lf4ln2n63b7tvgn2yck__yc0000gn/T/ipykernel_92030/3611714416.py:2: SettingWithCopyWarning: \n",
      "A value is trying to be set on a copy of a slice from a DataFrame.\n",
      "Try using .loc[row_indexer,col_indexer] = value instead\n",
      "\n",
      "See the caveats in the documentation: https://pandas.pydata.org/pandas-docs/stable/user_guide/indexing.html#returning-a-view-versus-a-copy\n",
      "  train_data['error'] = train_data.prediction_insample - train_data.Injuries\n",
      "/var/folders/3k/6lf4ln2n63b7tvgn2yck__yc0000gn/T/ipykernel_92030/3611714416.py:3: SettingWithCopyWarning: \n",
      "A value is trying to be set on a copy of a slice from a DataFrame.\n",
      "Try using .loc[row_indexer,col_indexer] = value instead\n",
      "\n",
      "See the caveats in the documentation: https://pandas.pydata.org/pandas-docs/stable/user_guide/indexing.html#returning-a-view-versus-a-copy\n",
      "  train_data['squared_error'] = train_data['error']**2\n",
      "/var/folders/3k/6lf4ln2n63b7tvgn2yck__yc0000gn/T/ipykernel_92030/3611714416.py:4: SettingWithCopyWarning: \n",
      "A value is trying to be set on a copy of a slice from a DataFrame.\n",
      "Try using .loc[row_indexer,col_indexer] = value instead\n",
      "\n",
      "See the caveats in the documentation: https://pandas.pydata.org/pandas-docs/stable/user_guide/indexing.html#returning-a-view-versus-a-copy\n",
      "  train_data['abs'] = abs(train_data['error'])\n"
     ]
    }
   ],
   "source": [
    "# Calculating the error, MSE, and ABS error for each year\n",
    "train_data['error'] = train_data.prediction_insample - train_data.Injuries\n",
    "train_data['squared_error'] = train_data['error']**2\n",
    "train_data['abs'] = abs(train_data['error'])"
   ]
  },
  {
   "cell_type": "code",
   "execution_count": 21,
   "id": "5de0d620",
   "metadata": {
    "hidden": true
   },
   "outputs": [
    {
     "data": {
      "text/plain": [
       "error            8.955025e-12\n",
       "squared_error    7.571402e+03\n",
       "abs              6.691543e+01\n",
       "dtype: float64"
      ]
     },
     "execution_count": 21,
     "metadata": {},
     "output_type": "execute_result"
    }
   ],
   "source": [
    "train_data[['error', 'squared_error', 'abs']].mean()"
   ]
  },
  {
   "cell_type": "markdown",
   "id": "8eb39a10",
   "metadata": {},
   "source": [
    "### Plotting the Model"
   ]
  },
  {
   "cell_type": "code",
   "execution_count": 22,
   "id": "2f5d04cd",
   "metadata": {},
   "outputs": [
    {
     "data": {
      "text/plain": [
       "<matplotlib.legend.Legend at 0x1687fa070>"
      ]
     },
     "execution_count": 22,
     "metadata": {},
     "output_type": "execute_result"
    },
    {
     "data": {
      "image/png": "[encoded data removed]",
      "text/plain": [
       "<Figure size 640x480 with 1 Axes>"
      ]
     },
     "metadata": {},
     "output_type": "display_data"
    }
   ],
   "source": [
    "sns.set(style=\"darkgrid\")\n",
    "sns.lineplot(x=train_data['Year'], y=train_data['Injuries'], data=train_data)\n",
    "sns.lineplot(x=train_data['Year'], y=train_data['prediction_insample'], data=train_data)\n",
    "plt.xlabel('Year')\n",
    "plt.ylabel('Number of Injuries')\n",
    "plt.title('Number of Injuries Year by Year')\n",
    "actual_injuries_legend = plt.Line2D([], [], color='blue', label='Actual Injuries')\n",
    "predicted_injuries_legend = plt.Line2D([], [], color='orange', label='Predicted Injuries')\n",
    "plt.legend(handles=[actual_injuries_legend, predicted_injuries_legend])\n",
    "\n"
   ]
  },
  {
   "cell_type": "markdown",
   "id": "0ca10c75",
   "metadata": {
    "heading_collapsed": true
   },
   "source": [
    "## Model Testing\n",
    "<a id=\"4-MT\"><a>"
   ]
  },
  {
   "cell_type": "code",
   "execution_count": 23,
   "id": "61286b6a",
   "metadata": {
    "hidden": true
   },
   "outputs": [],
   "source": [
    "test_data = df[26:]\n",
    " \n",
    "X_test = np.array(test_data[['Year', 'Players', 'Games Played', 'Miles Traveled', 'isleagueExpansion', 'Shortened Season', 'Average Age', 'salary']]).reshape(-1, 8)\n",
    "y_test = test_data['Injuries']\n"
   ]
  },
  {
   "cell_type": "code",
   "execution_count": 24,
   "id": "e2a49859",
   "metadata": {
    "hidden": true
   },
   "outputs": [
    {
     "name": "stderr",
     "output_type": "stream",
     "text": [
      "/var/folders/3k/6lf4ln2n63b7tvgn2yck__yc0000gn/T/ipykernel_92030/1514185178.py:3: SettingWithCopyWarning: \n",
      "A value is trying to be set on a copy of a slice from a DataFrame.\n",
      "Try using .loc[row_indexer,col_indexer] = value instead\n",
      "\n",
      "See the caveats in the documentation: https://pandas.pydata.org/pandas-docs/stable/user_guide/indexing.html#returning-a-view-versus-a-copy\n",
      "  test_data.loc[:, 'prediction_insample'] = y_pred.copy()\n"
     ]
    },
    {
     "data": {
      "text/html": [
       "<div>\n",
       "<style scoped>\n",
       "    .dataframe tbody tr th:only-of-type {\n",
       "        vertical-align: middle;\n",
       "    }\n",
       "\n",
       "    .dataframe tbody tr th {\n",
       "        vertical-align: top;\n",
       "    }\n",
       "\n",
       "    .dataframe thead th {\n",
       "        text-align: right;\n",
       "    }\n",
       "</style>\n",
       "<table border=\"1\" class=\"dataframe\">\n",
       "  <thead>\n",
       "    <tr style=\"text-align: right;\">\n",
       "      <th></th>\n",
       "      <th>Year</th>\n",
       "      <th>Injuries</th>\n",
       "      <th>Players</th>\n",
       "      <th>isleagueExpansion</th>\n",
       "      <th>Miles Traveled</th>\n",
       "      <th>Average Age</th>\n",
       "      <th>salary</th>\n",
       "      <th>Games Played</th>\n",
       "      <th>Shortened Season</th>\n",
       "      <th>prediction_insample</th>\n",
       "    </tr>\n",
       "  </thead>\n",
       "  <tbody>\n",
       "    <tr>\n",
       "      <th>26</th>\n",
       "      <td>2016</td>\n",
       "      <td>835</td>\n",
       "      <td>1</td>\n",
       "      <td>1</td>\n",
       "      <td>1429934</td>\n",
       "      <td>27.0</td>\n",
       "      <td>4441493</td>\n",
       "      <td>6620</td>\n",
       "      <td>0</td>\n",
       "      <td>807.937027</td>\n",
       "    </tr>\n",
       "    <tr>\n",
       "      <th>27</th>\n",
       "      <td>2017</td>\n",
       "      <td>1172</td>\n",
       "      <td>1</td>\n",
       "      <td>1</td>\n",
       "      <td>1452806</td>\n",
       "      <td>26.8</td>\n",
       "      <td>5282659</td>\n",
       "      <td>6620</td>\n",
       "      <td>0</td>\n",
       "      <td>862.942292</td>\n",
       "    </tr>\n",
       "    <tr>\n",
       "      <th>28</th>\n",
       "      <td>2018</td>\n",
       "      <td>1016</td>\n",
       "      <td>1</td>\n",
       "      <td>1</td>\n",
       "      <td>1464235</td>\n",
       "      <td>26.5</td>\n",
       "      <td>6011008</td>\n",
       "      <td>6620</td>\n",
       "      <td>0</td>\n",
       "      <td>900.172735</td>\n",
       "    </tr>\n",
       "    <tr>\n",
       "      <th>29</th>\n",
       "      <td>2019</td>\n",
       "      <td>866</td>\n",
       "      <td>1</td>\n",
       "      <td>1</td>\n",
       "      <td>1437272</td>\n",
       "      <td>26.3</td>\n",
       "      <td>8320000</td>\n",
       "      <td>6620</td>\n",
       "      <td>0</td>\n",
       "      <td>1028.218827</td>\n",
       "    </tr>\n",
       "    <tr>\n",
       "      <th>30</th>\n",
       "      <td>2020</td>\n",
       "      <td>570</td>\n",
       "      <td>1</td>\n",
       "      <td>1</td>\n",
       "      <td>1091799</td>\n",
       "      <td>26.0</td>\n",
       "      <td>7900000</td>\n",
       "      <td>4384</td>\n",
       "      <td>1</td>\n",
       "      <td>44103.692997</td>\n",
       "    </tr>\n",
       "  </tbody>\n",
       "</table>\n",
       "</div>"
      ],
      "text/plain": [
       "    Year  Injuries  Players  isleagueExpansion  Miles Traveled  Average Age   \n",
       "26  2016       835        1                  1         1429934         27.0  \\\n",
       "27  2017      1172        1                  1         1452806         26.8   \n",
       "28  2018      1016        1                  1         1464235         26.5   \n",
       "29  2019       866        1                  1         1437272         26.3   \n",
       "30  2020       570        1                  1         1091799         26.0   \n",
       "\n",
       "     salary  Games Played  Shortened Season  prediction_insample  \n",
       "26  4441493          6620                 0           807.937027  \n",
       "27  5282659          6620                 0           862.942292  \n",
       "28  6011008          6620                 0           900.172735  \n",
       "29  8320000          6620                 0          1028.218827  \n",
       "30  7900000          4384                 1         44103.692997  "
      ]
     },
     "execution_count": 24,
     "metadata": {},
     "output_type": "execute_result"
    }
   ],
   "source": [
    "y_pred = fit_model.predict(X_test)\n",
    "# Adding our insample prediction for each year to our test data set\n",
    "test_data.loc[:, 'prediction_insample'] = y_pred.copy()\n",
    "test_data.head()"
   ]
  },
  {
   "cell_type": "code",
   "execution_count": 25,
   "id": "4d67414c",
   "metadata": {
    "hidden": true
   },
   "outputs": [
    {
     "name": "stderr",
     "output_type": "stream",
     "text": [
      "/var/folders/3k/6lf4ln2n63b7tvgn2yck__yc0000gn/T/ipykernel_92030/3584602971.py:1: SettingWithCopyWarning: \n",
      "A value is trying to be set on a copy of a slice from a DataFrame.\n",
      "Try using .loc[row_indexer,col_indexer] = value instead\n",
      "\n",
      "See the caveats in the documentation: https://pandas.pydata.org/pandas-docs/stable/user_guide/indexing.html#returning-a-view-versus-a-copy\n",
      "  test_data['error'] = test_data.prediction_insample - test_data.Injuries\n",
      "/var/folders/3k/6lf4ln2n63b7tvgn2yck__yc0000gn/T/ipykernel_92030/3584602971.py:2: SettingWithCopyWarning: \n",
      "A value is trying to be set on a copy of a slice from a DataFrame.\n",
      "Try using .loc[row_indexer,col_indexer] = value instead\n",
      "\n",
      "See the caveats in the documentation: https://pandas.pydata.org/pandas-docs/stable/user_guide/indexing.html#returning-a-view-versus-a-copy\n",
      "  test_data['squared_error'] = test_data['error']**2\n",
      "/var/folders/3k/6lf4ln2n63b7tvgn2yck__yc0000gn/T/ipykernel_92030/3584602971.py:3: SettingWithCopyWarning: \n",
      "A value is trying to be set on a copy of a slice from a DataFrame.\n",
      "Try using .loc[row_indexer,col_indexer] = value instead\n",
      "\n",
      "See the caveats in the documentation: https://pandas.pydata.org/pandas-docs/stable/user_guide/indexing.html#returning-a-view-versus-a-copy\n",
      "  test_data['abs'] = abs(test_data['error'])\n"
     ]
    }
   ],
   "source": [
    "test_data['error'] = test_data.prediction_insample - test_data.Injuries\n",
    "test_data['squared_error'] = test_data['error']**2\n",
    "test_data['abs'] = abs(test_data['error'])\n"
   ]
  },
  {
   "cell_type": "code",
   "execution_count": 26,
   "id": "a4bc80f6",
   "metadata": {
    "hidden": true
   },
   "outputs": [
    {
     "data": {
      "text/plain": [
       "count      34.000000\n",
       "mean      576.058824\n",
       "std       381.342282\n",
       "min        28.000000\n",
       "25%       295.000000\n",
       "50%       585.000000\n",
       "75%       851.500000\n",
       "max      1582.000000\n",
       "Name: Injuries, dtype: float64"
      ]
     },
     "execution_count": 26,
     "metadata": {},
     "output_type": "execute_result"
    }
   ],
   "source": [
    "df.describe()[\"Injuries\"]"
   ]
  },
  {
   "cell_type": "markdown",
   "id": "abf2c5b7",
   "metadata": {
    "heading_collapsed": true,
    "hidden": true
   },
   "source": [
    "### Plotting the Test Results\n",
    "<a id=\"4.1-PTR\"><a>"
   ]
  },
  {
   "cell_type": "code",
   "execution_count": 27,
   "id": "e6af80a6",
   "metadata": {
    "hidden": true
   },
   "outputs": [
    {
     "data": {
      "image/png": "[encoded data removed]",
      "text/plain": [
       "<Figure size 640x480 with 1 Axes>"
      ]
     },
     "metadata": {},
     "output_type": "display_data"
    }
   ],
   "source": [
    "plt.plot(X_test[:, 0], y_pred, 'r-', label='Predicted Data')\n",
    "sns.set(style=\"darkgrid\")\n",
    "sns.lineplot(x=test_data['Year'], y=test_data['Injuries'], data=test_data)\n",
    "plt.legend()\n",
    "plt.xlabel('Year')\n",
    "plt.ylabel('Number of Injuries')\n",
    "plt.title('Number of Injuries Year by Year')\n",
    "ax = plt.gca()\n",
    "ax.xaxis.set_major_locator(ticker.MaxNLocator(integer=True))\n",
    "plt.show()"
   ]
  },
  {
   "cell_type": "markdown",
   "id": "ff79de6e",
   "metadata": {
    "hidden": true
   },
   "source": [
    "> **Outliers appeared in years 2020 and 2021 for the data**  \n",
    "**To combat this, I will be using Huber Regression**"
   ]
  },
  {
   "cell_type": "markdown",
   "id": "6a288fc0",
   "metadata": {},
   "source": [
    "## Outlier Handling\n",
    "<a id=\"5-OH\"><a>"
   ]
  },
  {
   "cell_type": "code",
   "execution_count": 28,
   "id": "8f8e06a4",
   "metadata": {
    "scrolled": true
   },
   "outputs": [
    {
     "name": "stderr",
     "output_type": "stream",
     "text": [
      "/var/folders/3k/6lf4ln2n63b7tvgn2yck__yc0000gn/T/ipykernel_92030/529879298.py:13: SettingWithCopyWarning: \n",
      "A value is trying to be set on a copy of a slice from a DataFrame.\n",
      "Try using .loc[row_indexer,col_indexer] = value instead\n",
      "\n",
      "See the caveats in the documentation: https://pandas.pydata.org/pandas-docs/stable/user_guide/indexing.html#returning-a-view-versus-a-copy\n",
      "  huber_dataset['prediction_insample'] = y_pred\n"
     ]
    }
   ],
   "source": [
    "# I currently have outlier for my 2020 and 2021 predictions\n",
    "# I will attempt to use Huber Regression to account for these outliers \n",
    "from sklearn.linear_model import HuberRegressor\n",
    "huber_dataset = df[26:]\n",
    "X_huber = huber_dataset[[ 'Players', 'isleagueExpansion', 'Games Played', 'Shortened Season', 'Miles Traveled', 'Average Age', 'salary']]\n",
    "y_huber = huber_dataset['Injuries']\n",
    "\n",
    "huber_reg = HuberRegressor()\n",
    "huber_reg.fit(X_huber, y_huber)\n",
    "\n",
    "y_pred = huber_reg.predict(X_huber)\n",
    "\n",
    "huber_dataset['prediction_insample'] = y_pred\n"
   ]
  },
  {
   "cell_type": "code",
   "execution_count": 29,
   "id": "46c08072",
   "metadata": {},
   "outputs": [
    {
     "name": "stderr",
     "output_type": "stream",
     "text": [
      "/var/folders/3k/6lf4ln2n63b7tvgn2yck__yc0000gn/T/ipykernel_92030/2283756543.py:1: SettingWithCopyWarning: \n",
      "A value is trying to be set on a copy of a slice from a DataFrame.\n",
      "Try using .loc[row_indexer,col_indexer] = value instead\n",
      "\n",
      "See the caveats in the documentation: https://pandas.pydata.org/pandas-docs/stable/user_guide/indexing.html#returning-a-view-versus-a-copy\n",
      "  huber_dataset['error'] = huber_dataset.prediction_insample - huber_dataset.Injuries\n",
      "/var/folders/3k/6lf4ln2n63b7tvgn2yck__yc0000gn/T/ipykernel_92030/2283756543.py:2: SettingWithCopyWarning: \n",
      "A value is trying to be set on a copy of a slice from a DataFrame.\n",
      "Try using .loc[row_indexer,col_indexer] = value instead\n",
      "\n",
      "See the caveats in the documentation: https://pandas.pydata.org/pandas-docs/stable/user_guide/indexing.html#returning-a-view-versus-a-copy\n",
      "  huber_dataset['squared_error'] = huber_dataset['error']**2\n",
      "/var/folders/3k/6lf4ln2n63b7tvgn2yck__yc0000gn/T/ipykernel_92030/2283756543.py:3: SettingWithCopyWarning: \n",
      "A value is trying to be set on a copy of a slice from a DataFrame.\n",
      "Try using .loc[row_indexer,col_indexer] = value instead\n",
      "\n",
      "See the caveats in the documentation: https://pandas.pydata.org/pandas-docs/stable/user_guide/indexing.html#returning-a-view-versus-a-copy\n",
      "  huber_dataset['abs'] = abs(huber_dataset['error'])\n"
     ]
    }
   ],
   "source": [
    "huber_dataset['error'] = huber_dataset.prediction_insample - huber_dataset.Injuries\n",
    "huber_dataset['squared_error'] = huber_dataset['error']**2\n",
    "huber_dataset['abs'] = abs(huber_dataset['error'])"
   ]
  },
  {
   "cell_type": "code",
   "execution_count": 30,
   "id": "98b40e36",
   "metadata": {},
   "outputs": [
    {
     "data": {
      "image/png": "[encoded data removed]",
      "text/plain": [
       "<Figure size 640x480 with 1 Axes>"
      ]
     },
     "metadata": {},
     "output_type": "display_data"
    }
   ],
   "source": [
    "plt.plot(huber_dataset['Year'], huber_dataset['prediction_insample'], 'r-', label='Predicted Data')\n",
    "sns.set(style=\"darkgrid\")\n",
    "sns.lineplot(x='Year', y='Injuries', data=huber_dataset)\n",
    "plt.legend()\n",
    "plt.xlabel('Year')\n",
    "plt.ylabel('Number of Injuries')\n",
    "plt.title('Number of Injuries Year by Year')\n",
    "ax = plt.gca()\n",
    "ax.xaxis.set_major_locator(plt.MaxNLocator(integer=True))\n",
    "plt.show()"
   ]
  },
  {
   "cell_type": "code",
   "execution_count": null,
   "id": "cc875e25",
   "metadata": {},
   "outputs": [],
   "source": []
  }
 ],
 "metadata": {
  "kernelspec": {
   "display_name": "Python 3 (ipykernel)",
   "language": "python",
   "name": "python3"
  },
  "language_info": {
   "codemirror_mode": {
    "name": "ipython",
    "version": 3
   },
   "file_extension": ".py",
   "mimetype": "text/x-python",
   "name": "python",
   "nbconvert_exporter": "python",
   "pygments_lexer": "ipython3",
   "version": "3.9.4"
  },
  "toc": {
   "base_numbering": 1,
   "nav_menu": {},
   "number_sections": true,
   "sideBar": true,
   "skip_h1_title": false,
   "title_cell": "Table of Contents",
   "title_sidebar": "Contents",
   "toc_cell": false,
   "toc_position": {
    "height": "calc(100% - 180px)",
    "left": "10px",
    "top": "150px",
    "width": "165px"
   },
   "toc_section_display": true,
   "toc_window_display": false
  }
 },
 "nbformat": 4,
 "nbformat_minor": 5
}
