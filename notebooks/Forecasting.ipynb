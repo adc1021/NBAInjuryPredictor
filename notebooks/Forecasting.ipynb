{
 "cells": [
  {
   "cell_type": "code",
   "execution_count": 1,
   "id": "c731a143",
   "metadata": {},
   "outputs": [],
   "source": [
    "import pandas as pd\n",
    "import seaborn as sns\n",
    "import matplotlib as mpl\n",
    "import matplotlib.pyplot as plt\n",
    "from sklearn.preprocessing import LabelEncoder\n",
    "import numpy as np\n",
    "from sklearn.model_selection import train_test_split\n",
    "from sklearn.linear_model import LinearRegression\n",
    "from sklearn.ensemble import RandomForestClassifier\n",
    "from sklearn.metrics import roc_auc_score \n",
    "from sklearn.linear_model import Ridge\n",
    "from sklearn.metrics import mean_squared_error, r2_score\n",
    "import matplotlib.ticker as ticker"
   ]
  },
  {
   "cell_type": "code",
   "execution_count": 2,
   "id": "61d15813",
   "metadata": {},
   "outputs": [],
   "source": [
    "injuryData = pd.read_csv(\"~/Documents/Job Search - 2023/NBA_Injury_Predictor/Injuries.csv\")"
   ]
  },
  {
   "cell_type": "code",
   "execution_count": 3,
   "id": "5a06ffc1",
   "metadata": {},
   "outputs": [],
   "source": [
    "injuryData.rename(columns={'Unnamed: 0': 'ID'}, inplace=True)\n",
    "injuryData.rename(columns={'Notes': 'Injury Type'}, inplace=True)\n",
    "injuryData.rename(columns={'Relinquished': 'Player'}, inplace=True)"
   ]
  },
  {
   "cell_type": "markdown",
   "id": "6eeccf28",
   "metadata": {},
   "source": [
    "### We want to separate the dataset by year to get a good idea of the total number of injuries that have occured annually"
   ]
  },
  {
   "cell_type": "code",
   "execution_count": 4,
   "id": "909ac144",
   "metadata": {},
   "outputs": [],
   "source": [
    "# Setting the objects in the column to a pandas datetime object\n",
    "injuryData['Date'] = pd.to_datetime(injuryData['Date'])\n",
    "\n",
    "#Grouping rows by 'decade' column\n",
    "injuryData['Year'] = (injuryData['Date'].dt.year)\n",
    "\n"
   ]
  },
  {
   "cell_type": "markdown",
   "id": "bfe853a3",
   "metadata": {},
   "source": [
    "### Let's now remove all rows where the players have been acquired back from the IL \n"
   ]
  },
  {
   "cell_type": "code",
   "execution_count": 5,
   "id": "5c337a2c",
   "metadata": {},
   "outputs": [],
   "source": [
    "# Removing the Acquired column removes all duplicates \n",
    "injuryData = injuryData[injuryData['Acquired'].isna()]\n",
    "del injuryData['Acquired']"
   ]
  },
  {
   "cell_type": "markdown",
   "id": "d5baac7a",
   "metadata": {},
   "source": [
    "### Now let's calculate the total sum of injuries for each Year"
   ]
  },
  {
   "cell_type": "markdown",
   "id": "841596eb",
   "metadata": {},
   "source": [
    "## `It is important to note that the NBA did not have and IR/IL until the 1989-1990 season. Prior to this injured players were still members of the active roster. For this reason, it's likely many injuries do not appear in the dataset.`"
   ]
  },
  {
   "cell_type": "code",
   "execution_count": 6,
   "id": "1b1e6845",
   "metadata": {},
   "outputs": [
    {
     "data": {
      "text/html": [
       "<div>\n",
       "<style scoped>\n",
       "    .dataframe tbody tr th:only-of-type {\n",
       "        vertical-align: middle;\n",
       "    }\n",
       "\n",
       "    .dataframe tbody tr th {\n",
       "        vertical-align: top;\n",
       "    }\n",
       "\n",
       "    .dataframe thead th {\n",
       "        text-align: right;\n",
       "    }\n",
       "</style>\n",
       "<table border=\"1\" class=\"dataframe\">\n",
       "  <thead>\n",
       "    <tr style=\"text-align: right;\">\n",
       "      <th></th>\n",
       "      <th>Year</th>\n",
       "      <th>Injuries</th>\n",
       "      <th>Players</th>\n",
       "    </tr>\n",
       "  </thead>\n",
       "  <tbody>\n",
       "    <tr>\n",
       "      <th>0</th>\n",
       "      <td>1990</td>\n",
       "      <td>64</td>\n",
       "      <td>354.0</td>\n",
       "    </tr>\n",
       "    <tr>\n",
       "      <th>1</th>\n",
       "      <td>1991</td>\n",
       "      <td>66</td>\n",
       "      <td>354.0</td>\n",
       "    </tr>\n",
       "    <tr>\n",
       "      <th>2</th>\n",
       "      <td>1992</td>\n",
       "      <td>28</td>\n",
       "      <td>354.0</td>\n",
       "    </tr>\n",
       "    <tr>\n",
       "      <th>3</th>\n",
       "      <td>1993</td>\n",
       "      <td>33</td>\n",
       "      <td>354.0</td>\n",
       "    </tr>\n",
       "    <tr>\n",
       "      <th>4</th>\n",
       "      <td>1994</td>\n",
       "      <td>127</td>\n",
       "      <td>354.0</td>\n",
       "    </tr>\n",
       "    <tr>\n",
       "      <th>5</th>\n",
       "      <td>1995</td>\n",
       "      <td>245</td>\n",
       "      <td>354.0</td>\n",
       "    </tr>\n",
       "    <tr>\n",
       "      <th>6</th>\n",
       "      <td>1996</td>\n",
       "      <td>277</td>\n",
       "      <td>354.0</td>\n",
       "    </tr>\n",
       "    <tr>\n",
       "      <th>7</th>\n",
       "      <td>1997</td>\n",
       "      <td>290</td>\n",
       "      <td>354.0</td>\n",
       "    </tr>\n",
       "    <tr>\n",
       "      <th>8</th>\n",
       "      <td>1998</td>\n",
       "      <td>157</td>\n",
       "      <td>354.0</td>\n",
       "    </tr>\n",
       "    <tr>\n",
       "      <th>9</th>\n",
       "      <td>1999</td>\n",
       "      <td>396</td>\n",
       "      <td>354.0</td>\n",
       "    </tr>\n",
       "    <tr>\n",
       "      <th>10</th>\n",
       "      <td>2000</td>\n",
       "      <td>326</td>\n",
       "      <td>354.0</td>\n",
       "    </tr>\n",
       "    <tr>\n",
       "      <th>11</th>\n",
       "      <td>2001</td>\n",
       "      <td>335</td>\n",
       "      <td>354.0</td>\n",
       "    </tr>\n",
       "    <tr>\n",
       "      <th>12</th>\n",
       "      <td>2002</td>\n",
       "      <td>318</td>\n",
       "      <td>354.0</td>\n",
       "    </tr>\n",
       "    <tr>\n",
       "      <th>13</th>\n",
       "      <td>2003</td>\n",
       "      <td>310</td>\n",
       "      <td>354.0</td>\n",
       "    </tr>\n",
       "    <tr>\n",
       "      <th>14</th>\n",
       "      <td>2004</td>\n",
       "      <td>356</td>\n",
       "      <td>354.0</td>\n",
       "    </tr>\n",
       "    <tr>\n",
       "      <th>15</th>\n",
       "      <td>2005</td>\n",
       "      <td>627</td>\n",
       "      <td>354.0</td>\n",
       "    </tr>\n",
       "    <tr>\n",
       "      <th>16</th>\n",
       "      <td>2006</td>\n",
       "      <td>938</td>\n",
       "      <td>354.0</td>\n",
       "    </tr>\n",
       "    <tr>\n",
       "      <th>17</th>\n",
       "      <td>2007</td>\n",
       "      <td>962</td>\n",
       "      <td>354.0</td>\n",
       "    </tr>\n",
       "    <tr>\n",
       "      <th>18</th>\n",
       "      <td>2008</td>\n",
       "      <td>857</td>\n",
       "      <td>354.0</td>\n",
       "    </tr>\n",
       "    <tr>\n",
       "      <th>19</th>\n",
       "      <td>2009</td>\n",
       "      <td>755</td>\n",
       "      <td>354.0</td>\n",
       "    </tr>\n",
       "    <tr>\n",
       "      <th>20</th>\n",
       "      <td>2010</td>\n",
       "      <td>883</td>\n",
       "      <td>354.0</td>\n",
       "    </tr>\n",
       "    <tr>\n",
       "      <th>21</th>\n",
       "      <td>2011</td>\n",
       "      <td>600</td>\n",
       "      <td>354.0</td>\n",
       "    </tr>\n",
       "    <tr>\n",
       "      <th>22</th>\n",
       "      <td>2012</td>\n",
       "      <td>780</td>\n",
       "      <td>354.0</td>\n",
       "    </tr>\n",
       "    <tr>\n",
       "      <th>23</th>\n",
       "      <td>2013</td>\n",
       "      <td>634</td>\n",
       "      <td>354.0</td>\n",
       "    </tr>\n",
       "    <tr>\n",
       "      <th>24</th>\n",
       "      <td>2014</td>\n",
       "      <td>679</td>\n",
       "      <td>354.0</td>\n",
       "    </tr>\n",
       "    <tr>\n",
       "      <th>25</th>\n",
       "      <td>2015</td>\n",
       "      <td>814</td>\n",
       "      <td>354.0</td>\n",
       "    </tr>\n",
       "    <tr>\n",
       "      <th>26</th>\n",
       "      <td>2016</td>\n",
       "      <td>835</td>\n",
       "      <td>450.0</td>\n",
       "    </tr>\n",
       "    <tr>\n",
       "      <th>27</th>\n",
       "      <td>2017</td>\n",
       "      <td>1172</td>\n",
       "      <td>450.0</td>\n",
       "    </tr>\n",
       "    <tr>\n",
       "      <th>28</th>\n",
       "      <td>2018</td>\n",
       "      <td>1016</td>\n",
       "      <td>450.0</td>\n",
       "    </tr>\n",
       "    <tr>\n",
       "      <th>29</th>\n",
       "      <td>2019</td>\n",
       "      <td>866</td>\n",
       "      <td>450.0</td>\n",
       "    </tr>\n",
       "    <tr>\n",
       "      <th>30</th>\n",
       "      <td>2020</td>\n",
       "      <td>570</td>\n",
       "      <td>450.0</td>\n",
       "    </tr>\n",
       "    <tr>\n",
       "      <th>31</th>\n",
       "      <td>2021</td>\n",
       "      <td>1582</td>\n",
       "      <td>450.0</td>\n",
       "    </tr>\n",
       "    <tr>\n",
       "      <th>32</th>\n",
       "      <td>2022</td>\n",
       "      <td>1182</td>\n",
       "      <td>450.0</td>\n",
       "    </tr>\n",
       "    <tr>\n",
       "      <th>33</th>\n",
       "      <td>2023</td>\n",
       "      <td>506</td>\n",
       "      <td>450.0</td>\n",
       "    </tr>\n",
       "  </tbody>\n",
       "</table>\n",
       "</div>"
      ],
      "text/plain": [
       "    Year  Injuries  Players\n",
       "0   1990        64    354.0\n",
       "1   1991        66    354.0\n",
       "2   1992        28    354.0\n",
       "3   1993        33    354.0\n",
       "4   1994       127    354.0\n",
       "5   1995       245    354.0\n",
       "6   1996       277    354.0\n",
       "7   1997       290    354.0\n",
       "8   1998       157    354.0\n",
       "9   1999       396    354.0\n",
       "10  2000       326    354.0\n",
       "11  2001       335    354.0\n",
       "12  2002       318    354.0\n",
       "13  2003       310    354.0\n",
       "14  2004       356    354.0\n",
       "15  2005       627    354.0\n",
       "16  2006       938    354.0\n",
       "17  2007       962    354.0\n",
       "18  2008       857    354.0\n",
       "19  2009       755    354.0\n",
       "20  2010       883    354.0\n",
       "21  2011       600    354.0\n",
       "22  2012       780    354.0\n",
       "23  2013       634    354.0\n",
       "24  2014       679    354.0\n",
       "25  2015       814    354.0\n",
       "26  2016       835    450.0\n",
       "27  2017      1172    450.0\n",
       "28  2018      1016    450.0\n",
       "29  2019       866    450.0\n",
       "30  2020       570    450.0\n",
       "31  2021      1582    450.0\n",
       "32  2022      1182    450.0\n",
       "33  2023       506    450.0"
      ]
     },
     "execution_count": 6,
     "metadata": {},
     "output_type": "execute_result"
    }
   ],
   "source": [
    "# We only want to include data from the years after 1989 \n",
    "yearly_injuries = {}\n",
    "total_injuries = 0\n",
    "for year, group in injuryData.groupby('Year'):\n",
    "    if year > 1989: \n",
    "        injuries = group.shape[0]\n",
    "        yearly_injuries[year] = injuries\n",
    "        total_injuries += injuries\n",
    "#         print(f\"Year: {year} Injuries: {injuries}\")\n",
    "#         print(f\"Total Injuries: {total_injuries}\")\n",
    "#         print(\"---------------------------------------------\")\n",
    "df = pd.DataFrame(yearly_injuries.items(), columns=['Year', 'Injuries'])\n",
    "condition1 = df['Year'].astype(int) <= 2015\n",
    "df.loc[condition1, 'Players'] = 354\n",
    "\n",
    "# Set the condition for the second range of years (1996 onwards)\n",
    "condition2 = df['Year'].astype(int) > 2015\n",
    "df.loc[condition2, 'Players'] = 450\n",
    "df      "
   ]
  },
  {
   "cell_type": "code",
   "execution_count": 7,
   "id": "b1f94b4b",
   "metadata": {},
   "outputs": [
    {
     "name": "stdout",
     "output_type": "stream",
     "text": [
      "Correlation for Players feature: 0.5759226257184823\n",
      "Correlation for Year feature: 0.8285992890740163\n"
     ]
    }
   ],
   "source": [
    "# calculating the correlation for the two features I will use to train my model\n",
    "Players_corr = df['Players'].corr(df['Injuries'])\n",
    "Year_corr = df['Year'].corr(df['Injuries'])\n",
    "\n",
    "print(\"Correlation for Players feature:\", Players_corr)\n",
    "print(\"Correlation for Year feature:\", Year_corr)"
   ]
  },
  {
   "cell_type": "code",
   "execution_count": 20,
   "id": "f1012d95",
   "metadata": {},
   "outputs": [],
   "source": [
    "def normalize_players(df):\n",
    "  # Get the mean and standard deviation of the players feature.\n",
    "  mean = df['Players'].mean()\n",
    "  std = df['Players'].std()\n",
    "\n",
    "  # Normalize the players feature.\n",
    "  df['Normalized Players'] = (df['Players'] - mean) / std\n",
    "#   df['Normalized Players'].fillna(mean, inplace=True)\n",
    "\n",
    "  # Print the data frame.\n",
    "\n",
    "  return df\n"
   ]
  },
  {
   "cell_type": "code",
   "execution_count": 21,
   "id": "1543fb3d",
   "metadata": {},
   "outputs": [
    {
     "name": "stdout",
     "output_type": "stream",
     "text": [
      "    Year  Injuries  Players  Normalized Players\n",
      "0   1990        64    354.0               354.0\n",
      "1   1991        66    354.0               354.0\n",
      "2   1992        28    354.0               354.0\n",
      "3   1993        33    354.0               354.0\n",
      "4   1994       127    354.0               354.0\n",
      "5   1995       245    354.0               354.0\n",
      "6   1996       277    354.0               354.0\n",
      "7   1997       290    354.0               354.0\n",
      "8   1998       157    354.0               354.0\n",
      "9   1999       396    354.0               354.0\n",
      "10  2000       326    354.0               354.0\n",
      "11  2001       335    354.0               354.0\n",
      "12  2002       318    354.0               354.0\n",
      "13  2003       310    354.0               354.0\n",
      "14  2004       356    354.0               354.0\n",
      "15  2005       627    354.0               354.0\n",
      "16  2006       938    354.0               354.0\n",
      "17  2007       962    354.0               354.0\n",
      "18  2008       857    354.0               354.0\n",
      "19  2009       755    354.0               354.0\n",
      "20  2010       883    354.0               354.0\n",
      "21  2011       600    354.0               354.0\n",
      "22  2012       780    354.0               354.0\n",
      "23  2013       634    354.0               354.0\n",
      "24  2014       679    354.0               354.0\n",
      "25  2015       814    354.0               354.0\n"
     ]
    },
    {
     "name": "stderr",
     "output_type": "stream",
     "text": [
      "/var/folders/3k/6lf4ln2n63b7tvgn2yck__yc0000gn/T/ipykernel_36437/50895427.py:7: SettingWithCopyWarning: \n",
      "A value is trying to be set on a copy of a slice from a DataFrame.\n",
      "Try using .loc[row_indexer,col_indexer] = value instead\n",
      "\n",
      "See the caveats in the documentation: https://pandas.pydata.org/pandas-docs/stable/user_guide/indexing.html#returning-a-view-versus-a-copy\n",
      "  df['Normalized Players'] = (df['Players'] - mean) / std\n",
      "/var/folders/3k/6lf4ln2n63b7tvgn2yck__yc0000gn/T/ipykernel_36437/50895427.py:8: SettingWithCopyWarning: \n",
      "A value is trying to be set on a copy of a slice from a DataFrame\n",
      "\n",
      "See the caveats in the documentation: https://pandas.pydata.org/pandas-docs/stable/user_guide/indexing.html#returning-a-view-versus-a-copy\n",
      "  df['Normalized Players'].fillna(mean, inplace=True)\n"
     ]
    }
   ],
   "source": [
    "#Using Linear Regression function to fit our model\n",
    "train_data = df[:26]\n",
    "\n",
    "train_data = normalize_players(train_data)\n",
    "print(train_data)\n",
    "# X_train = np.array(train_data[['Year', 'Normalized Players']]).reshape(-1, 2)\n",
    "# y_train = train_data['Injuries']\n",
    "# reg = LinearRegression()\n",
    "\n",
    "\n",
    "# fit_model = reg.fit(X_train, y_train)\n",
    "# print(df.shape)\n",
    "# X_train.shape\n"
   ]
  },
  {
   "cell_type": "code",
   "execution_count": null,
   "id": "21a575e5",
   "metadata": {},
   "outputs": [],
   "source": [
    "# using a scikit-learn attribute, the coef represents the wieghts assigned to different features \n",
    "print(f\"The Weight of feature(s): {fit_model.coef_}\")"
   ]
  },
  {
   "cell_type": "code",
   "execution_count": null,
   "id": "bca11bce",
   "metadata": {},
   "outputs": [],
   "source": [
    "# getting the intercept(bias) for our fitted model\n",
    "print(f\"The Bias of the model: {fit_model.intercept_}\")"
   ]
  },
  {
   "cell_type": "code",
   "execution_count": null,
   "id": "38b46857",
   "metadata": {},
   "outputs": [],
   "source": []
  },
  {
   "cell_type": "code",
   "execution_count": null,
   "id": "f50a5b73",
   "metadata": {},
   "outputs": [],
   "source": [
    "# Adding our insample prediction for each year to our training data set\n",
    "train_data.loc[:, 'prediction_insample'] = fit_model.predict(X_train).copy()\n",
    "train_data.head()"
   ]
  },
  {
   "cell_type": "code",
   "execution_count": null,
   "id": "945954e1",
   "metadata": {},
   "outputs": [],
   "source": [
    "# Calculating the error, MSE, and ABS error for each year\n",
    "train_data['error'] = train_data.prediction_insample - train_data.Injuries\n",
    "train_data['squared_error'] = train_data['error']**2\n",
    "train_data['abs'] = abs(train_data['error'])\n",
    "\n",
    "train_data"
   ]
  },
  {
   "cell_type": "code",
   "execution_count": null,
   "id": "5de0d620",
   "metadata": {},
   "outputs": [],
   "source": [
    "# I'm not sure why my error is zero \n",
    "\n",
    "# Returns the mean for error, squared error and absolute error for the training set\n",
    "train_data[['error', 'squared_error', 'abs']].mean()"
   ]
  },
  {
   "cell_type": "code",
   "execution_count": null,
   "id": "2f5d04cd",
   "metadata": {},
   "outputs": [],
   "source": [
    "sns.set(style=\"darkgrid\")\n",
    "sns.lineplot(x=train_data['Year'], y=train_data['Injuries'], data=train_data)\n",
    "sns.lineplot(x=train_data['Year'], y=train_data['prediction_insample'], data=train_data)\n",
    "plt.xlabel('Year')\n",
    "plt.ylabel('Number of Injuries')\n",
    "plt.title('Number of Injuries Year by Year')\n"
   ]
  },
  {
   "cell_type": "markdown",
   "id": "0ca10c75",
   "metadata": {},
   "source": [
    "### <u>Time to test on a new set of data:<u>"
   ]
  },
  {
   "cell_type": "code",
   "execution_count": null,
   "id": "61286b6a",
   "metadata": {},
   "outputs": [],
   "source": [
    "test_data = df[26:]\n",
    " \n",
    "X_test = np.array(test_data[['Year', 'Players']]).reshape([-1, 2])\n",
    "y_test = test_data['Injuries']\n",
    "X_test"
   ]
  },
  {
   "cell_type": "code",
   "execution_count": null,
   "id": "e2a49859",
   "metadata": {},
   "outputs": [],
   "source": [
    "y_pred = fit_model.predict(X_test)\n",
    "y_pred"
   ]
  },
  {
   "cell_type": "code",
   "execution_count": null,
   "id": "97ec2fea",
   "metadata": {},
   "outputs": [],
   "source": [
    "## Now let's evaluate the models performance \n",
    "## Using R-Squared score to determine the performance of the model\n",
    "from sklearn.metrics import mean_absolute_error\n",
    "\n",
    "mse = mean_squared_error(y_test, y_pred)\n",
    "mae = mean_absolute_error(y_test, y_pred)\n",
    "r2 = r2_score(y_test, y_pred)\n",
    "\n",
    "\n",
    "print(\"Mean Squared Error (MSE):\", mse)\n",
    "print(\"Mean Absolute Error:\", mae)\n",
    "print(\"R-squared Score:\", r2)"
   ]
  },
  {
   "cell_type": "code",
   "execution_count": null,
   "id": "a4bc80f6",
   "metadata": {},
   "outputs": [],
   "source": [
    "df.describe()[\"Injuries\"]"
   ]
  },
  {
   "cell_type": "markdown",
   "id": "5076d89b",
   "metadata": {},
   "source": [
    "## As seen above, or model is not performing optimally"
   ]
  },
  {
   "cell_type": "code",
   "execution_count": null,
   "id": "e6af80a6",
   "metadata": {},
   "outputs": [],
   "source": [
    "plt.plot(X_test, y_pred, 'r-', label='Predicted Data')\n",
    "sns.set(style=\"darkgrid\")\n",
    "sns.lineplot(x=test_data['Year'], y=test_data['Injuries'], data=test_data)\n",
    "plt.legend()\n",
    "plt.xlabel('Year')\n",
    "plt.ylabel('Number of Injuries')\n",
    "plt.title('Number of Injuries Year by Year')\n",
    "ax = plt.gca()\n",
    "ax.xaxis.set_major_locator(ticker.MaxNLocator(integer=True))\n",
    "plt.show()"
   ]
  },
  {
   "cell_type": "code",
   "execution_count": null,
   "id": "5199e6e8",
   "metadata": {},
   "outputs": [],
   "source": [
    "# Now let's remove all the rows from the data frame that have data before 1990\n",
    "injuryData = injuryData[injuryData['Year'] >= 1990]"
   ]
  }
 ],
 "metadata": {
  "kernelspec": {
   "display_name": "Python 3 (ipykernel)",
   "language": "python",
   "name": "python3"
  },
  "language_info": {
   "codemirror_mode": {
    "name": "ipython",
    "version": 3
   },
   "file_extension": ".py",
   "mimetype": "text/x-python",
   "name": "python",
   "nbconvert_exporter": "python",
   "pygments_lexer": "ipython3",
   "version": "3.9.4"
  }
 },
 "nbformat": 4,
 "nbformat_minor": 5
}
