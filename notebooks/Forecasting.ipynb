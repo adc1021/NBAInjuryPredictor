{
 "cells": [
  {
   "cell_type": "markdown",
   "id": "a86ae720",
   "metadata": {},
   "source": [
    "![](injury.jpeg)\n"
   ]
  },
  {
   "cell_type": "markdown",
   "id": "d1bc3925",
   "metadata": {},
   "source": [
    "Contents\n",
    "\n",
    "1. [Introduction](#1-introduction)  \n",
    "1.1 [Background](#11-background)  \n",
    "1.2 [Objectives](#12-objectives)\n",
    "2. [Data Preparation](#2-data-preparation)  \n",
    "2.1 [Imports](#21-imports)  \n",
    "2.2 [Google Cloud Storage](#22-GCS)  \n",
    "2.3 [Dataframe Construction & Data Cleaning](#23-dfc&dc)  \n",
    "2.4 [Feature Correlations](#24-ft_corr)\n",
    "3. [Model Development](#3-MD).  \n",
    "3.1[Training the Model](#31-TM)  \n",
    "3.2[Plotting the Model](#32-PM)  \n",
    "4. [Model Testing](#4-MT)  \n",
    "4.1 [Plotting the Test Results](#4.1-PTR)  \n",
    "5. [Outlier Handling](#5-OH)\n",
    "6. [Conclusion](#6-Conc)\n",
    "        "
   ]
  },
  {
   "cell_type": "markdown",
   "id": "5b1571d1",
   "metadata": {},
   "source": [
    "##  Introduction"
   ]
  },
  {
   "cell_type": "markdown",
   "id": "4bc2ffa1",
   "metadata": {},
   "source": [
    "### Background\n",
    "<a id=\"11-background\"><a>"
   ]
  },
  {
   "cell_type": "markdown",
   "id": "a77cd12e",
   "metadata": {},
   "source": [
    "The National Basketball Association (NBA) is one of the most popular and competitive professional sports leagues globally, captivating millions of fans with its fast-paced action and exceptional athleticism. However, along with the excitement and intensity of the game, player injuries have become a significant concern for teams, players, and fans alike.\n",
    "\n",
    "Understanding and predicting the number of injuries that occur in the NBA year over year has become a crucial area of research and analysis. The impact of injuries goes beyond individual players, as it can significantly influence team performance, game strategies, and overall league dynamics. Building a predictive model for NBA injuries aims to gain valuable insights into injury patterns, risk factors, and the potential impact on team dynamics.\n",
    "\n",
    "The importance of such a predictive model lies in its ability to assist various stakeholders in the NBA ecosystem. Team management can use the model to proactively manage player workload, optimize training and recovery protocols, and minimize injury risks. Coaches can adjust game strategies and rotations based on injury predictions, aiming to maximize player availability and team performance. Additionally, players themselves can benefit from injury forecasting by adopting personalized training programs and injury prevention measures.\n",
    "\n",
    "Furthermore, the predictive model contributes to the broader field of sports science and sports medicine. By analyzing historical injury data and identifying factors that contribute to injuries, valuable insights can be gained into injury prevention, rehabilitation techniques, and overall player health and well-being.\n",
    "\n",
    "By leveraging advanced data analysis and machine learning techniques, a robust predictive model for NBA injuries has been developed. This model considers various factors such as player workload, playing style, previous injury history, game schedule, and other relevant variables to forecast the likelihood of injuries occurring throughout the season. The model's predictions provide valuable information for teams, coaches, and players, enabling them to make data-driven decisions to enhance player safety, optimize performance, and ultimately elevate the overall quality of the NBA game.\n",
    "\n",
    "Through this research, efforts have been made to contribute to the ongoing initiatives of the NBA and the sports community as a whole in promoting player health, reducing injury rates, and fostering a more sustainable and competitive environment."
   ]
  },
  {
   "cell_type": "markdown",
   "id": "8ed75ece",
   "metadata": {},
   "source": [
    "### Objectives\n",
    "<a id=\"12-objectives\"></a>"
   ]
  },
  {
   "cell_type": "markdown",
   "id": "ba465b2c",
   "metadata": {},
   "source": [
    "The objectives of the NBA injury predictive model are twofold. Firstly, the model aims to accurately predict the total number of injuries that will occur in the NBA during a calendar season. By training the model on historical injury data and leveraging advanced machine learning techniques, it strives to provide reliable forecasts that can assist teams, coaches, and players in proactive injury management and planning.\n",
    "\n",
    "Secondly, the model seeks to gain insights into the factors that have the greatest impact on the overall number of injuries in the NBA. These insights can contribute to a better understanding of injury risk factors and inform strategies for injury prevention and player safety.\n",
    "\n"
   ]
  },
  {
   "cell_type": "markdown",
   "id": "4e013f3c",
   "metadata": {},
   "source": [
    "## Data Preparation\n",
    "<a id=\"2-data-preparation\"></a>"
   ]
  },
  {
   "cell_type": "markdown",
   "id": "1eb7c953",
   "metadata": {},
   "source": [
    "### Imports\n",
    "<a id=\"21-imports\"></a>"
   ]
  },
  {
   "cell_type": "code",
   "execution_count": 1,
   "id": "c731a143",
   "metadata": {},
   "outputs": [],
   "source": [
    "import pandas as pd\n",
    "import seaborn as sns\n",
    "import matplotlib as mpl\n",
    "import matplotlib.pyplot as plt\n",
    "import sklearn\n",
    "from sklearn.preprocessing import LabelEncoder\n",
    "import numpy as np\n",
    "from sklearn.model_selection import train_test_split\n",
    "from sklearn.linear_model import LinearRegression\n",
    "from sklearn.ensemble import RandomForestClassifier\n",
    "from sklearn.metrics import roc_auc_score \n",
    "from sklearn.linear_model import Ridge\n",
    "from sklearn.metrics import mean_squared_error, r2_score\n",
    "import matplotlib.ticker as ticker\n"
   ]
  },
  {
   "cell_type": "markdown",
   "id": "76b2daa7",
   "metadata": {},
   "source": [
    "### Google Cloud Storage\n",
    "<a id=\"22-GCS\"><a>"
   ]
  },
  {
   "cell_type": "code",
   "execution_count": 2,
   "id": "050fb696",
   "metadata": {},
   "outputs": [],
   "source": [
    "from google.cloud import storage\n",
    "import io\n",
    "key_path = \"/Users/antho/Documents/GCP/nba-injury-forecasting-59f4078886ad.json\"\n",
    "client = storage.Client.from_service_account_json(key_path)"
   ]
  },
  {
   "cell_type": "code",
   "execution_count": 3,
   "id": "424245f9",
   "metadata": {},
   "outputs": [],
   "source": [
    "bucket_name = 'nba-data-2023-v2'\n",
    "bucket = client.get_bucket(bucket_name)"
   ]
  },
  {
   "cell_type": "code",
   "execution_count": 4,
   "id": "fecb0dd4",
   "metadata": {},
   "outputs": [],
   "source": [
    "injData = 'Injuries.csv'\n",
    "blob = bucket.blob(injData)\n",
    "blob.download_to_filename(injData)\n",
    "injuryData = pd.read_csv(injData)"
   ]
  },
  {
   "cell_type": "code",
   "execution_count": 5,
   "id": "58a8f559",
   "metadata": {},
   "outputs": [],
   "source": [
    "# Download and store the data from AverageTravel.csv, AveragePlayerAge.csv, and NBASalaries.csv\n",
    "blob_travel = bucket.blob('AverageTravel.csv')\n",
    "content_travel = blob_travel.download_as_text()\n",
    "annual_travel = pd.read_csv(io.StringIO(content_travel))\n",
    "\n",
    "blob_age = bucket.blob('AveragePlayerAge.csv')\n",
    "content_age = blob_age.download_as_text()\n",
    "average_age = pd.read_csv(io.StringIO(content_age))\n",
    "\n",
    "blob_salary = bucket.blob('NBASalaries.csv')\n",
    "content_salary = blob_salary.download_as_text()\n",
    "average_salary = pd.read_csv(io.StringIO(content_salary))"
   ]
  },
  {
   "cell_type": "markdown",
   "id": "2d5762d7",
   "metadata": {},
   "source": [
    "### Dataframe Construction & Data Cleaning\n",
    "<a id=\"23-dfc&dc\"></a>"
   ]
  },
  {
   "cell_type": "code",
   "execution_count": 6,
   "id": "5a06ffc1",
   "metadata": {},
   "outputs": [],
   "source": [
    "injuryData.rename(columns={'Unnamed: 0': 'ID'}, inplace=True)\n",
    "injuryData.rename(columns={'Notes': 'Injury Type'}, inplace=True)\n",
    "injuryData.rename(columns={'Relinquished': 'Player'}, inplace=True)"
   ]
  },
  {
   "cell_type": "code",
   "execution_count": 7,
   "id": "909ac144",
   "metadata": {},
   "outputs": [],
   "source": [
    "# Setting the objects in the column to a pandas datetime object\n",
    "injuryData['Date'] = pd.to_datetime(injuryData['Date'])\n",
    "\n",
    "#Grouping rows by 'decade' column\n",
    "injuryData['Year'] = (injuryData['Date'].dt.year)"
   ]
  },
  {
   "cell_type": "markdown",
   "id": "bfe853a3",
   "metadata": {},
   "source": [
    ">__Let's now remove all rows where the players have been acquired back from the IL__\n"
   ]
  },
  {
   "cell_type": "code",
   "execution_count": 8,
   "id": "5c337a2c",
   "metadata": {},
   "outputs": [],
   "source": [
    "# Removing the Acquired column removes all duplicates \n",
    "injuryData = injuryData[injuryData['Acquired'].isna()]\n",
    "del injuryData['Acquired']"
   ]
  },
  {
   "cell_type": "markdown",
   "id": "d5baac7a",
   "metadata": {},
   "source": [
    "> __Now let's calculate the total sum of injuries for each Year__\n",
    "\n",
    " > ** *It is important to note that the NBA did not have and IR/IL until the 1989-1990 season. Prior to this injured players were still members of the active roster. For this reason, it's likely many injuries do not appear in the dataset.*"
   ]
  },
  {
   "cell_type": "code",
   "execution_count": 9,
   "id": "1b1e6845",
   "metadata": {},
   "outputs": [],
   "source": [
    "# We only want to include data from the years after 1989 \n",
    "yearly_injuries = {}\n",
    "total_injuries = 0\n",
    "for year, group in injuryData.groupby('Year'):\n",
    "    if year > 1989: \n",
    "        injuries = group.shape[0]\n",
    "        yearly_injuries[year] = injuries\n",
    "        total_injuries += injuries"
   ]
  },
  {
   "cell_type": "markdown",
   "id": "6f0abff6",
   "metadata": {},
   "source": [
    "> **Prior to the 2015 season, teams in the NBA were only allowed 12 men on their active roster**"
   ]
  },
  {
   "cell_type": "code",
   "execution_count": 10,
   "id": "0f4e3b37",
   "metadata": {},
   "outputs": [],
   "source": [
    "# Adding total number of players in the League per year\n",
    "df = pd.DataFrame(yearly_injuries.items(), columns=['Year', 'Injuries'])\n",
    "df['Players'] = np.where(df['Year'].astype(int) <= 2015, 354, 450)\n",
    "#Turning the total number of players feature into binary values \n",
    "df['Players'] = df['Players'].apply(lambda x: 0 if x == 354 else 1)\n",
    "df['isleagueExpansion'] = np.where(df['Year']<=2004, 0, 1)\n",
    "df['Players'] = df['Players'].astype(int)"
   ]
  },
  {
   "cell_type": "code",
   "execution_count": 11,
   "id": "f32e33ef",
   "metadata": {},
   "outputs": [],
   "source": [
    "# adding all the data from outside data sources to the Dataframe\n",
    "df = pd.concat([df, annual_travel['Miles Traveled']], axis=1)\n",
    "df = pd.concat([df, average_age['Average Age']], axis = 1)\n",
    "df = pd.concat([df, average_salary['salary']], axis = 1)"
   ]
  },
  {
   "cell_type": "code",
   "execution_count": 12,
   "id": "85aeed35",
   "metadata": {},
   "outputs": [],
   "source": [
    "# adding the total number of games played in the NBA each year to the Dataframe\n",
    "def get_games_played(df):\n",
    "\n",
    "    games_played = {\n",
    "      year: 6620\n",
    "      for year in range(1990, 2024)\n",
    "  }\n",
    "\n",
    "  # the following seasons were shortened due to either lockout(1999, 2011) or COVID-19(2020-2021)\n",
    "    games_played[1999] = 4100\n",
    "    games_played[2011] = 4096\n",
    "    games_played[2020] = 4384\n",
    "    games_played[2021] = 4384\n",
    "    df['Games Played'] = df.Year.map(games_played)\n",
    "    df['Games Played'] = df['Games Played'].astype(int)\n",
    "\n",
    "get_games_played(df)"
   ]
  },
  {
   "cell_type": "markdown",
   "id": "f64c9ac3",
   "metadata": {},
   "source": [
    "> **A feature needs to be added to account for the shortened seasons due to lockouts and the COVID-19 virus**"
   ]
  },
  {
   "cell_type": "code",
   "execution_count": 13,
   "id": "f48e649e",
   "metadata": {},
   "outputs": [],
   "source": [
    "# add feature for injuries in the previous season\n",
    "df['prevYrINJ'] = df['Injuries'].shift(1)\n",
    "df['prevYrINJ'].fillna(0, inplace=True)\n",
    "df['prevYrINJ'] = df['prevYrINJ'].astype(int)\n",
    "df.loc[0, 'prevYrINJ'] = 64"
   ]
  },
  {
   "cell_type": "markdown",
   "id": "4aa13324",
   "metadata": {},
   "source": [
    "### Feature Scaling"
   ]
  },
  {
   "cell_type": "code",
   "execution_count": 14,
   "id": "71f37af8",
   "metadata": {},
   "outputs": [
    {
     "data": {
      "text/html": [
       "<div>\n",
       "<style scoped>\n",
       "    .dataframe tbody tr th:only-of-type {\n",
       "        vertical-align: middle;\n",
       "    }\n",
       "\n",
       "    .dataframe tbody tr th {\n",
       "        vertical-align: top;\n",
       "    }\n",
       "\n",
       "    .dataframe thead th {\n",
       "        text-align: right;\n",
       "    }\n",
       "</style>\n",
       "<table border=\"1\" class=\"dataframe\">\n",
       "  <thead>\n",
       "    <tr style=\"text-align: right;\">\n",
       "      <th></th>\n",
       "      <th>Year</th>\n",
       "      <th>Injuries</th>\n",
       "      <th>Players</th>\n",
       "      <th>isleagueExpansion</th>\n",
       "      <th>Miles Traveled</th>\n",
       "      <th>Average Age</th>\n",
       "      <th>salary</th>\n",
       "      <th>Games Played</th>\n",
       "      <th>prevYrINJ</th>\n",
       "      <th>Shortened Season</th>\n",
       "    </tr>\n",
       "  </thead>\n",
       "  <tbody>\n",
       "    <tr>\n",
       "      <th>0</th>\n",
       "      <td>1990</td>\n",
       "      <td>64</td>\n",
       "      <td>0</td>\n",
       "      <td>0</td>\n",
       "      <td>1292100</td>\n",
       "      <td>27.1</td>\n",
       "      <td>1670938</td>\n",
       "      <td>6620</td>\n",
       "      <td>64</td>\n",
       "      <td>0</td>\n",
       "    </tr>\n",
       "    <tr>\n",
       "      <th>1</th>\n",
       "      <td>1991</td>\n",
       "      <td>66</td>\n",
       "      <td>0</td>\n",
       "      <td>0</td>\n",
       "      <td>1272578</td>\n",
       "      <td>27.2</td>\n",
       "      <td>831623</td>\n",
       "      <td>6620</td>\n",
       "      <td>64</td>\n",
       "      <td>0</td>\n",
       "    </tr>\n",
       "    <tr>\n",
       "      <th>2</th>\n",
       "      <td>1992</td>\n",
       "      <td>28</td>\n",
       "      <td>0</td>\n",
       "      <td>0</td>\n",
       "      <td>1318286</td>\n",
       "      <td>27.2</td>\n",
       "      <td>954346</td>\n",
       "      <td>6620</td>\n",
       "      <td>66</td>\n",
       "      <td>0</td>\n",
       "    </tr>\n",
       "    <tr>\n",
       "      <th>3</th>\n",
       "      <td>1993</td>\n",
       "      <td>33</td>\n",
       "      <td>0</td>\n",
       "      <td>0</td>\n",
       "      <td>1323961</td>\n",
       "      <td>27.4</td>\n",
       "      <td>1061758</td>\n",
       "      <td>6620</td>\n",
       "      <td>28</td>\n",
       "      <td>0</td>\n",
       "    </tr>\n",
       "    <tr>\n",
       "      <th>4</th>\n",
       "      <td>1994</td>\n",
       "      <td>127</td>\n",
       "      <td>0</td>\n",
       "      <td>0</td>\n",
       "      <td>1320737</td>\n",
       "      <td>27.3</td>\n",
       "      <td>1269884</td>\n",
       "      <td>6620</td>\n",
       "      <td>33</td>\n",
       "      <td>0</td>\n",
       "    </tr>\n",
       "    <tr>\n",
       "      <th>5</th>\n",
       "      <td>1995</td>\n",
       "      <td>245</td>\n",
       "      <td>0</td>\n",
       "      <td>0</td>\n",
       "      <td>1330188</td>\n",
       "      <td>27.7</td>\n",
       "      <td>1360404</td>\n",
       "      <td>6620</td>\n",
       "      <td>127</td>\n",
       "      <td>0</td>\n",
       "    </tr>\n",
       "    <tr>\n",
       "      <th>6</th>\n",
       "      <td>1996</td>\n",
       "      <td>277</td>\n",
       "      <td>0</td>\n",
       "      <td>0</td>\n",
       "      <td>1408035</td>\n",
       "      <td>27.7</td>\n",
       "      <td>1734345</td>\n",
       "      <td>6620</td>\n",
       "      <td>245</td>\n",
       "      <td>0</td>\n",
       "    </tr>\n",
       "    <tr>\n",
       "      <th>7</th>\n",
       "      <td>1997</td>\n",
       "      <td>290</td>\n",
       "      <td>0</td>\n",
       "      <td>0</td>\n",
       "      <td>1433522</td>\n",
       "      <td>28.0</td>\n",
       "      <td>1935172</td>\n",
       "      <td>6620</td>\n",
       "      <td>277</td>\n",
       "      <td>0</td>\n",
       "    </tr>\n",
       "    <tr>\n",
       "      <th>8</th>\n",
       "      <td>1998</td>\n",
       "      <td>157</td>\n",
       "      <td>0</td>\n",
       "      <td>0</td>\n",
       "      <td>1397293</td>\n",
       "      <td>28.1</td>\n",
       "      <td>2121415</td>\n",
       "      <td>6620</td>\n",
       "      <td>290</td>\n",
       "      <td>0</td>\n",
       "    </tr>\n",
       "    <tr>\n",
       "      <th>9</th>\n",
       "      <td>1999</td>\n",
       "      <td>396</td>\n",
       "      <td>0</td>\n",
       "      <td>0</td>\n",
       "      <td>848528</td>\n",
       "      <td>28.0</td>\n",
       "      <td>2456729</td>\n",
       "      <td>4100</td>\n",
       "      <td>157</td>\n",
       "      <td>1</td>\n",
       "    </tr>\n",
       "    <tr>\n",
       "      <th>10</th>\n",
       "      <td>2000</td>\n",
       "      <td>326</td>\n",
       "      <td>0</td>\n",
       "      <td>0</td>\n",
       "      <td>1437353</td>\n",
       "      <td>28.1</td>\n",
       "      <td>2498708</td>\n",
       "      <td>6620</td>\n",
       "      <td>396</td>\n",
       "      <td>0</td>\n",
       "    </tr>\n",
       "    <tr>\n",
       "      <th>11</th>\n",
       "      <td>2001</td>\n",
       "      <td>335</td>\n",
       "      <td>0</td>\n",
       "      <td>0</td>\n",
       "      <td>1385887</td>\n",
       "      <td>28.1</td>\n",
       "      <td>3236011</td>\n",
       "      <td>6620</td>\n",
       "      <td>326</td>\n",
       "      <td>0</td>\n",
       "    </tr>\n",
       "    <tr>\n",
       "      <th>12</th>\n",
       "      <td>2002</td>\n",
       "      <td>318</td>\n",
       "      <td>0</td>\n",
       "      <td>0</td>\n",
       "      <td>1387405</td>\n",
       "      <td>27.6</td>\n",
       "      <td>3395648</td>\n",
       "      <td>6620</td>\n",
       "      <td>335</td>\n",
       "      <td>0</td>\n",
       "    </tr>\n",
       "    <tr>\n",
       "      <th>13</th>\n",
       "      <td>2003</td>\n",
       "      <td>310</td>\n",
       "      <td>0</td>\n",
       "      <td>0</td>\n",
       "      <td>1422138</td>\n",
       "      <td>27.5</td>\n",
       "      <td>3636158</td>\n",
       "      <td>6620</td>\n",
       "      <td>318</td>\n",
       "      <td>0</td>\n",
       "    </tr>\n",
       "    <tr>\n",
       "      <th>14</th>\n",
       "      <td>2004</td>\n",
       "      <td>356</td>\n",
       "      <td>0</td>\n",
       "      <td>0</td>\n",
       "      <td>1487471</td>\n",
       "      <td>27.4</td>\n",
       "      <td>3650914</td>\n",
       "      <td>6620</td>\n",
       "      <td>310</td>\n",
       "      <td>0</td>\n",
       "    </tr>\n",
       "    <tr>\n",
       "      <th>15</th>\n",
       "      <td>2005</td>\n",
       "      <td>627</td>\n",
       "      <td>0</td>\n",
       "      <td>1</td>\n",
       "      <td>1451054</td>\n",
       "      <td>27.3</td>\n",
       "      <td>3705740</td>\n",
       "      <td>6620</td>\n",
       "      <td>356</td>\n",
       "      <td>0</td>\n",
       "    </tr>\n",
       "    <tr>\n",
       "      <th>16</th>\n",
       "      <td>2006</td>\n",
       "      <td>938</td>\n",
       "      <td>0</td>\n",
       "      <td>1</td>\n",
       "      <td>1426874</td>\n",
       "      <td>26.8</td>\n",
       "      <td>3839337</td>\n",
       "      <td>6620</td>\n",
       "      <td>627</td>\n",
       "      <td>0</td>\n",
       "    </tr>\n",
       "    <tr>\n",
       "      <th>17</th>\n",
       "      <td>2007</td>\n",
       "      <td>962</td>\n",
       "      <td>0</td>\n",
       "      <td>1</td>\n",
       "      <td>1476307</td>\n",
       "      <td>26.8</td>\n",
       "      <td>3793016</td>\n",
       "      <td>6620</td>\n",
       "      <td>938</td>\n",
       "      <td>0</td>\n",
       "    </tr>\n",
       "    <tr>\n",
       "      <th>18</th>\n",
       "      <td>2008</td>\n",
       "      <td>857</td>\n",
       "      <td>0</td>\n",
       "      <td>1</td>\n",
       "      <td>1438306</td>\n",
       "      <td>27.1</td>\n",
       "      <td>4244496</td>\n",
       "      <td>6620</td>\n",
       "      <td>962</td>\n",
       "      <td>0</td>\n",
       "    </tr>\n",
       "    <tr>\n",
       "      <th>19</th>\n",
       "      <td>2009</td>\n",
       "      <td>755</td>\n",
       "      <td>0</td>\n",
       "      <td>1</td>\n",
       "      <td>1447629</td>\n",
       "      <td>26.9</td>\n",
       "      <td>4581769</td>\n",
       "      <td>6620</td>\n",
       "      <td>857</td>\n",
       "      <td>0</td>\n",
       "    </tr>\n",
       "    <tr>\n",
       "      <th>20</th>\n",
       "      <td>2010</td>\n",
       "      <td>883</td>\n",
       "      <td>0</td>\n",
       "      <td>1</td>\n",
       "      <td>1434109</td>\n",
       "      <td>27.0</td>\n",
       "      <td>4476258</td>\n",
       "      <td>6620</td>\n",
       "      <td>755</td>\n",
       "      <td>0</td>\n",
       "    </tr>\n",
       "    <tr>\n",
       "      <th>21</th>\n",
       "      <td>2011</td>\n",
       "      <td>600</td>\n",
       "      <td>0</td>\n",
       "      <td>1</td>\n",
       "      <td>1420795</td>\n",
       "      <td>27.1</td>\n",
       "      <td>4334884</td>\n",
       "      <td>4096</td>\n",
       "      <td>883</td>\n",
       "      <td>1</td>\n",
       "    </tr>\n",
       "    <tr>\n",
       "      <th>22</th>\n",
       "      <td>2012</td>\n",
       "      <td>780</td>\n",
       "      <td>0</td>\n",
       "      <td>1</td>\n",
       "      <td>1182465</td>\n",
       "      <td>27.0</td>\n",
       "      <td>4289844</td>\n",
       "      <td>6620</td>\n",
       "      <td>600</td>\n",
       "      <td>0</td>\n",
       "    </tr>\n",
       "    <tr>\n",
       "      <th>23</th>\n",
       "      <td>2013</td>\n",
       "      <td>634</td>\n",
       "      <td>0</td>\n",
       "      <td>1</td>\n",
       "      <td>1415866</td>\n",
       "      <td>27.0</td>\n",
       "      <td>4239567</td>\n",
       "      <td>6620</td>\n",
       "      <td>780</td>\n",
       "      <td>0</td>\n",
       "    </tr>\n",
       "    <tr>\n",
       "      <th>24</th>\n",
       "      <td>2014</td>\n",
       "      <td>679</td>\n",
       "      <td>0</td>\n",
       "      <td>1</td>\n",
       "      <td>1416514</td>\n",
       "      <td>26.9</td>\n",
       "      <td>4865642</td>\n",
       "      <td>6620</td>\n",
       "      <td>634</td>\n",
       "      <td>0</td>\n",
       "    </tr>\n",
       "    <tr>\n",
       "      <th>25</th>\n",
       "      <td>2015</td>\n",
       "      <td>814</td>\n",
       "      <td>0</td>\n",
       "      <td>1</td>\n",
       "      <td>1464641</td>\n",
       "      <td>26.9</td>\n",
       "      <td>4018814</td>\n",
       "      <td>6620</td>\n",
       "      <td>679</td>\n",
       "      <td>0</td>\n",
       "    </tr>\n",
       "    <tr>\n",
       "      <th>26</th>\n",
       "      <td>2016</td>\n",
       "      <td>835</td>\n",
       "      <td>1</td>\n",
       "      <td>1</td>\n",
       "      <td>1429934</td>\n",
       "      <td>27.0</td>\n",
       "      <td>4441493</td>\n",
       "      <td>6620</td>\n",
       "      <td>814</td>\n",
       "      <td>0</td>\n",
       "    </tr>\n",
       "    <tr>\n",
       "      <th>27</th>\n",
       "      <td>2017</td>\n",
       "      <td>1172</td>\n",
       "      <td>1</td>\n",
       "      <td>1</td>\n",
       "      <td>1452806</td>\n",
       "      <td>26.8</td>\n",
       "      <td>5282659</td>\n",
       "      <td>6620</td>\n",
       "      <td>835</td>\n",
       "      <td>0</td>\n",
       "    </tr>\n",
       "    <tr>\n",
       "      <th>28</th>\n",
       "      <td>2018</td>\n",
       "      <td>1016</td>\n",
       "      <td>1</td>\n",
       "      <td>1</td>\n",
       "      <td>1464235</td>\n",
       "      <td>26.5</td>\n",
       "      <td>6011008</td>\n",
       "      <td>6620</td>\n",
       "      <td>1172</td>\n",
       "      <td>0</td>\n",
       "    </tr>\n",
       "    <tr>\n",
       "      <th>29</th>\n",
       "      <td>2019</td>\n",
       "      <td>866</td>\n",
       "      <td>1</td>\n",
       "      <td>1</td>\n",
       "      <td>1437272</td>\n",
       "      <td>26.3</td>\n",
       "      <td>8320000</td>\n",
       "      <td>6620</td>\n",
       "      <td>1016</td>\n",
       "      <td>0</td>\n",
       "    </tr>\n",
       "    <tr>\n",
       "      <th>30</th>\n",
       "      <td>2020</td>\n",
       "      <td>570</td>\n",
       "      <td>1</td>\n",
       "      <td>1</td>\n",
       "      <td>1091799</td>\n",
       "      <td>26.0</td>\n",
       "      <td>7900000</td>\n",
       "      <td>4384</td>\n",
       "      <td>866</td>\n",
       "      <td>1</td>\n",
       "    </tr>\n",
       "    <tr>\n",
       "      <th>31</th>\n",
       "      <td>2021</td>\n",
       "      <td>1582</td>\n",
       "      <td>1</td>\n",
       "      <td>1</td>\n",
       "      <td>1206032</td>\n",
       "      <td>26.0</td>\n",
       "      <td>8500000</td>\n",
       "      <td>4384</td>\n",
       "      <td>570</td>\n",
       "      <td>1</td>\n",
       "    </tr>\n",
       "    <tr>\n",
       "      <th>32</th>\n",
       "      <td>2022</td>\n",
       "      <td>1182</td>\n",
       "      <td>1</td>\n",
       "      <td>1</td>\n",
       "      <td>1409164</td>\n",
       "      <td>26.1</td>\n",
       "      <td>9370000</td>\n",
       "      <td>6620</td>\n",
       "      <td>1582</td>\n",
       "      <td>0</td>\n",
       "    </tr>\n",
       "    <tr>\n",
       "      <th>33</th>\n",
       "      <td>2023</td>\n",
       "      <td>506</td>\n",
       "      <td>1</td>\n",
       "      <td>1</td>\n",
       "      <td>1300373</td>\n",
       "      <td>26.0</td>\n",
       "      <td>9500000</td>\n",
       "      <td>6620</td>\n",
       "      <td>1182</td>\n",
       "      <td>0</td>\n",
       "    </tr>\n",
       "  </tbody>\n",
       "</table>\n",
       "</div>"
      ],
      "text/plain": [
       "    Year  Injuries  Players  isleagueExpansion  Miles Traveled  Average Age  \\\n",
       "0   1990        64        0                  0         1292100         27.1   \n",
       "1   1991        66        0                  0         1272578         27.2   \n",
       "2   1992        28        0                  0         1318286         27.2   \n",
       "3   1993        33        0                  0         1323961         27.4   \n",
       "4   1994       127        0                  0         1320737         27.3   \n",
       "5   1995       245        0                  0         1330188         27.7   \n",
       "6   1996       277        0                  0         1408035         27.7   \n",
       "7   1997       290        0                  0         1433522         28.0   \n",
       "8   1998       157        0                  0         1397293         28.1   \n",
       "9   1999       396        0                  0          848528         28.0   \n",
       "10  2000       326        0                  0         1437353         28.1   \n",
       "11  2001       335        0                  0         1385887         28.1   \n",
       "12  2002       318        0                  0         1387405         27.6   \n",
       "13  2003       310        0                  0         1422138         27.5   \n",
       "14  2004       356        0                  0         1487471         27.4   \n",
       "15  2005       627        0                  1         1451054         27.3   \n",
       "16  2006       938        0                  1         1426874         26.8   \n",
       "17  2007       962        0                  1         1476307         26.8   \n",
       "18  2008       857        0                  1         1438306         27.1   \n",
       "19  2009       755        0                  1         1447629         26.9   \n",
       "20  2010       883        0                  1         1434109         27.0   \n",
       "21  2011       600        0                  1         1420795         27.1   \n",
       "22  2012       780        0                  1         1182465         27.0   \n",
       "23  2013       634        0                  1         1415866         27.0   \n",
       "24  2014       679        0                  1         1416514         26.9   \n",
       "25  2015       814        0                  1         1464641         26.9   \n",
       "26  2016       835        1                  1         1429934         27.0   \n",
       "27  2017      1172        1                  1         1452806         26.8   \n",
       "28  2018      1016        1                  1         1464235         26.5   \n",
       "29  2019       866        1                  1         1437272         26.3   \n",
       "30  2020       570        1                  1         1091799         26.0   \n",
       "31  2021      1582        1                  1         1206032         26.0   \n",
       "32  2022      1182        1                  1         1409164         26.1   \n",
       "33  2023       506        1                  1         1300373         26.0   \n",
       "\n",
       "     salary  Games Played  prevYrINJ  Shortened Season  \n",
       "0   1670938          6620         64                 0  \n",
       "1    831623          6620         64                 0  \n",
       "2    954346          6620         66                 0  \n",
       "3   1061758          6620         28                 0  \n",
       "4   1269884          6620         33                 0  \n",
       "5   1360404          6620        127                 0  \n",
       "6   1734345          6620        245                 0  \n",
       "7   1935172          6620        277                 0  \n",
       "8   2121415          6620        290                 0  \n",
       "9   2456729          4100        157                 1  \n",
       "10  2498708          6620        396                 0  \n",
       "11  3236011          6620        326                 0  \n",
       "12  3395648          6620        335                 0  \n",
       "13  3636158          6620        318                 0  \n",
       "14  3650914          6620        310                 0  \n",
       "15  3705740          6620        356                 0  \n",
       "16  3839337          6620        627                 0  \n",
       "17  3793016          6620        938                 0  \n",
       "18  4244496          6620        962                 0  \n",
       "19  4581769          6620        857                 0  \n",
       "20  4476258          6620        755                 0  \n",
       "21  4334884          4096        883                 1  \n",
       "22  4289844          6620        600                 0  \n",
       "23  4239567          6620        780                 0  \n",
       "24  4865642          6620        634                 0  \n",
       "25  4018814          6620        679                 0  \n",
       "26  4441493          6620        814                 0  \n",
       "27  5282659          6620        835                 0  \n",
       "28  6011008          6620       1172                 0  \n",
       "29  8320000          6620       1016                 0  \n",
       "30  7900000          4384        866                 1  \n",
       "31  8500000          4384        570                 1  \n",
       "32  9370000          6620       1582                 0  \n",
       "33  9500000          6620       1182                 0  "
      ]
     },
     "execution_count": 14,
     "metadata": {},
     "output_type": "execute_result"
    }
   ],
   "source": [
    "# Adding feature to account for a shortened season(lockouts and COVID-19 years)\n",
    "df['Shortened Season'] = np.where(df['Year'].isin([1999, 2011, 2020, 2021]), 1, 0)\n",
    "df"
   ]
  },
  {
   "cell_type": "markdown",
   "id": "3081ebc3",
   "metadata": {},
   "source": [
    ">  **To prevent larger values from skewing the model I will be using max-min normalization to set all feature values between 0 and 1**"
   ]
  },
  {
   "cell_type": "code",
   "execution_count": 15,
   "id": "2c8df499",
   "metadata": {
    "scrolled": true
   },
   "outputs": [],
   "source": [
    "from sklearn.preprocessing import MinMaxScaler\n",
    "\n",
    "def min_max_scaling(df):\n",
    "    # copy the dataframe\n",
    "    df_norm = df.copy()\n",
    "    scaling_params = {}\n",
    "    # apply min-max scaling\n",
    "    for column in df_norm.columns:\n",
    "        if column != 'Year':\n",
    "            # Store scaling parameters for each column\n",
    "            min_val = df_norm[column].min()\n",
    "            max_val = df_norm[column].max()\n",
    "            scaling_params[column] = {'min_val': min_val, 'max_val': max_val}\n",
    "            df_norm[column] = (df_norm[column] - df_norm[column].min()) / (df_norm[column].max() - df_norm[column].min())\n",
    "        \n",
    "    return df_norm, scaling_params\n",
    "    \n",
    "# call the min_max_scaling function\n",
    "df, scaling_params = min_max_scaling(df)\n",
    "\n",
    "# df_scaled contains the min-max scaled dataframe\n"
   ]
  },
  {
   "cell_type": "markdown",
   "id": "793b4498",
   "metadata": {},
   "source": [
    "### Feature Correlations\n",
    "<a id=\"24-ft_corr\"></a>"
   ]
  },
  {
   "cell_type": "code",
   "execution_count": 16,
   "id": "021f647e",
   "metadata": {},
   "outputs": [
    {
     "name": "stdout",
     "output_type": "stream",
     "text": [
      "Players feature: 0.5759226257184822\n",
      "Games Played feature: -0.18779444969532771\n",
      "Miles Traveled feature: 0.1662721634969412\n",
      "Shortened Season feature: 0.20502095867354037\n",
      "Average Age feature: -0.6660968044361874\n",
      "salary feature: 0.7378147923008488\n",
      "prevYrINJ feature: 0.7612359273876509\n"
     ]
    }
   ],
   "source": [
    "# calculating the correlation for the two features I will use to train my model\n",
    "features = ['Players', 'Games Played', 'Miles Traveled', 'Shortened Season', 'Average Age', 'salary', 'prevYrINJ']\n",
    "\n",
    "for feature in features:\n",
    "    correlation = df[feature].corr(df['Injuries'])\n",
    "    print(f\"{feature} feature: {correlation}\")\n"
   ]
  },
  {
   "cell_type": "markdown",
   "id": "69911a44",
   "metadata": {},
   "source": [
    "## Model Development"
   ]
  },
  {
   "cell_type": "markdown",
   "id": "458cf6c1",
   "metadata": {},
   "source": [
    "### Training the Model"
   ]
  },
  {
   "cell_type": "code",
   "execution_count": 17,
   "id": "5de268d0",
   "metadata": {},
   "outputs": [
    {
     "data": {
      "text/html": [
       "<div>\n",
       "<style scoped>\n",
       "    .dataframe tbody tr th:only-of-type {\n",
       "        vertical-align: middle;\n",
       "    }\n",
       "\n",
       "    .dataframe tbody tr th {\n",
       "        vertical-align: top;\n",
       "    }\n",
       "\n",
       "    .dataframe thead th {\n",
       "        text-align: right;\n",
       "    }\n",
       "</style>\n",
       "<table border=\"1\" class=\"dataframe\">\n",
       "  <thead>\n",
       "    <tr style=\"text-align: right;\">\n",
       "      <th></th>\n",
       "      <th>Year</th>\n",
       "      <th>Injuries</th>\n",
       "      <th>Players</th>\n",
       "      <th>isleagueExpansion</th>\n",
       "      <th>Miles Traveled</th>\n",
       "      <th>Average Age</th>\n",
       "      <th>salary</th>\n",
       "      <th>Games Played</th>\n",
       "      <th>prevYrINJ</th>\n",
       "      <th>Shortened Season</th>\n",
       "    </tr>\n",
       "  </thead>\n",
       "  <tbody>\n",
       "    <tr>\n",
       "      <th>0</th>\n",
       "      <td>1990</td>\n",
       "      <td>0.023166</td>\n",
       "      <td>0.0</td>\n",
       "      <td>0.0</td>\n",
       "      <td>0.694228</td>\n",
       "      <td>0.523810</td>\n",
       "      <td>0.096825</td>\n",
       "      <td>1.0</td>\n",
       "      <td>0.023166</td>\n",
       "      <td>0.0</td>\n",
       "    </tr>\n",
       "    <tr>\n",
       "      <th>1</th>\n",
       "      <td>1991</td>\n",
       "      <td>0.024453</td>\n",
       "      <td>0.0</td>\n",
       "      <td>0.0</td>\n",
       "      <td>0.663674</td>\n",
       "      <td>0.571429</td>\n",
       "      <td>0.000000</td>\n",
       "      <td>1.0</td>\n",
       "      <td>0.023166</td>\n",
       "      <td>0.0</td>\n",
       "    </tr>\n",
       "    <tr>\n",
       "      <th>2</th>\n",
       "      <td>1992</td>\n",
       "      <td>0.000000</td>\n",
       "      <td>0.0</td>\n",
       "      <td>0.0</td>\n",
       "      <td>0.735211</td>\n",
       "      <td>0.571429</td>\n",
       "      <td>0.014158</td>\n",
       "      <td>1.0</td>\n",
       "      <td>0.024453</td>\n",
       "      <td>0.0</td>\n",
       "    </tr>\n",
       "    <tr>\n",
       "      <th>3</th>\n",
       "      <td>1993</td>\n",
       "      <td>0.003218</td>\n",
       "      <td>0.0</td>\n",
       "      <td>0.0</td>\n",
       "      <td>0.744093</td>\n",
       "      <td>0.666667</td>\n",
       "      <td>0.026549</td>\n",
       "      <td>1.0</td>\n",
       "      <td>0.000000</td>\n",
       "      <td>0.0</td>\n",
       "    </tr>\n",
       "    <tr>\n",
       "      <th>4</th>\n",
       "      <td>1994</td>\n",
       "      <td>0.063707</td>\n",
       "      <td>0.0</td>\n",
       "      <td>0.0</td>\n",
       "      <td>0.739047</td>\n",
       "      <td>0.619048</td>\n",
       "      <td>0.050559</td>\n",
       "      <td>1.0</td>\n",
       "      <td>0.003218</td>\n",
       "      <td>0.0</td>\n",
       "    </tr>\n",
       "  </tbody>\n",
       "</table>\n",
       "</div>"
      ],
      "text/plain": [
       "   Year  Injuries  Players  isleagueExpansion  Miles Traveled  Average Age  \\\n",
       "0  1990  0.023166      0.0                0.0        0.694228     0.523810   \n",
       "1  1991  0.024453      0.0                0.0        0.663674     0.571429   \n",
       "2  1992  0.000000      0.0                0.0        0.735211     0.571429   \n",
       "3  1993  0.003218      0.0                0.0        0.744093     0.666667   \n",
       "4  1994  0.063707      0.0                0.0        0.739047     0.619048   \n",
       "\n",
       "     salary  Games Played  prevYrINJ  Shortened Season  \n",
       "0  0.096825           1.0   0.023166               0.0  \n",
       "1  0.000000           1.0   0.023166               0.0  \n",
       "2  0.014158           1.0   0.024453               0.0  \n",
       "3  0.026549           1.0   0.000000               0.0  \n",
       "4  0.050559           1.0   0.003218               0.0  "
      ]
     },
     "execution_count": 17,
     "metadata": {},
     "output_type": "execute_result"
    }
   ],
   "source": [
    "df.head()"
   ]
  },
  {
   "cell_type": "code",
   "execution_count": 18,
   "id": "1543fb3d",
   "metadata": {},
   "outputs": [
    {
     "name": "stdout",
     "output_type": "stream",
     "text": [
      "(34, 10)\n"
     ]
    },
    {
     "data": {
      "text/plain": [
       "(26, 7)"
      ]
     },
     "execution_count": 18,
     "metadata": {},
     "output_type": "execute_result"
    }
   ],
   "source": [
    "#Using Linear Regression function to fit our model\n",
    "train_data = df[:26]\n",
    "\n",
    "X_train = np.array(train_data[['Players', 'Games Played', 'Miles Traveled', 'Shortened Season', 'Average Age', 'salary', 'prevYrINJ']])\n",
    "y_train = train_data['Injuries']\n",
    "reg = LinearRegression()\n",
    "\n",
    "\n",
    "fit_model = reg.fit(X_train, y_train)\n",
    "print(df.shape)\n",
    "X_train.shape\n"
   ]
  },
  {
   "cell_type": "code",
   "execution_count": 19,
   "id": "21a575e5",
   "metadata": {},
   "outputs": [
    {
     "name": "stdout",
     "output_type": "stream",
     "text": [
      "The Weight of feature(s): [ 0.00000000e+00  2.15630241e+02  2.24833494e-02  2.15455005e+02\n",
      " -1.60762558e-01  3.09422004e-01  6.78376414e-01]\n"
     ]
    }
   ],
   "source": [
    "# using a scikit-learn attribute, the coef represents the wieghts assigned to different features \n",
    "print(f\"The Weight of feature(s): {fit_model.coef_}\")"
   ]
  },
  {
   "cell_type": "code",
   "execution_count": 20,
   "id": "bca11bce",
   "metadata": {},
   "outputs": [
    {
     "name": "stdout",
     "output_type": "stream",
     "text": [
      "The Bias of the model: -215.52113904070708\n"
     ]
    }
   ],
   "source": [
    "# getting the intercept(bias) for our fitted model\n",
    "print(f\"The Bias of the model: {fit_model.intercept_}\")"
   ]
  },
  {
   "cell_type": "code",
   "execution_count": 53,
   "id": "f50a5b73",
   "metadata": {},
   "outputs": [
    {
     "data": {
      "text/html": [
       "<div>\n",
       "<style scoped>\n",
       "    .dataframe tbody tr th:only-of-type {\n",
       "        vertical-align: middle;\n",
       "    }\n",
       "\n",
       "    .dataframe tbody tr th {\n",
       "        vertical-align: top;\n",
       "    }\n",
       "\n",
       "    .dataframe thead th {\n",
       "        text-align: right;\n",
       "    }\n",
       "</style>\n",
       "<table border=\"1\" class=\"dataframe\">\n",
       "  <thead>\n",
       "    <tr style=\"text-align: right;\">\n",
       "      <th></th>\n",
       "      <th>Year</th>\n",
       "      <th>Injuries</th>\n",
       "      <th>Players</th>\n",
       "      <th>isleagueExpansion</th>\n",
       "      <th>Miles Traveled</th>\n",
       "      <th>Average Age</th>\n",
       "      <th>salary</th>\n",
       "      <th>Games Played</th>\n",
       "      <th>prevYrINJ</th>\n",
       "      <th>Shortened Season</th>\n",
       "      <th>prediction_insample</th>\n",
       "      <th>error</th>\n",
       "      <th>squared_error</th>\n",
       "      <th>abs</th>\n",
       "    </tr>\n",
       "  </thead>\n",
       "  <tbody>\n",
       "    <tr>\n",
       "      <th>0</th>\n",
       "      <td>1990</td>\n",
       "      <td>64.0</td>\n",
       "      <td>0.0</td>\n",
       "      <td>0.0</td>\n",
       "      <td>1292100.0</td>\n",
       "      <td>27.1</td>\n",
       "      <td>1670938.0</td>\n",
       "      <td>6620.0</td>\n",
       "      <td>64.0</td>\n",
       "      <td>0.0</td>\n",
       "      <td>0.086177</td>\n",
       "      <td>0.063011</td>\n",
       "      <td>0.003970</td>\n",
       "      <td>0.063011</td>\n",
       "    </tr>\n",
       "    <tr>\n",
       "      <th>1</th>\n",
       "      <td>1991</td>\n",
       "      <td>66.0</td>\n",
       "      <td>0.0</td>\n",
       "      <td>0.0</td>\n",
       "      <td>1272578.0</td>\n",
       "      <td>27.2</td>\n",
       "      <td>831623.0</td>\n",
       "      <td>6620.0</td>\n",
       "      <td>64.0</td>\n",
       "      <td>0.0</td>\n",
       "      <td>0.047875</td>\n",
       "      <td>0.023422</td>\n",
       "      <td>0.000549</td>\n",
       "      <td>0.023422</td>\n",
       "    </tr>\n",
       "    <tr>\n",
       "      <th>2</th>\n",
       "      <td>1992</td>\n",
       "      <td>28.0</td>\n",
       "      <td>0.0</td>\n",
       "      <td>0.0</td>\n",
       "      <td>1318286.0</td>\n",
       "      <td>27.2</td>\n",
       "      <td>954346.0</td>\n",
       "      <td>6620.0</td>\n",
       "      <td>66.0</td>\n",
       "      <td>0.0</td>\n",
       "      <td>0.054737</td>\n",
       "      <td>0.054737</td>\n",
       "      <td>0.002996</td>\n",
       "      <td>0.054737</td>\n",
       "    </tr>\n",
       "    <tr>\n",
       "      <th>3</th>\n",
       "      <td>1993</td>\n",
       "      <td>33.0</td>\n",
       "      <td>0.0</td>\n",
       "      <td>0.0</td>\n",
       "      <td>1323961.0</td>\n",
       "      <td>27.4</td>\n",
       "      <td>1061758.0</td>\n",
       "      <td>6620.0</td>\n",
       "      <td>28.0</td>\n",
       "      <td>0.0</td>\n",
       "      <td>0.026872</td>\n",
       "      <td>0.023654</td>\n",
       "      <td>0.000560</td>\n",
       "      <td>0.023654</td>\n",
       "    </tr>\n",
       "    <tr>\n",
       "      <th>4</th>\n",
       "      <td>1994</td>\n",
       "      <td>127.0</td>\n",
       "      <td>0.0</td>\n",
       "      <td>0.0</td>\n",
       "      <td>1320737.0</td>\n",
       "      <td>27.3</td>\n",
       "      <td>1269884.0</td>\n",
       "      <td>6620.0</td>\n",
       "      <td>33.0</td>\n",
       "      <td>0.0</td>\n",
       "      <td>0.044025</td>\n",
       "      <td>-0.019681</td>\n",
       "      <td>0.000387</td>\n",
       "      <td>0.019681</td>\n",
       "    </tr>\n",
       "  </tbody>\n",
       "</table>\n",
       "</div>"
      ],
      "text/plain": [
       "   Year  Injuries  Players  isleagueExpansion  Miles Traveled  Average Age  \\\n",
       "0  1990      64.0      0.0                0.0       1292100.0         27.1   \n",
       "1  1991      66.0      0.0                0.0       1272578.0         27.2   \n",
       "2  1992      28.0      0.0                0.0       1318286.0         27.2   \n",
       "3  1993      33.0      0.0                0.0       1323961.0         27.4   \n",
       "4  1994     127.0      0.0                0.0       1320737.0         27.3   \n",
       "\n",
       "      salary  Games Played  prevYrINJ  Shortened Season  prediction_insample  \\\n",
       "0  1670938.0        6620.0       64.0               0.0             0.086177   \n",
       "1   831623.0        6620.0       64.0               0.0             0.047875   \n",
       "2   954346.0        6620.0       66.0               0.0             0.054737   \n",
       "3  1061758.0        6620.0       28.0               0.0             0.026872   \n",
       "4  1269884.0        6620.0       33.0               0.0             0.044025   \n",
       "\n",
       "      error  squared_error       abs  \n",
       "0  0.063011       0.003970  0.063011  \n",
       "1  0.023422       0.000549  0.023422  \n",
       "2  0.054737       0.002996  0.054737  \n",
       "3  0.023654       0.000560  0.023654  \n",
       "4 -0.019681       0.000387  0.019681  "
      ]
     },
     "execution_count": 53,
     "metadata": {},
     "output_type": "execute_result"
    }
   ],
   "source": [
    "# Adding our insample prediction for each year to our training data set\n",
    "train_data = train_data.copy()\n",
    "train_data.loc[:, 'prediction_insample'] = fit_model.predict(X_train).copy()\n",
    "train_data.head()"
   ]
  },
  {
   "cell_type": "code",
   "execution_count": 54,
   "id": "945954e1",
   "metadata": {},
   "outputs": [],
   "source": [
    "# Calculating the error, MSE, and ABS error for each year\n",
    "train_data['error'] = train_data.prediction_insample - train_data.Injuries\n",
    "train_data['squared_error'] = train_data['error']**2\n",
    "train_data['abs'] = abs(train_data['error'])"
   ]
  },
  {
   "cell_type": "code",
   "execution_count": 23,
   "id": "5de0d620",
   "metadata": {},
   "outputs": [
    {
     "data": {
      "text/plain": [
       "error            1.016708e-14\n",
       "squared_error    3.690305e-03\n",
       "abs              4.956758e-02\n",
       "dtype: float64"
      ]
     },
     "execution_count": 23,
     "metadata": {},
     "output_type": "execute_result"
    }
   ],
   "source": [
    "train_data[['error', 'squared_error', 'abs']].mean()"
   ]
  },
  {
   "cell_type": "code",
   "execution_count": 24,
   "id": "8ba56b36",
   "metadata": {},
   "outputs": [],
   "source": [
    "# Converting the scaled predictions back to the original scale\n",
    "def value_inverse(df):\n",
    "    df = df.copy()\n",
    "    for column in df.columns:\n",
    "        if column != 'Year':\n",
    "            if column in scaling_params:\n",
    "                min_val = scaling_params[column]['min_val']\n",
    "                max_val = scaling_params[column]['max_val']\n",
    "                df.loc[:, column] = (df[column] * (max_val - min_val)) + min_val\n",
    "            elif column == 'prediction_insample':\n",
    "                # If 'prediction_insample' column, use the scaling parameters of 'Injuries' column\n",
    "                min_val = scaling_params['Injuries']['min_val']\n",
    "                max_val = scaling_params['Injuries']['max_val']\n",
    "                df.loc[:, column] = (df[column] * (max_val - min_val)) + min_val\n",
    "    return df\n",
    "\n",
    "train_data = value_inverse(train_data)\n",
    "\n"
   ]
  },
  {
   "cell_type": "markdown",
   "id": "8eb39a10",
   "metadata": {},
   "source": [
    "### Plotting the Model"
   ]
  },
  {
   "cell_type": "code",
   "execution_count": 25,
   "id": "2f5d04cd",
   "metadata": {},
   "outputs": [
    {
     "data": {
      "text/plain": [
       "<matplotlib.legend.Legend at 0x14430ccd0>"
      ]
     },
     "execution_count": 25,
     "metadata": {},
     "output_type": "execute_result"
    },
    {
     "data": {
      "image/png": "[encoded data removed]",
      "text/plain": [
       "<Figure size 640x480 with 1 Axes>"
      ]
     },
     "metadata": {},
     "output_type": "display_data"
    }
   ],
   "source": [
    "sns.set(style=\"darkgrid\")\n",
    "sns.lineplot(x=train_data['Year'], y=train_data['Injuries'], data=train_data)\n",
    "sns.lineplot(x=train_data['Year'], y=train_data['prediction_insample'], data=train_data)\n",
    "plt.xlabel('Year')\n",
    "plt.ylabel('Number of Injuries')\n",
    "plt.title('Number of Injuries Year by Year')\n",
    "actual_injuries_legend = plt.Line2D([], [], color='blue', label='Actual Injuries')\n",
    "predicted_injuries_legend = plt.Line2D([], [], color='orange', label='Predicted Injuries')\n",
    "plt.legend(handles=[actual_injuries_legend, predicted_injuries_legend])\n",
    "\n"
   ]
  },
  {
   "cell_type": "markdown",
   "id": "0ca10c75",
   "metadata": {},
   "source": [
    "## Model Testing\n",
    "<a id=\"4-MT\"><a>"
   ]
  },
  {
   "cell_type": "code",
   "execution_count": 39,
   "id": "61286b6a",
   "metadata": {},
   "outputs": [],
   "source": [
    "test_data = df[26:]\n",
    " \n",
    "X_test = np.array(test_data[['Players', 'Games Played', 'Miles Traveled', 'Shortened Season', 'Average Age', 'salary', 'prevYrINJ']])\n",
    "y_test = test_data['Injuries']\n"
   ]
  },
  {
   "cell_type": "code",
   "execution_count": 40,
   "id": "e2a49859",
   "metadata": {},
   "outputs": [
    {
     "data": {
      "text/html": [
       "<div>\n",
       "<style scoped>\n",
       "    .dataframe tbody tr th:only-of-type {\n",
       "        vertical-align: middle;\n",
       "    }\n",
       "\n",
       "    .dataframe tbody tr th {\n",
       "        vertical-align: top;\n",
       "    }\n",
       "\n",
       "    .dataframe thead th {\n",
       "        text-align: right;\n",
       "    }\n",
       "</style>\n",
       "<table border=\"1\" class=\"dataframe\">\n",
       "  <thead>\n",
       "    <tr style=\"text-align: right;\">\n",
       "      <th></th>\n",
       "      <th>Year</th>\n",
       "      <th>Injuries</th>\n",
       "      <th>Players</th>\n",
       "      <th>isleagueExpansion</th>\n",
       "      <th>Miles Traveled</th>\n",
       "      <th>Average Age</th>\n",
       "      <th>salary</th>\n",
       "      <th>Games Played</th>\n",
       "      <th>prevYrINJ</th>\n",
       "      <th>Shortened Season</th>\n",
       "      <th>prediction_insample</th>\n",
       "    </tr>\n",
       "  </thead>\n",
       "  <tbody>\n",
       "    <tr>\n",
       "      <th>26</th>\n",
       "      <td>2016</td>\n",
       "      <td>0.519305</td>\n",
       "      <td>1.0</td>\n",
       "      <td>1.0</td>\n",
       "      <td>0.909950</td>\n",
       "      <td>0.476190</td>\n",
       "      <td>0.416441</td>\n",
       "      <td>1.000000</td>\n",
       "      <td>0.505792</td>\n",
       "      <td>0.0</td>\n",
       "      <td>0.524980</td>\n",
       "    </tr>\n",
       "    <tr>\n",
       "      <th>27</th>\n",
       "      <td>2017</td>\n",
       "      <td>0.736165</td>\n",
       "      <td>1.0</td>\n",
       "      <td>1.0</td>\n",
       "      <td>0.945746</td>\n",
       "      <td>0.380952</td>\n",
       "      <td>0.513480</td>\n",
       "      <td>1.000000</td>\n",
       "      <td>0.519305</td>\n",
       "      <td>0.0</td>\n",
       "      <td>0.580289</td>\n",
       "    </tr>\n",
       "    <tr>\n",
       "      <th>28</th>\n",
       "      <td>2018</td>\n",
       "      <td>0.635779</td>\n",
       "      <td>1.0</td>\n",
       "      <td>1.0</td>\n",
       "      <td>0.963634</td>\n",
       "      <td>0.238095</td>\n",
       "      <td>0.597503</td>\n",
       "      <td>1.000000</td>\n",
       "      <td>0.736165</td>\n",
       "      <td>0.0</td>\n",
       "      <td>0.776768</td>\n",
       "    </tr>\n",
       "    <tr>\n",
       "      <th>29</th>\n",
       "      <td>2019</td>\n",
       "      <td>0.539254</td>\n",
       "      <td>1.0</td>\n",
       "      <td>1.0</td>\n",
       "      <td>0.921434</td>\n",
       "      <td>0.142857</td>\n",
       "      <td>0.863873</td>\n",
       "      <td>1.000000</td>\n",
       "      <td>0.635779</td>\n",
       "      <td>0.0</td>\n",
       "      <td>0.805451</td>\n",
       "    </tr>\n",
       "    <tr>\n",
       "      <th>30</th>\n",
       "      <td>2020</td>\n",
       "      <td>0.348777</td>\n",
       "      <td>1.0</td>\n",
       "      <td>1.0</td>\n",
       "      <td>0.380740</td>\n",
       "      <td>0.000000</td>\n",
       "      <td>0.815421</td>\n",
       "      <td>0.114105</td>\n",
       "      <td>0.539254</td>\n",
       "      <td>1.0</td>\n",
       "      <td>25.164953</td>\n",
       "    </tr>\n",
       "  </tbody>\n",
       "</table>\n",
       "</div>"
      ],
      "text/plain": [
       "    Year  Injuries  Players  isleagueExpansion  Miles Traveled  Average Age  \\\n",
       "26  2016  0.519305      1.0                1.0        0.909950     0.476190   \n",
       "27  2017  0.736165      1.0                1.0        0.945746     0.380952   \n",
       "28  2018  0.635779      1.0                1.0        0.963634     0.238095   \n",
       "29  2019  0.539254      1.0                1.0        0.921434     0.142857   \n",
       "30  2020  0.348777      1.0                1.0        0.380740     0.000000   \n",
       "\n",
       "      salary  Games Played  prevYrINJ  Shortened Season  prediction_insample  \n",
       "26  0.416441      1.000000   0.505792               0.0             0.524980  \n",
       "27  0.513480      1.000000   0.519305               0.0             0.580289  \n",
       "28  0.597503      1.000000   0.736165               0.0             0.776768  \n",
       "29  0.863873      1.000000   0.635779               0.0             0.805451  \n",
       "30  0.815421      0.114105   0.539254               1.0            25.164953  "
      ]
     },
     "execution_count": 40,
     "metadata": {},
     "output_type": "execute_result"
    }
   ],
   "source": [
    "y_pred = fit_model.predict(X_test)\n",
    "# Adding our insample prediction for each year to our test data set\n",
    "test_data = test_data.copy()\n",
    "test_data.loc[:, 'prediction_insample'] = y_pred.copy()\n",
    "test_data.head()"
   ]
  },
  {
   "cell_type": "code",
   "execution_count": 41,
   "id": "4d67414c",
   "metadata": {},
   "outputs": [],
   "source": [
    "test_data['error'] = test_data.prediction_insample - test_data.Injuries\n",
    "test_data['squared_error'] = test_data['error']**2\n",
    "test_data['abs'] = abs(test_data['error'])\n"
   ]
  },
  {
   "cell_type": "code",
   "execution_count": 42,
   "id": "a4bc80f6",
   "metadata": {},
   "outputs": [
    {
     "data": {
      "text/plain": [
       "count    34.000000\n",
       "mean      0.352676\n",
       "std       0.245394\n",
       "min       0.000000\n",
       "25%       0.171815\n",
       "50%       0.358430\n",
       "75%       0.529923\n",
       "max       1.000000\n",
       "Name: Injuries, dtype: float64"
      ]
     },
     "execution_count": 42,
     "metadata": {},
     "output_type": "execute_result"
    }
   ],
   "source": [
    "df.describe()[\"Injuries\"]"
   ]
  },
  {
   "cell_type": "markdown",
   "id": "abf2c5b7",
   "metadata": {},
   "source": [
    "### Plotting the Test Results\n",
    "<a id=\"4.1-PTR\"><a>"
   ]
  },
  {
   "cell_type": "code",
   "execution_count": 43,
   "id": "077e4bcc",
   "metadata": {},
   "outputs": [],
   "source": [
    "# first let's convert the columns back to their original values \n",
    "test_data = value_inverse(test_data)\n"
   ]
  },
  {
   "cell_type": "code",
   "execution_count": 44,
   "id": "e6af80a6",
   "metadata": {},
   "outputs": [
    {
     "name": "stderr",
     "output_type": "stream",
     "text": [
      "No artists with labels found to put in legend.  Note that artists whose label start with an underscore are ignored when legend() is called with no argument.\n"
     ]
    },
    {
     "data": {
      "image/png": "[encoded data removed]",
      "text/plain": [
       "<Figure size 640x480 with 1 Axes>"
      ]
     },
     "metadata": {},
     "output_type": "display_data"
    }
   ],
   "source": [
    "sns.set(style=\"darkgrid\")\n",
    "sns.lineplot(x=test_data['Year'], y=test_data['Injuries'], data=test_data)\n",
    "sns.lineplot(x=test_data['Year'], y=test_data['prediction_insample'], data=test_data)\n",
    "plt.legend()\n",
    "plt.xlabel('Year')\n",
    "plt.ylabel('Number of Injuries')\n",
    "plt.title('Number of Injuries Year by Year')\n",
    "ax = plt.gca()\n",
    "ax.xaxis.set_major_locator(ticker.MaxNLocator(integer=True))\n",
    "plt.show()\n"
   ]
  },
  {
   "cell_type": "markdown",
   "id": "ff79de6e",
   "metadata": {},
   "source": [
    "> **Outliers appeared in years 2020 and 2021 for the data**  \n",
    "**To combat this, I will be using Huber Regression**"
   ]
  },
  {
   "cell_type": "markdown",
   "id": "6a288fc0",
   "metadata": {},
   "source": [
    "## Outlier Handling\n",
    "<a id=\"5-OH\"><a>"
   ]
  },
  {
   "cell_type": "code",
   "execution_count": 46,
   "id": "8f8e06a4",
   "metadata": {
    "scrolled": true
   },
   "outputs": [
    {
     "name": "stderr",
     "output_type": "stream",
     "text": [
      "/Users/antho/anaconda3/lib/python3.11/site-packages/sklearn/linear_model/_huber.py:342: ConvergenceWarning: lbfgs failed to converge (status=1):\n",
      "STOP: TOTAL NO. of ITERATIONS REACHED LIMIT.\n",
      "\n",
      "Increase the number of iterations (max_iter) or scale the data as shown in:\n",
      "    https://scikit-learn.org/stable/modules/preprocessing.html\n",
      "  self.n_iter_ = _check_optimize_result(\"lbfgs\", opt_res, self.max_iter)\n"
     ]
    }
   ],
   "source": [
    "# I currently have outlier for my 2020 and 2021 predictions\n",
    "# I will attempt to use Huber Regression to account for these outliers \n",
    "from sklearn.linear_model import HuberRegressor\n",
    "huber_dataset = df[26:].copy()\n",
    "X_huber = huber_dataset[[ 'Games Played', 'Shortened Season', 'Miles Traveled', 'Average Age', 'salary', 'prevYrINJ']]\n",
    "y_huber = huber_dataset['Injuries']\n",
    "\n",
    "huber_reg = HuberRegressor()\n",
    "fitted_model = huber_reg.fit(X_huber, y_huber)\n",
    "\n",
    "y_pred = fitted_model.predict(X_huber)\n",
    "\n",
    "huber_dataset['prediction_insample'] = y_pred\n"
   ]
  },
  {
   "cell_type": "code",
   "execution_count": 47,
   "id": "46c08072",
   "metadata": {},
   "outputs": [],
   "source": [
    "huber_dataset['error'] = huber_dataset.prediction_insample - huber_dataset.Injuries\n",
    "huber_dataset['squared_error'] = huber_dataset['error']**2\n",
    "huber_dataset['abs'] = abs(huber_dataset['error'])"
   ]
  },
  {
   "cell_type": "code",
   "execution_count": 48,
   "id": "c43c2ece",
   "metadata": {},
   "outputs": [],
   "source": [
    "# Once again we must revert the values back to there original range: \n",
    "huber_dataset = value_inverse(huber_dataset)"
   ]
  },
  {
   "cell_type": "code",
   "execution_count": 49,
   "id": "98b40e36",
   "metadata": {},
   "outputs": [
    {
     "data": {
      "image/png": "[encoded data removed]",
      "text/plain": [
       "<Figure size 640x480 with 1 Axes>"
      ]
     },
     "metadata": {},
     "output_type": "display_data"
    }
   ],
   "source": [
    "plt.plot(huber_dataset['Year'], huber_dataset['prediction_insample'], 'r-', label='Predicted Data')\n",
    "sns.set(style=\"darkgrid\")\n",
    "sns.lineplot(x='Year', y='Injuries', data=huber_dataset)\n",
    "plt.legend()\n",
    "plt.xlabel('Year')\n",
    "plt.ylabel('Number of Injuries')\n",
    "plt.title('Number of Injuries Year by Year')\n",
    "ax = plt.gca()\n",
    "ax.xaxis.set_major_locator(plt.MaxNLocator(integer=True))\n",
    "plt.show()"
   ]
  },
  {
   "cell_type": "code",
   "execution_count": 50,
   "id": "cc875e25",
   "metadata": {},
   "outputs": [],
   "source": [
    "# give a run down of the features and the coeffecients\n",
    "# (for every thousand mile travelled injuries increased by 2 percent)"
   ]
  },
  {
   "cell_type": "code",
   "execution_count": 51,
   "id": "6f631fa3",
   "metadata": {},
   "outputs": [
    {
     "data": {
      "text/plain": [
       "array([-1.47618981, -0.12072255,  2.75572603,  1.1131208 ,  1.60259519,\n",
       "       -0.24577581])"
      ]
     },
     "execution_count": 51,
     "metadata": {},
     "output_type": "execute_result"
    }
   ],
   "source": [
    "weights = fitted_model.coef_\n",
    "weights"
   ]
  },
  {
   "cell_type": "markdown",
   "id": "1f49ea19",
   "metadata": {},
   "source": [
    "## Conclusion\n",
    "<a id=\"6-Conc\"><a> "
   ]
  },
  {
   "cell_type": "markdown",
   "id": "90abef2f",
   "metadata": {},
   "source": [
    "> **Below is a graph representing the features sorted from most to least important**"
   ]
  },
  {
   "cell_type": "code",
   "execution_count": 52,
   "id": "374f0159",
   "metadata": {},
   "outputs": [
    {
     "data": {
      "image/png": "[encoded data removed]",
      "text/plain": [
       "<Figure size 640x480 with 1 Axes>"
      ]
     },
     "metadata": {},
     "output_type": "display_data"
    }
   ],
   "source": [
    "sort = weights.argsort()\n",
    "plt.barh(X_huber.columns[sort], weights[sort])\n",
    "plt.xlabel(\"Feature Importance\")\n",
    "plt.show()"
   ]
  },
  {
   "cell_type": "markdown",
   "id": "9686965b",
   "metadata": {},
   "source": [
    "### Summary "
   ]
  },
  {
   "cell_type": "markdown",
   "id": "308f6a90",
   "metadata": {},
   "source": [
    "Not Surprisingly the feature that had the largest impact on the total number of injuries was the total miles traveled. As the NBA has expanded and become a global superpower, so to has the demands on athletes grown in terms of their total travel. The next greatest factors were salary and average age. Again not much of a surprise. As the league has grown both in popularity the league has garnered massive revenue. This has allowed for more time and effort to be placed into developing there training staff along with their athletes. Average Age as well, logically holds up. The older the athlete, the more their bodies tend to break down.  \n",
    "\n",
    "The Surprising statistic was to see a negative feature importance for Games Played. It appear as if the weight of the Games Played feature actually skews in the opposite direction. According to the model, the more games that are played, the lower the likelihood of injury, across the league. However, this may not be entirely accurate. It's worth noting that the 2019-2020 and 2020-2021 COVID years could be greatly impacting this value. As those seasons saw both a shortened number of games, while also displaying anomalous values for injuries as many players were sidelined with the virus. "
   ]
  }
 ],
 "metadata": {
  "kernelspec": {
   "display_name": "Python 3 (ipykernel)",
   "language": "python",
   "name": "python3"
  },
  "language_info": {
   "codemirror_mode": {
    "name": "ipython",
    "version": 3
   },
   "file_extension": ".py",
   "mimetype": "text/x-python",
   "name": "python",
   "nbconvert_exporter": "python",
   "pygments_lexer": "ipython3",
   "version": "3.11.3"
  },
  "toc": {
   "base_numbering": 1,
   "nav_menu": {},
   "number_sections": true,
   "sideBar": true,
   "skip_h1_title": false,
   "title_cell": "Table of Contents",
   "title_sidebar": "Contents",
   "toc_cell": false,
   "toc_position": {
    "height": "calc(100% - 180px)",
    "left": "10px",
    "top": "150px",
    "width": "165px"
   },
   "toc_section_display": true,
   "toc_window_display": false
  }
 },
 "nbformat": 4,
 "nbformat_minor": 5
}
